{
 "cells": [
  {
   "cell_type": "code",
   "execution_count": 1,
   "metadata": {},
   "outputs": [],
   "source": [
    "import pandas as pd\n",
    "import numpy as np\n",
    "from sklearn.model_selection import train_test_split\n",
    "\n",
    "# Load the dataset\n",
    "data_m1 = pd.read_excel('data/M1.xlsx')\n",
    "\n",
    "# Features (X) and target (y)\n",
    "X_m1 = data_m1.drop('WPR', axis=1)\n",
    "y_m1 = data_m1['WPR']\n",
    "\n",
    "# Split data into training and testing sets\n",
    "X_train_m1, X_test_m1, y_train_m1, y_test_m1 = train_test_split(X_m1, y_m1, test_size=0.2, random_state=42)\n"
   ]
  },
  {
   "cell_type": "code",
   "execution_count": 2,
   "metadata": {},
   "outputs": [
    {
     "name": "stdout",
     "output_type": "stream",
     "text": [
      "Baseline XGBoost MSE (Train):  0.623058598718014\n",
      "Baseline XGBoost MSE (Test):  0.6420943976217208\n"
     ]
    }
   ],
   "source": [
    "#Baseline model\n",
    "import xgboost as xgb\n",
    "from sklearn.metrics import mean_squared_error\n",
    "\n",
    "# Baseline XGBoost model\n",
    "xg_reg_baseline = xgb.XGBRegressor(objective='reg:squarederror', \n",
    "                                   colsample_bytree=0.3, \n",
    "                                   learning_rate=0.1, \n",
    "                                   max_depth=5, \n",
    "                                   n_estimators=100)\n",
    "xg_reg_baseline.fit(X_train_m1, y_train_m1)\n",
    "\n",
    "# Predictions for training and test sets\n",
    "y_train_pred_baseline = xg_reg_baseline.predict(X_train_m1)\n",
    "y_test_pred_baseline = xg_reg_baseline.predict(X_test_m1)\n",
    "\n",
    "# Evaluate the baseline model\n",
    "mse_train_baseline = mean_squared_error(y_train_m1, y_train_pred_baseline)\n",
    "mse_test_baseline = mean_squared_error(y_test_m1, y_test_pred_baseline)\n",
    "\n",
    "print(\"Baseline XGBoost MSE (Train): \", mse_train_baseline)\n",
    "print(\"Baseline XGBoost MSE (Test): \", mse_test_baseline)\n"
   ]
  },
  {
   "cell_type": "code",
   "execution_count": 3,
   "metadata": {},
   "outputs": [
    {
     "name": "stdout",
     "output_type": "stream",
     "text": [
      "Stopping search: Swarm best objective change less than 1e-08\n",
      "Best Parameters from PSO: [ 0.15904774  3.16678363 52.25852661]\n",
      "Best MSE from PSO: 0.611900692378837\n"
     ]
    }
   ],
   "source": [
    "#PSO Optimization of hyperparameters\n",
    "from pyswarm import pso\n",
    "\n",
    "# Objective function for PSO\n",
    "def pso_objective(params):\n",
    "    learning_rate, max_depth, n_estimators = params\n",
    "    xg_reg = xgb.XGBRegressor(objective='reg:squarederror', \n",
    "                              colsample_bytree=0.3, \n",
    "                              learning_rate=learning_rate, \n",
    "                              max_depth=int(max_depth), \n",
    "                              n_estimators=int(n_estimators))\n",
    "    xg_reg.fit(X_train_m1, y_train_m1)\n",
    "    predictions = xg_reg.predict(X_test_m1)\n",
    "    return mean_squared_error(y_test_m1, predictions)\n",
    "\n",
    "# Define bounds for learning_rate, max_depth, n_estimators\n",
    "bounds = ([0.01, 3, 50], [0.2, 10, 200])\n",
    "\n",
    "# Run PSO\n",
    "best_params, best_mse = pso(pso_objective, bounds[0], bounds[1], swarmsize=50, maxiter=100)\n",
    "\n",
    "print(\"Best Parameters from PSO:\", best_params)\n",
    "print(\"Best MSE from PSO:\", best_mse)\n"
   ]
  },
  {
   "cell_type": "code",
   "execution_count": 4,
   "metadata": {},
   "outputs": [
    {
     "name": "stdout",
     "output_type": "stream",
     "text": [
      " The best solution found:                                                                           \n",
      " [ 0.16391442  4.91699179 51.03343838]\n",
      "\n",
      " Objective function:\n",
      " 0.6167259495562297\n"
     ]
    },
    {
     "data": {
      "image/png": "[encoded data removed]",
      "text/plain": [
       "<Figure size 640x480 with 1 Axes>"
      ]
     },
     "metadata": {},
     "output_type": "display_data"
    },
    {
     "name": "stdout",
     "output_type": "stream",
     "text": [
      "\n",
      "Warning: GA is terminated due to the maximum number of iterations without improvement was met!Best Parameters from GA: [ 0.16391442  4.91699179 51.03343838]\n",
      "Best MSE from GA: 0.6167259495562297\n"
     ]
    }
   ],
   "source": [
    "#Genetic Algorithm Optimization of hyperparameters\n",
    "from geneticalgorithm import geneticalgorithm as ga\n",
    "\n",
    "def ga_objective(params):\n",
    "    learning_rate, max_depth, n_estimators = params\n",
    "    xg_reg = xgb.XGBRegressor(objective='reg:squarederror', \n",
    "                              colsample_bytree=0.3, \n",
    "                              learning_rate=learning_rate, \n",
    "                              max_depth=int(max_depth), \n",
    "                              n_estimators=int(n_estimators))\n",
    "    xg_reg.fit(X_train_m1, y_train_m1)\n",
    "    predictions = xg_reg.predict(X_test_m1)\n",
    "    return mean_squared_error(y_test_m1, predictions)\n",
    "\n",
    "varbound = np.array([[0.01, 0.2], [3, 10], [50, 200]])\n",
    "\n",
    "model = ga(function=ga_objective, \n",
    "           dimension=3, \n",
    "           variable_type='real', \n",
    "           variable_boundaries=varbound,\n",
    "           algorithm_parameters={\n",
    "               'max_num_iteration': 200,  # Fewer iterations\n",
    "               'population_size': 50,    # Smaller population\n",
    "               'mutation_probability': 0.1,\n",
    "               'elit_ratio': 0.01,\n",
    "               'crossover_probability': 0.5,\n",
    "               'parents_portion': 0.3,\n",
    "               'crossover_type':'uniform',\n",
    "               'max_iteration_without_improv': 50})\n",
    "\n",
    "model.run()\n",
    "best_params_ga = model.output_dict['variable']\n",
    "print(\"Best Parameters from GA:\", best_params_ga)\n",
    "print(\"Best MSE from GA:\", model.output_dict['function'])"
   ]
  },
  {
   "cell_type": "code",
   "execution_count": 5,
   "metadata": {},
   "outputs": [],
   "source": [
    "#Train the model with the best hyperparameters from GA\n",
    "# xg_reg_ga = xgb.XGBRegressor(objective='reg:squarederror',\n",
    "#                              colsample_bytree=0.3,\n",
    "#                              learning_rate=best_params_ga[0],\n",
    "#                              max_depth=int(best_params_ga[1]),\n"
   ]
  },
  {
   "cell_type": "code",
   "execution_count": 6,
   "metadata": {},
   "outputs": [
    {
     "name": "stdout",
     "output_type": "stream",
     "text": [
      "Best Parameters from HHO: [ 0.15904768  3.         50.        ]\n"
     ]
    }
   ],
   "source": [
    "from niapy.task import Task\n",
    "from niapy.algorithms.basic import HarrisHawksOptimization\n",
    "from niapy.problems import Problem\n",
    "import numpy as np\n",
    "import xgboost as xgb\n",
    "from sklearn.metrics import mean_squared_error\n",
    "\n",
    "class XGBBenchmark(Problem):\n",
    "    def __init__(self):\n",
    "        # Call the parent class constructor with the dimension, lower, and upper bounds\n",
    "        super().__init__(dimension=3, lower=[0.01, 3, 50], upper=[0.2, 10, 200])\n",
    "        self.X_train = X_train_m1\n",
    "        self.y_train = y_train_m1\n",
    "        self.X_test = X_test_m1\n",
    "        self.y_test = y_test_m1\n",
    "\n",
    "    def _evaluate(self, x):\n",
    "        learning_rate, max_depth, n_estimators = x\n",
    "        xg_reg = xgb.XGBRegressor(objective='reg:squarederror', \n",
    "                                  colsample_bytree=0.3, \n",
    "                                  learning_rate=learning_rate, \n",
    "                                  max_depth=int(max_depth), \n",
    "                                  n_estimators=int(n_estimators))\n",
    "        xg_reg.fit(self.X_train, self.y_train)\n",
    "        predictions = xg_reg.predict(self.X_test)\n",
    "        return mean_squared_error(self.y_test, predictions)\n",
    "\n",
    "# Define the task\n",
    "task = Task(problem=XGBBenchmark(), max_iters=100)\n",
    "\n",
    "# Run the HHO algorithm\n",
    "algorithm = HarrisHawksOptimization(population_size=30)\n",
    "best_params_hho = algorithm.run(task=task)\n",
    "print(\"Best Parameters from HHO:\", best_params_hho[0])\n"
   ]
  },
  {
   "cell_type": "code",
   "execution_count": 7,
   "metadata": {},
   "outputs": [
    {
     "name": "stdout",
     "output_type": "stream",
     "text": [
      "PSO Optimized MSE (Train/Test): 0.6736009306703107 0.611900692378837\n",
      "GA Optimized MSE (Train/Test): 0.6495081085067926 0.6167259495562297\n",
      "HHO Optimized MSE (Train/Test): 0.675810346109813 0.6139867744446434\n"
     ]
    }
   ],
   "source": [
    "def train_and_evaluate(params, X_train, y_train, X_test, y_test):\n",
    "    learning_rate, max_depth, n_estimators = params\n",
    "    model = xgb.XGBRegressor(objective='reg:squarederror', \n",
    "                             colsample_bytree=0.3, \n",
    "                             learning_rate=learning_rate, \n",
    "                             max_depth=int(max_depth), \n",
    "                             n_estimators=int(n_estimators))\n",
    "    model.fit(X_train, y_train)\n",
    "    y_train_pred = model.predict(X_train)\n",
    "    y_test_pred = model.predict(X_test)\n",
    "    mse_train = mean_squared_error(y_train, y_train_pred)\n",
    "    mse_test = mean_squared_error(y_test, y_test_pred)\n",
    "    return mse_train, mse_test, y_train_pred, y_test_pred\n",
    "\n",
    "# Evaluate PSO optimized model\n",
    "mse_train_pso, mse_test_pso, y_train_pred_pso, y_test_pred_pso = train_and_evaluate(best_params, X_train_m1, y_train_m1, X_test_m1, y_test_m1)\n",
    "\n",
    "# Evaluate GA optimized model\n",
    "mse_train_ga, mse_test_ga, y_train_pred_ga, y_test_pred_ga = train_and_evaluate(best_params_ga, X_train_m1, y_train_m1, X_test_m1, y_test_m1)\n",
    "\n",
    "# Evaluate HHO optimized model\n",
    "mse_train_hho, mse_test_hho, y_train_pred_hho, y_test_pred_hho = train_and_evaluate(best_params_hho[0], X_train_m1, y_train_m1, X_test_m1, y_test_m1)\n",
    "\n",
    "# Compare the results\n",
    "print(\"PSO Optimized MSE (Train/Test):\", mse_train_pso, mse_test_pso)\n",
    "print(\"GA Optimized MSE (Train/Test):\", mse_train_ga, mse_test_ga)\n",
    "print(\"HHO Optimized MSE (Train/Test):\", mse_train_hho, mse_test_hho)\n"
   ]
  },
  {
   "cell_type": "code",
   "execution_count": 8,
   "metadata": {},
   "outputs": [],
   "source": [
    "# Save Baseline model predictions\n",
    "baseline_results_train = pd.DataFrame({'GroundTruth': y_train_m1, 'Predictions': y_train_pred_baseline})\n",
    "baseline_results_test = pd.DataFrame({'GroundTruth': y_test_m1, 'Predictions': y_test_pred_baseline})\n",
    "baseline_results_train.to_csv('outputs/XGB_baseline_train_results.csv', index=False)\n",
    "baseline_results_test.to_csv('outputs/XGB_baseline_test_results.csv', index=False)\n",
    "\n",
    "# Save Optimized model predictions (PSO, GA, HHO)\n",
    "optimized_results_train_pso = pd.DataFrame({'GroundTruth': y_train_m1, 'Predictions': y_train_pred_pso})\n",
    "optimized_results_test_pso = pd.DataFrame({'GroundTruth': y_test_m1, 'Predictions': y_test_pred_pso})\n",
    "optimized_results_train_pso.to_excel('outputs/XGB_optimized_train_results_pso.xlsx', index=False)\n",
    "optimized_results_test_pso.to_excel('outputs/XGB_optimized_test_results_pso.xlsx', index=False)\n",
    "\n",
    "optimized_results_train_ga = pd.DataFrame({'GroundTruth': y_train_m1, 'Predictions': y_train_pred_ga})\n",
    "optimized_results_test_ga = pd.DataFrame({'GroundTruth': y_test_m1, 'Predictions': y_test_pred_ga})\n",
    "optimized_results_train_ga.to_excel('outputs/XGB_optimized_train_results_ga.xlsx', index=False)\n",
    "optimized_results_test_ga.to_excel('outputs/XGB_optimized_test_results_ga.xlsx', index=False)\n",
    "\n",
    "optimized_results_train_hho = pd.DataFrame({'GroundTruth': y_train_m1, 'Predictions': y_train_pred_hho})\n",
    "optimized_results_test_hho = pd.DataFrame({'GroundTruth': y_test_m1, 'Predictions': y_test_pred_hho})\n",
    "optimized_results_train_hho.to_excel('outputs/XGB_optimized_train_results_hho.xlsx', index=False)\n",
    "optimized_results_test_hho.to_excel('outputs/XGB_optimized_test_results_hho.xlsx', index=False)\n"
   ]
  },
  {
   "cell_type": "code",
   "execution_count": 9,
   "metadata": {},
   "outputs": [
    {
     "name": "stderr",
     "output_type": "stream",
     "text": [
      "/home/wakili/anaconda3/envs/mlenv/lib/python3.8/site-packages/tqdm/auto.py:21: TqdmWarning: IProgress not found. Please update jupyter and ipywidgets. See https://ipywidgets.readthedocs.io/en/stable/user_install.html\n",
      "  from .autonotebook import tqdm as notebook_tqdm\n",
      "[I 2024-09-01 20:28:43,438] A new study created in memory with name: no-name-bdc399b1-04dc-4889-95ea-5f178bccb982\n",
      "[I 2024-09-01 20:28:43,986] Trial 0 finished with value: 0.6322646871367251 and parameters: {'learning_rate': 0.06196694861198709, 'max_depth': 5, 'n_estimators': 105}. Best is trial 0 with value: 0.6322646871367251.\n",
      "[I 2024-09-01 20:28:47,359] Trial 1 finished with value: 0.782335187870145 and parameters: {'learning_rate': 0.19675034038751726, 'max_depth': 10, 'n_estimators': 176}. Best is trial 0 with value: 0.6322646871367251.\n",
      "[I 2024-09-01 20:28:47,971] Trial 2 finished with value: 0.6679186281738727 and parameters: {'learning_rate': 0.17147481207296877, 'max_depth': 5, 'n_estimators': 106}. Best is trial 0 with value: 0.6322646871367251.\n",
      "[I 2024-09-01 20:28:49,368] Trial 3 finished with value: 0.643804997400329 and parameters: {'learning_rate': 0.11230684676655113, 'max_depth': 4, 'n_estimators': 191}. Best is trial 0 with value: 0.6322646871367251.\n",
      "[I 2024-09-01 20:28:52,867] Trial 4 finished with value: 0.6710179312062216 and parameters: {'learning_rate': 0.05132785540892443, 'max_depth': 10, 'n_estimators': 72}. Best is trial 0 with value: 0.6322646871367251.\n",
      "[I 2024-09-01 20:28:53,570] Trial 5 finished with value: 0.6448736953300286 and parameters: {'learning_rate': 0.14440583769434534, 'max_depth': 5, 'n_estimators': 71}. Best is trial 0 with value: 0.6322646871367251.\n",
      "[I 2024-09-01 20:28:56,227] Trial 6 finished with value: 0.7545721752435417 and parameters: {'learning_rate': 0.18178887436319766, 'max_depth': 8, 'n_estimators': 147}. Best is trial 0 with value: 0.6322646871367251.\n",
      "[I 2024-09-01 20:28:57,047] Trial 7 finished with value: 0.6569867134049804 and parameters: {'learning_rate': 0.12808110120640154, 'max_depth': 6, 'n_estimators': 74}. Best is trial 0 with value: 0.6322646871367251.\n",
      "[I 2024-09-01 20:28:58,757] Trial 8 finished with value: 0.6988023306818657 and parameters: {'learning_rate': 0.16870014083335755, 'max_depth': 6, 'n_estimators': 123}. Best is trial 0 with value: 0.6322646871367251.\n",
      "[I 2024-09-01 20:28:59,407] Trial 9 finished with value: 0.6764223934733314 and parameters: {'learning_rate': 0.1926350842130275, 'max_depth': 5, 'n_estimators': 108}. Best is trial 0 with value: 0.6322646871367251.\n",
      "[I 2024-09-01 20:28:59,932] Trial 10 finished with value: 0.6263934091534521 and parameters: {'learning_rate': 0.06048011276504301, 'max_depth': 3, 'n_estimators': 145}. Best is trial 10 with value: 0.6263934091534521.\n",
      "[I 2024-09-01 20:29:01,992] Trial 11 finished with value: 0.6279234265586319 and parameters: {'learning_rate': 0.05307314019566521, 'max_depth': 3, 'n_estimators': 153}. Best is trial 10 with value: 0.6263934091534521.\n",
      "[I 2024-09-01 20:29:02,764] Trial 12 finished with value: 0.6345477019542728 and parameters: {'learning_rate': 0.019357168002243838, 'max_depth': 3, 'n_estimators': 158}. Best is trial 10 with value: 0.6263934091534521.\n",
      "[I 2024-09-01 20:29:03,533] Trial 13 finished with value: 0.623630506009646 and parameters: {'learning_rate': 0.07718492679391839, 'max_depth': 3, 'n_estimators': 147}. Best is trial 13 with value: 0.623630506009646.\n",
      "[I 2024-09-01 20:29:04,146] Trial 14 finished with value: 0.6268928840754491 and parameters: {'learning_rate': 0.07931308963025065, 'max_depth': 3, 'n_estimators': 137}. Best is trial 13 with value: 0.623630506009646.\n",
      "[I 2024-09-01 20:29:10,272] Trial 15 finished with value: 0.7237443393191991 and parameters: {'learning_rate': 0.08763109995610749, 'max_depth': 8, 'n_estimators': 165}. Best is trial 13 with value: 0.623630506009646.\n",
      "[I 2024-09-01 20:29:13,732] Trial 16 finished with value: 0.6349428483860893 and parameters: {'learning_rate': 0.02113208264559341, 'max_depth': 4, 'n_estimators': 128}. Best is trial 13 with value: 0.623630506009646.\n",
      "[I 2024-09-01 20:29:22,957] Trial 17 finished with value: 0.6395667126824254 and parameters: {'learning_rate': 0.09797516605460471, 'max_depth': 4, 'n_estimators': 186}. Best is trial 13 with value: 0.623630506009646.\n",
      "[I 2024-09-01 20:29:36,629] Trial 18 finished with value: 0.6833958733710266 and parameters: {'learning_rate': 0.04159811291160319, 'max_depth': 8, 'n_estimators': 173}. Best is trial 13 with value: 0.623630506009646.\n",
      "[I 2024-09-01 20:29:42,478] Trial 19 finished with value: 0.6598661115491631 and parameters: {'learning_rate': 0.07512171723914146, 'max_depth': 7, 'n_estimators': 89}. Best is trial 13 with value: 0.623630506009646.\n",
      "[I 2024-09-01 20:29:43,727] Trial 20 finished with value: 0.6241082618537465 and parameters: {'learning_rate': 0.11630031810782349, 'max_depth': 3, 'n_estimators': 138}. Best is trial 13 with value: 0.623630506009646.\n",
      "[I 2024-09-01 20:29:45,306] Trial 21 finished with value: 0.6236278047632318 and parameters: {'learning_rate': 0.11670348717351878, 'max_depth': 3, 'n_estimators': 140}. Best is trial 21 with value: 0.6236278047632318.\n",
      "[I 2024-09-01 20:29:46,073] Trial 22 finished with value: 0.634980048958555 and parameters: {'learning_rate': 0.117295594749506, 'max_depth': 4, 'n_estimators': 127}. Best is trial 21 with value: 0.6236278047632318.\n",
      "[I 2024-09-01 20:29:48,865] Trial 23 finished with value: 0.6248433862563607 and parameters: {'learning_rate': 0.14417165379777003, 'max_depth': 3, 'n_estimators': 136}. Best is trial 21 with value: 0.6236278047632318.\n",
      "[I 2024-09-01 20:29:51,466] Trial 24 finished with value: 0.6368392241587768 and parameters: {'learning_rate': 0.13770444282021707, 'max_depth': 4, 'n_estimators': 112}. Best is trial 21 with value: 0.6236278047632318.\n",
      "[I 2024-09-01 20:29:52,290] Trial 25 finished with value: 0.6254034183682661 and parameters: {'learning_rate': 0.10034183858502553, 'max_depth': 3, 'n_estimators': 164}. Best is trial 21 with value: 0.6236278047632318.\n",
      "[I 2024-09-01 20:29:53,028] Trial 26 finished with value: 0.6231479419219642 and parameters: {'learning_rate': 0.121519327178468, 'max_depth': 4, 'n_estimators': 57}. Best is trial 26 with value: 0.6231479419219642.\n",
      "[I 2024-09-01 20:29:53,372] Trial 27 finished with value: 0.6206264112491303 and parameters: {'learning_rate': 0.15366197158231837, 'max_depth': 4, 'n_estimators': 53}. Best is trial 27 with value: 0.6206264112491303.\n",
      "[I 2024-09-01 20:29:54,162] Trial 28 finished with value: 0.6184491126910729 and parameters: {'learning_rate': 0.1594694209220776, 'max_depth': 4, 'n_estimators': 51}. Best is trial 28 with value: 0.6184491126910729.\n",
      "[I 2024-09-01 20:29:54,784] Trial 29 finished with value: 0.6534909938648014 and parameters: {'learning_rate': 0.156621302193676, 'max_depth': 6, 'n_estimators': 55}. Best is trial 28 with value: 0.6184491126910729.\n",
      "[I 2024-09-01 20:29:56,555] Trial 30 finished with value: 0.6368770760643334 and parameters: {'learning_rate': 0.15528972649054282, 'max_depth': 5, 'n_estimators': 50}. Best is trial 28 with value: 0.6184491126910729.\n",
      "[I 2024-09-01 20:29:57,037] Trial 31 finished with value: 0.6251325490817262 and parameters: {'learning_rate': 0.13132857366222303, 'max_depth': 4, 'n_estimators': 60}. Best is trial 28 with value: 0.6184491126910729.\n",
      "[I 2024-09-01 20:29:57,597] Trial 32 finished with value: 0.653675950146178 and parameters: {'learning_rate': 0.15857547805011218, 'max_depth': 5, 'n_estimators': 90}. Best is trial 28 with value: 0.6184491126910729.\n",
      "[I 2024-09-01 20:29:57,996] Trial 33 finished with value: 0.6230449539708759 and parameters: {'learning_rate': 0.12252188300960523, 'max_depth': 4, 'n_estimators': 63}. Best is trial 28 with value: 0.6184491126910729.\n",
      "[I 2024-09-01 20:29:58,378] Trial 34 finished with value: 0.6248680645555634 and parameters: {'learning_rate': 0.17055789507965294, 'max_depth': 4, 'n_estimators': 65}. Best is trial 28 with value: 0.6184491126910729.\n",
      "[I 2024-09-01 20:29:58,903] Trial 35 finished with value: 0.6426084503877187 and parameters: {'learning_rate': 0.12949118063232623, 'max_depth': 5, 'n_estimators': 84}. Best is trial 28 with value: 0.6184491126910729.\n",
      "[I 2024-09-01 20:29:59,317] Trial 36 finished with value: 0.6371025397623249 and parameters: {'learning_rate': 0.18525302800267748, 'max_depth': 4, 'n_estimators': 80}. Best is trial 28 with value: 0.6184491126910729.\n",
      "[I 2024-09-01 20:29:59,972] Trial 37 finished with value: 0.6832703872793324 and parameters: {'learning_rate': 0.1482440292008334, 'max_depth': 7, 'n_estimators': 62}. Best is trial 28 with value: 0.6184491126910729.\n",
      "[I 2024-09-01 20:30:00,699] Trial 38 finished with value: 0.6358553889362858 and parameters: {'learning_rate': 0.10729056439377413, 'max_depth': 5, 'n_estimators': 50}. Best is trial 28 with value: 0.6184491126910729.\n",
      "[I 2024-09-01 20:30:02,765] Trial 39 finished with value: 0.7558605023218204 and parameters: {'learning_rate': 0.16625369517798427, 'max_depth': 10, 'n_estimators': 97}. Best is trial 28 with value: 0.6184491126910729.\n",
      "[I 2024-09-01 20:30:05,582] Trial 40 finished with value: 0.6624384785605387 and parameters: {'learning_rate': 0.13762630565520032, 'max_depth': 6, 'n_estimators': 71}. Best is trial 28 with value: 0.6184491126910729.\n",
      "[I 2024-09-01 20:30:06,274] Trial 41 finished with value: 0.6254149472467171 and parameters: {'learning_rate': 0.12516844677144104, 'max_depth': 4, 'n_estimators': 59}. Best is trial 28 with value: 0.6184491126910729.\n",
      "[I 2024-09-01 20:30:07,010] Trial 42 finished with value: 0.6388353848609086 and parameters: {'learning_rate': 0.11877273273228206, 'max_depth': 5, 'n_estimators': 66}. Best is trial 28 with value: 0.6184491126910729.\n",
      "[I 2024-09-01 20:30:07,952] Trial 43 finished with value: 0.6283233907559598 and parameters: {'learning_rate': 0.18000039605812, 'max_depth': 4, 'n_estimators': 75}. Best is trial 28 with value: 0.6184491126910729.\n",
      "[I 2024-09-01 20:30:08,762] Trial 44 finished with value: 0.6233584114657647 and parameters: {'learning_rate': 0.1075664302328975, 'max_depth': 3, 'n_estimators': 117}. Best is trial 28 with value: 0.6184491126910729.\n",
      "[I 2024-09-01 20:30:09,356] Trial 45 finished with value: 0.6752857758760916 and parameters: {'learning_rate': 0.09238551014207462, 'max_depth': 9, 'n_estimators': 55}. Best is trial 28 with value: 0.6184491126910729.\n",
      "[I 2024-09-01 20:30:10,916] Trial 46 finished with value: 0.6264783375664145 and parameters: {'learning_rate': 0.10963059480131757, 'max_depth': 4, 'n_estimators': 98}. Best is trial 28 with value: 0.6184491126910729.\n",
      "[I 2024-09-01 20:30:12,985] Trial 47 finished with value: 0.6610837807252254 and parameters: {'learning_rate': 0.14900079909225455, 'max_depth': 5, 'n_estimators': 116}. Best is trial 28 with value: 0.6184491126910729.\n",
      "[I 2024-09-01 20:30:14,330] Trial 48 finished with value: 0.6238499366793167 and parameters: {'learning_rate': 0.13859423689880201, 'max_depth': 3, 'n_estimators': 69}. Best is trial 28 with value: 0.6184491126910729.\n",
      "[I 2024-09-01 20:30:15,153] Trial 49 finished with value: 0.6268397431701273 and parameters: {'learning_rate': 0.12298719609992408, 'max_depth': 4, 'n_estimators': 79}. Best is trial 28 with value: 0.6184491126910729.\n",
      "[I 2024-09-01 20:30:17,996] Trial 50 finished with value: 0.6496647853815404 and parameters: {'learning_rate': 0.1944836030740768, 'max_depth': 3, 'n_estimators': 200}. Best is trial 28 with value: 0.6184491126910729.\n",
      "[I 2024-09-01 20:30:24,943] Trial 51 finished with value: 0.6257100060568889 and parameters: {'learning_rate': 0.09982134574879085, 'max_depth': 3, 'n_estimators': 56}. Best is trial 28 with value: 0.6184491126910729.\n",
      "[I 2024-09-01 20:30:27,843] Trial 52 finished with value: 0.6238704382562156 and parameters: {'learning_rate': 0.08770752844120022, 'max_depth': 3, 'n_estimators': 66}. Best is trial 28 with value: 0.6184491126910729.\n",
      "[I 2024-09-01 20:30:30,481] Trial 53 finished with value: 0.6293299754174604 and parameters: {'learning_rate': 0.11218763607925794, 'max_depth': 4, 'n_estimators': 50}. Best is trial 28 with value: 0.6184491126910729.\n",
      "[I 2024-09-01 20:30:34,224] Trial 54 finished with value: 0.6328763042651219 and parameters: {'learning_rate': 0.1615756192202164, 'max_depth': 3, 'n_estimators': 150}. Best is trial 28 with value: 0.6184491126910729.\n",
      "[I 2024-09-01 20:30:35,745] Trial 55 finished with value: 0.6241979742114728 and parameters: {'learning_rate': 0.10530966017911952, 'max_depth': 3, 'n_estimators': 134}. Best is trial 28 with value: 0.6184491126910729.\n",
      "[I 2024-09-01 20:30:45,302] Trial 56 finished with value: 0.6470315208898999 and parameters: {'learning_rate': 0.1765328202081064, 'max_depth': 4, 'n_estimators': 118}. Best is trial 28 with value: 0.6184491126910729.\n",
      "[I 2024-09-01 20:30:47,051] Trial 57 finished with value: 0.6260060904557162 and parameters: {'learning_rate': 0.06931319478600953, 'max_depth': 3, 'n_estimators': 144}. Best is trial 28 with value: 0.6184491126910729.\n",
      "[I 2024-09-01 20:30:48,787] Trial 58 finished with value: 0.6310237755114556 and parameters: {'learning_rate': 0.13088842123131864, 'max_depth': 4, 'n_estimators': 101}. Best is trial 28 with value: 0.6184491126910729.\n",
      "[I 2024-09-01 20:30:53,431] Trial 59 finished with value: 0.6677948633362536 and parameters: {'learning_rate': 0.11965820689780626, 'max_depth': 5, 'n_estimators': 155}. Best is trial 28 with value: 0.6184491126910729.\n",
      "[I 2024-09-01 20:30:54,093] Trial 60 finished with value: 0.6230303878522977 and parameters: {'learning_rate': 0.0936872790610628, 'max_depth': 3, 'n_estimators': 75}. Best is trial 28 with value: 0.6184491126910729.\n",
      "[I 2024-09-01 20:30:54,850] Trial 61 finished with value: 0.6243146690131182 and parameters: {'learning_rate': 0.09864625385438855, 'max_depth': 3, 'n_estimators': 61}. Best is trial 28 with value: 0.6184491126910729.\n",
      "[I 2024-09-01 20:30:57,415] Trial 62 finished with value: 0.6228868266753432 and parameters: {'learning_rate': 0.09206742389041314, 'max_depth': 3, 'n_estimators': 74}. Best is trial 28 with value: 0.6184491126910729.\n",
      "[I 2024-09-01 20:30:58,271] Trial 63 finished with value: 0.6212259505938961 and parameters: {'learning_rate': 0.08442871393481556, 'max_depth': 4, 'n_estimators': 76}. Best is trial 28 with value: 0.6184491126910729.\n",
      "[I 2024-09-01 20:30:59,210] Trial 64 finished with value: 0.6233717449768593 and parameters: {'learning_rate': 0.08308926189136205, 'max_depth': 4, 'n_estimators': 77}. Best is trial 28 with value: 0.6184491126910729.\n",
      "[I 2024-09-01 20:31:00,290] Trial 65 finished with value: 0.6274088497046115 and parameters: {'learning_rate': 0.06973800613583572, 'max_depth': 4, 'n_estimators': 72}. Best is trial 28 with value: 0.6184491126910729.\n",
      "[I 2024-09-01 20:31:01,471] Trial 66 finished with value: 0.6380816522699966 and parameters: {'learning_rate': 0.09205845087377075, 'max_depth': 5, 'n_estimators': 91}. Best is trial 28 with value: 0.6184491126910729.\n",
      "[I 2024-09-01 20:31:02,423] Trial 67 finished with value: 0.6273921312422998 and parameters: {'learning_rate': 0.05536739413777562, 'max_depth': 4, 'n_estimators': 84}. Best is trial 28 with value: 0.6184491126910729.\n",
      "[I 2024-09-01 20:31:03,809] Trial 68 finished with value: 0.6403557994784657 and parameters: {'learning_rate': 0.03767985050145867, 'max_depth': 6, 'n_estimators': 55}. Best is trial 28 with value: 0.6184491126910729.\n",
      "[I 2024-09-01 20:31:06,181] Trial 69 finished with value: 0.6280132827244923 and parameters: {'learning_rate': 0.07107300090276153, 'max_depth': 4, 'n_estimators': 68}. Best is trial 28 with value: 0.6184491126910729.\n",
      "[I 2024-09-01 20:31:08,760] Trial 70 finished with value: 0.6309021104239629 and parameters: {'learning_rate': 0.08122369880448087, 'max_depth': 5, 'n_estimators': 84}. Best is trial 28 with value: 0.6184491126910729.\n",
      "[I 2024-09-01 20:31:09,847] Trial 71 finished with value: 0.6251889353848918 and parameters: {'learning_rate': 0.09410725894925326, 'max_depth': 3, 'n_estimators': 63}. Best is trial 28 with value: 0.6184491126910729.\n",
      "[I 2024-09-01 20:31:10,497] Trial 72 finished with value: 0.6264231915194702 and parameters: {'learning_rate': 0.08743314439355866, 'max_depth': 3, 'n_estimators': 58}. Best is trial 28 with value: 0.6184491126910729.\n",
      "[I 2024-09-01 20:31:10,869] Trial 73 finished with value: 0.6312555919925916 and parameters: {'learning_rate': 0.06368438490835639, 'max_depth': 3, 'n_estimators': 53}. Best is trial 28 with value: 0.6184491126910729.\n",
      "[I 2024-09-01 20:31:11,707] Trial 74 finished with value: 0.6238282365605123 and parameters: {'learning_rate': 0.10346520333556702, 'max_depth': 4, 'n_estimators': 73}. Best is trial 28 with value: 0.6184491126910729.\n",
      "[I 2024-09-01 20:31:12,265] Trial 75 finished with value: 0.6271455846790719 and parameters: {'learning_rate': 0.11259324019617344, 'max_depth': 4, 'n_estimators': 63}. Best is trial 28 with value: 0.6184491126910729.\n",
      "[I 2024-09-01 20:31:13,271] Trial 76 finished with value: 0.6233332863550232 and parameters: {'learning_rate': 0.15177429405383205, 'max_depth': 3, 'n_estimators': 108}. Best is trial 28 with value: 0.6184491126910729.\n",
      "[I 2024-09-01 20:31:13,781] Trial 77 finished with value: 0.6220956417211051 and parameters: {'learning_rate': 0.14311142543879007, 'max_depth': 3, 'n_estimators': 82}. Best is trial 28 with value: 0.6184491126910729.\n",
      "[I 2024-09-01 20:31:14,643] Trial 78 finished with value: 0.6958618145701766 and parameters: {'learning_rate': 0.1440298217349562, 'max_depth': 7, 'n_estimators': 81}. Best is trial 28 with value: 0.6184491126910729.\n",
      "[I 2024-09-01 20:31:15,083] Trial 79 finished with value: 0.6300168559308761 and parameters: {'learning_rate': 0.13774284428909606, 'max_depth': 4, 'n_estimators': 87}. Best is trial 28 with value: 0.6184491126910729.\n",
      "[I 2024-09-01 20:31:15,459] Trial 80 finished with value: 0.6228989813919582 and parameters: {'learning_rate': 0.15374827927397727, 'max_depth': 3, 'n_estimators': 76}. Best is trial 28 with value: 0.6184491126910729.\n",
      "[I 2024-09-01 20:31:15,787] Trial 81 finished with value: 0.6217574916906361 and parameters: {'learning_rate': 0.16461108437117372, 'max_depth': 3, 'n_estimators': 75}. Best is trial 28 with value: 0.6184491126910729.\n",
      "[I 2024-09-01 20:31:16,515] Trial 82 finished with value: 0.6253059310414775 and parameters: {'learning_rate': 0.16410572718761415, 'max_depth': 3, 'n_estimators': 94}. Best is trial 28 with value: 0.6184491126910729.\n",
      "[I 2024-09-01 20:31:18,447] Trial 83 finished with value: 0.6190259709503784 and parameters: {'learning_rate': 0.17469962434770903, 'max_depth': 3, 'n_estimators': 70}. Best is trial 28 with value: 0.6184491126910729.\n",
      "[I 2024-09-01 20:31:20,099] Trial 84 finished with value: 0.6232628826735415 and parameters: {'learning_rate': 0.1889934379184572, 'max_depth': 3, 'n_estimators': 77}. Best is trial 28 with value: 0.6184491126910729.\n",
      "[I 2024-09-01 20:31:28,213] Trial 85 finished with value: 0.6239933170582321 and parameters: {'learning_rate': 0.19995046489689947, 'max_depth': 3, 'n_estimators': 70}. Best is trial 28 with value: 0.6184491126910729.\n",
      "[I 2024-09-01 20:31:31,728] Trial 86 finished with value: 0.621337892705673 and parameters: {'learning_rate': 0.17280622049562983, 'max_depth': 3, 'n_estimators': 75}. Best is trial 28 with value: 0.6184491126910729.\n",
      "[I 2024-09-01 20:31:35,350] Trial 87 finished with value: 0.6246551412099991 and parameters: {'learning_rate': 0.1718218852077682, 'max_depth': 3, 'n_estimators': 86}. Best is trial 28 with value: 0.6184491126910729.\n",
      "[I 2024-09-01 20:31:39,587] Trial 88 finished with value: 0.6247713791659749 and parameters: {'learning_rate': 0.17372043438760573, 'max_depth': 3, 'n_estimators': 81}. Best is trial 28 with value: 0.6184491126910729.\n",
      "[I 2024-09-01 20:31:44,303] Trial 89 finished with value: 0.6254005723466816 and parameters: {'learning_rate': 0.181066045308245, 'max_depth': 3, 'n_estimators': 67}. Best is trial 28 with value: 0.6184491126910729.\n",
      "[I 2024-09-01 20:31:49,069] Trial 90 finished with value: 0.734477775564722 and parameters: {'learning_rate': 0.15483700391196567, 'max_depth': 9, 'n_estimators': 75}. Best is trial 28 with value: 0.6184491126910729.\n",
      "[I 2024-09-01 20:31:49,308] Trial 91 finished with value: 0.6224582955685806 and parameters: {'learning_rate': 0.16715366390798242, 'max_depth': 3, 'n_estimators': 73}. Best is trial 28 with value: 0.6184491126910729.\n",
      "[I 2024-09-01 20:31:50,860] Trial 92 finished with value: 0.6222214548029359 and parameters: {'learning_rate': 0.1667910154215253, 'max_depth': 3, 'n_estimators': 72}. Best is trial 28 with value: 0.6184491126910729.\n",
      "[I 2024-09-01 20:31:51,542] Trial 93 finished with value: 0.6209730093086866 and parameters: {'learning_rate': 0.16115595376151343, 'max_depth': 3, 'n_estimators': 72}. Best is trial 28 with value: 0.6184491126910729.\n",
      "[I 2024-09-01 20:31:53,757] Trial 94 finished with value: 0.6214202102401665 and parameters: {'learning_rate': 0.16671890098101105, 'max_depth': 3, 'n_estimators': 69}. Best is trial 28 with value: 0.6184491126910729.\n",
      "[I 2024-09-01 20:31:54,453] Trial 95 finished with value: 0.6163870204704163 and parameters: {'learning_rate': 0.15967588152776493, 'max_depth': 3, 'n_estimators': 59}. Best is trial 95 with value: 0.6163870204704163.\n",
      "[I 2024-09-01 20:31:54,953] Trial 96 finished with value: 0.6192982400789454 and parameters: {'learning_rate': 0.16066820672386667, 'max_depth': 3, 'n_estimators': 60}. Best is trial 95 with value: 0.6163870204704163.\n",
      "[I 2024-09-01 20:31:59,547] Trial 97 finished with value: 0.6157543427866279 and parameters: {'learning_rate': 0.16025913224615343, 'max_depth': 3, 'n_estimators': 53}. Best is trial 97 with value: 0.6157543427866279.\n",
      "[I 2024-09-01 20:32:00,523] Trial 98 finished with value: 0.6266495895983736 and parameters: {'learning_rate': 0.1880543202786671, 'max_depth': 4, 'n_estimators': 59}. Best is trial 97 with value: 0.6157543427866279.\n",
      "[I 2024-09-01 20:32:00,782] Trial 99 finished with value: 0.613574746681466 and parameters: {'learning_rate': 0.1599579561639347, 'max_depth': 3, 'n_estimators': 53}. Best is trial 99 with value: 0.613574746681466.\n"
     ]
    },
    {
     "name": "stdout",
     "output_type": "stream",
     "text": [
      "Best Parameters from BBO (Optuna): {'learning_rate': 0.1599579561639347, 'max_depth': 3, 'n_estimators': 53}\n",
      "Best MSE from BBO (Optuna): 0.613574746681466\n"
     ]
    }
   ],
   "source": [
    "import optuna\n",
    "import xgboost as xgb\n",
    "from sklearn.metrics import mean_squared_error\n",
    "from sklearn.model_selection import train_test_split\n",
    "\n",
    "# Define the objective function for Optuna\n",
    "def objective(trial):\n",
    "    # Suggest values for the parameters\n",
    "    learning_rate = trial.suggest_float(\"learning_rate\", 0.01, 0.2)\n",
    "    max_depth = trial.suggest_int(\"max_depth\", 3, 10)\n",
    "    n_estimators = trial.suggest_int(\"n_estimators\", 50, 200)\n",
    "    \n",
    "    # Create and train the model\n",
    "    xg_reg = xgb.XGBRegressor(objective='reg:squarederror', \n",
    "                              colsample_bytree=0.3, \n",
    "                              learning_rate=learning_rate, \n",
    "                              max_depth=max_depth, \n",
    "                              n_estimators=n_estimators)\n",
    "    \n",
    "    xg_reg.fit(X_train_m1, y_train_m1)\n",
    "    \n",
    "    # Predict on the test set\n",
    "    predictions = xg_reg.predict(X_test_m1)\n",
    "    \n",
    "    # Calculate MSE\n",
    "    mse = mean_squared_error(y_test_m1, predictions)\n",
    "    \n",
    "    return mse\n",
    "\n",
    "# Create a study object and optimize the objective function\n",
    "study = optuna.create_study(direction=\"minimize\")\n",
    "study.optimize(objective, n_trials=100)\n",
    "\n",
    "# Best parameters and the corresponding MSE\n",
    "best_params_bbo = study.best_params\n",
    "best_mse_bbo = study.best_value\n",
    "\n",
    "print(\"Best Parameters from BBO (Optuna):\", best_params_bbo)\n",
    "print(\"Best MSE from BBO (Optuna):\", best_mse_bbo)\n"
   ]
  },
  {
   "cell_type": "code",
   "execution_count": 10,
   "metadata": {},
   "outputs": [
    {
     "name": "stdout",
     "output_type": "stream",
     "text": [
      "PSO Optimized MSE (Train/Test): 0.6736009306703107 0.611900692378837\n",
      "GA Optimized MSE (Train/Test): 0.6495081085067926 0.6167259495562297\n",
      "HHO Optimized MSE (Train/Test): 0.675810346109813 0.6139867744446434\n",
      "BBO (Optuna) Optimized MSE (Train/Test): 0.6723477517464906 0.613574746681466\n"
     ]
    }
   ],
   "source": [
    "# Train and evaluate the BBO optimized model\n",
    "mse_train_bbo, mse_test_bbo, y_train_pred_bbo, y_test_pred_bbo = train_and_evaluate(\n",
    "    [best_params_bbo['learning_rate'], best_params_bbo['max_depth'], best_params_bbo['n_estimators']], \n",
    "    X_train_m1, y_train_m1, X_test_m1, y_test_m1\n",
    ")\n",
    "\n",
    "# Compare the results with other models\n",
    "print(\"PSO Optimized MSE (Train/Test):\", mse_train_pso, mse_test_pso)\n",
    "print(\"GA Optimized MSE (Train/Test):\", mse_train_ga, mse_test_ga)\n",
    "print(\"HHO Optimized MSE (Train/Test):\", mse_train_hho, mse_test_hho)\n",
    "print(\"BBO (Optuna) Optimized MSE (Train/Test):\", mse_train_bbo, mse_test_bbo)\n"
   ]
  },
  {
   "cell_type": "code",
   "execution_count": 11,
   "metadata": {},
   "outputs": [],
   "source": [
    "# Save BBO (Optuna) optimized model predictions\n",
    "optimized_results_train_bbo = pd.DataFrame({'GroundTruth': y_train_m1, 'Predictions': y_train_pred_bbo})\n",
    "optimized_results_test_bbo = pd.DataFrame({'GroundTruth': y_test_m1, 'Predictions': y_test_pred_bbo})\n",
    "optimized_results_train_bbo.to_excel('outputs/optimized_train_results_bbo.xlsx', index=False)\n",
    "optimized_results_test_bbo.to_excel('outputs/optimized_test_results_bbo.xlsx', index=False)\n"
   ]
  },
  {
   "cell_type": "code",
   "execution_count": 12,
   "metadata": {},
   "outputs": [
    {
     "name": "stdout",
     "output_type": "stream",
     "text": [
      "Done!\n"
     ]
    }
   ],
   "source": [
    "print(\"Done!\")"
   ]
  }
 ],
 "metadata": {
  "kernelspec": {
   "display_name": "mlenv",
   "language": "python",
   "name": "python3"
  },
  "language_info": {
   "codemirror_mode": {
    "name": "ipython",
    "version": 3
   },
   "file_extension": ".py",
   "mimetype": "text/x-python",
   "name": "python",
   "nbconvert_exporter": "python",
   "pygments_lexer": "ipython3",
   "version": "3.8.18"
  }
 },
 "nbformat": 4,
 "nbformat_minor": 2
}
