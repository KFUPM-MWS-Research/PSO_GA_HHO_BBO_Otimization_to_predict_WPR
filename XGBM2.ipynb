{
 "cells": [
  {
   "cell_type": "code",
   "execution_count": 2,
   "metadata": {},
   "outputs": [],
   "source": [
    "import pandas as pd\n",
    "import numpy as np\n",
    "from sklearn.model_selection import train_test_split\n",
    "\n",
    "# Load the dataset\n",
    "data_m1 = pd.read_excel('data/M2.xlsx')\n",
    "\n",
    "# Features (X) and target (y)\n",
    "X_m1 = data_m1.drop('WPR', axis=1)\n",
    "y_m1 = data_m1['WPR']\n",
    "\n",
    "# Split data into training and testing sets\n",
    "X_train_m1, X_test_m1, y_train_m1, y_test_m1 = train_test_split(X_m1, y_m1, test_size=0.2, random_state=42)\n"
   ]
  },
  {
   "cell_type": "code",
   "execution_count": 3,
   "metadata": {},
   "outputs": [
    {
     "name": "stdout",
     "output_type": "stream",
     "text": [
      "Baseline XGBoost MSE (Train):  0.30808851958306926\n",
      "Baseline XGBoost MSE (Test):  0.35425646964408025\n"
     ]
    }
   ],
   "source": [
    "#Baseline model\n",
    "import xgboost as xgb\n",
    "from sklearn.metrics import mean_squared_error\n",
    "\n",
    "# Baseline XGBoost model\n",
    "xg_reg_baseline = xgb.XGBRegressor(objective='reg:squarederror', \n",
    "                                   colsample_bytree=0.3, \n",
    "                                   learning_rate=0.1, \n",
    "                                   max_depth=5, \n",
    "                                   n_estimators=100)\n",
    "xg_reg_baseline.fit(X_train_m1, y_train_m1)\n",
    "\n",
    "# Predictions for training and test sets\n",
    "y_train_pred_baseline = xg_reg_baseline.predict(X_train_m1)\n",
    "y_test_pred_baseline = xg_reg_baseline.predict(X_test_m1)\n",
    "\n",
    "# Evaluate the baseline model\n",
    "mse_train_baseline = mean_squared_error(y_train_m1, y_train_pred_baseline)\n",
    "mse_test_baseline = mean_squared_error(y_test_m1, y_test_pred_baseline)\n",
    "\n",
    "print(\"Baseline XGBoost MSE (Train): \", mse_train_baseline)\n",
    "print(\"Baseline XGBoost MSE (Test): \", mse_test_baseline)\n"
   ]
  },
  {
   "cell_type": "code",
   "execution_count": 4,
   "metadata": {},
   "outputs": [
    {
     "name": "stdout",
     "output_type": "stream",
     "text": [
      "Stopping search: Swarm best objective change less than 1e-08\n",
      "Best Parameters from PSO: [  0.1191119    5.20029474 102.53759398]\n",
      "Best MSE from PSO: 0.34774526853069915\n"
     ]
    }
   ],
   "source": [
    "#PSO Optimization of hyperparameters\n",
    "from pyswarm import pso\n",
    "\n",
    "# Objective function for PSO\n",
    "def pso_objective(params):\n",
    "    learning_rate, max_depth, n_estimators = params\n",
    "    xg_reg = xgb.XGBRegressor(objective='reg:squarederror', \n",
    "                              colsample_bytree=0.3, \n",
    "                              learning_rate=learning_rate, \n",
    "                              max_depth=int(max_depth), \n",
    "                              n_estimators=int(n_estimators))\n",
    "    xg_reg.fit(X_train_m1, y_train_m1)\n",
    "    predictions = xg_reg.predict(X_test_m1)\n",
    "    return mean_squared_error(y_test_m1, predictions)\n",
    "\n",
    "# Define bounds for learning_rate, max_depth, n_estimators\n",
    "bounds = ([0.01, 3, 50], [0.2, 10, 200])\n",
    "\n",
    "# Run PSO\n",
    "best_params, best_mse = pso(pso_objective, bounds[0], bounds[1], swarmsize=50, maxiter=100)\n",
    "\n",
    "print(\"Best Parameters from PSO:\", best_params)\n",
    "print(\"Best MSE from PSO:\", best_mse)\n"
   ]
  },
  {
   "cell_type": "code",
   "execution_count": 5,
   "metadata": {},
   "outputs": [],
   "source": [
    "#Train the model with the best hyperparameters from PSO\n",
    "# xg_reg_pso = xgb.XGBRegressor(objective='reg:squarederror', \n",
    "#                               colsample_bytree=0.3, \n",
    "#                               learning_rate=best_params[0], \n",
    "#                               max_depth=int(best_params[1]), \n",
    "#                               n_estimators=int(best_params[2]))\n",
    "\n"
   ]
  },
  {
   "cell_type": "code",
   "execution_count": 7,
   "metadata": {},
   "outputs": [
    {
     "name": "stdout",
     "output_type": "stream",
     "text": [
      " The best solution found:                                                                           \n",
      " [ 0.16154885  5.19808917 76.8198839 ]\n",
      "\n",
      " Objective function:\n",
      " 0.35409701517748166\n"
     ]
    },
    {
     "data": {
      "image/png": "[encoded data removed]",
      "text/plain": [
       "<Figure size 640x480 with 1 Axes>"
      ]
     },
     "metadata": {},
     "output_type": "display_data"
    },
    {
     "name": "stdout",
     "output_type": "stream",
     "text": [
      "\n",
      "Warning: GA is terminated due to the maximum number of iterations without improvement was met!Best Parameters from GA: [ 0.16154885  5.19808917 76.8198839 ]\n",
      "Best MSE from GA: 0.35409701517748166\n"
     ]
    }
   ],
   "source": [
    "#Genetic Algorithm Optimization of hyperparameters\n",
    "from geneticalgorithm import geneticalgorithm as ga\n",
    "\n",
    "def ga_objective(params):\n",
    "    learning_rate, max_depth, n_estimators = params\n",
    "    xg_reg = xgb.XGBRegressor(objective='reg:squarederror', \n",
    "                              colsample_bytree=0.3, \n",
    "                              learning_rate=learning_rate, \n",
    "                              max_depth=int(max_depth), \n",
    "                              n_estimators=int(n_estimators))\n",
    "    xg_reg.fit(X_train_m1, y_train_m1)\n",
    "    predictions = xg_reg.predict(X_test_m1)\n",
    "    return mean_squared_error(y_test_m1, predictions)\n",
    "\n",
    "varbound = np.array([[0.01, 0.2], [3, 10], [50, 200]])\n",
    "\n",
    "model = ga(function=ga_objective, \n",
    "           dimension=3, \n",
    "           variable_type='real', \n",
    "           variable_boundaries=varbound,\n",
    "           algorithm_parameters={\n",
    "               'max_num_iteration': 100,  # Fewer iterations\n",
    "               'population_size': 25,    # Smaller population\n",
    "               'mutation_probability': 0.1,\n",
    "               'elit_ratio': 0.01,\n",
    "               'crossover_probability': 0.5,\n",
    "               'parents_portion': 0.3,\n",
    "               'crossover_type':'uniform',\n",
    "               'max_iteration_without_improv': 25})\n",
    "\n",
    "model.run()\n",
    "best_params_ga = model.output_dict['variable']\n",
    "print(\"Best Parameters from GA:\", best_params_ga)\n",
    "print(\"Best MSE from GA:\", model.output_dict['function'])"
   ]
  },
  {
   "cell_type": "code",
   "execution_count": null,
   "metadata": {},
   "outputs": [],
   "source": [
    "#Train the model with the best hyperparameters from GA\n",
    "# xg_reg_ga = xgb.XGBRegressor(objective='reg:squarederror',\n",
    "#                              colsample_bytree=0.3,\n",
    "#                              learning_rate=best_params_ga[0],\n",
    "#                              max_depth=int(best_params_ga[1]),\n"
   ]
  },
  {
   "cell_type": "code",
   "execution_count": 8,
   "metadata": {},
   "outputs": [
    {
     "name": "stdout",
     "output_type": "stream",
     "text": [
      "Best Parameters from HHO: [ 0.12583413  5.77638456 79.94089191]\n"
     ]
    }
   ],
   "source": [
    "from niapy.task import Task\n",
    "from niapy.algorithms.basic import HarrisHawksOptimization\n",
    "from niapy.problems import Problem\n",
    "import numpy as np\n",
    "import xgboost as xgb\n",
    "from sklearn.metrics import mean_squared_error\n",
    "\n",
    "class XGBBenchmark(Problem):\n",
    "    def __init__(self):\n",
    "        # Call the parent class constructor with the dimension, lower, and upper bounds\n",
    "        super().__init__(dimension=3, lower=[0.01, 3, 50], upper=[0.2, 10, 200])\n",
    "        self.X_train = X_train_m1\n",
    "        self.y_train = y_train_m1\n",
    "        self.X_test = X_test_m1\n",
    "        self.y_test = y_test_m1\n",
    "\n",
    "    def _evaluate(self, x):\n",
    "        learning_rate, max_depth, n_estimators = x\n",
    "        xg_reg = xgb.XGBRegressor(objective='reg:squarederror', \n",
    "                                  colsample_bytree=0.3, \n",
    "                                  learning_rate=learning_rate, \n",
    "                                  max_depth=int(max_depth), \n",
    "                                  n_estimators=int(n_estimators))\n",
    "        xg_reg.fit(self.X_train, self.y_train)\n",
    "        predictions = xg_reg.predict(self.X_test)\n",
    "        return mean_squared_error(self.y_test, predictions)\n",
    "\n",
    "# Define the task\n",
    "task = Task(problem=XGBBenchmark(), max_iters=100)\n",
    "\n",
    "# Run the HHO algorithm\n",
    "algorithm = HarrisHawksOptimization(population_size=30)\n",
    "best_params_hho = algorithm.run(task=task)\n",
    "print(\"Best Parameters from HHO:\", best_params_hho[0])\n"
   ]
  },
  {
   "cell_type": "code",
   "execution_count": 9,
   "metadata": {},
   "outputs": [
    {
     "name": "stdout",
     "output_type": "stream",
     "text": [
      "PSO Optimized MSE (Train/Test): 0.296044715448727 0.34774526853069915\n",
      "GA Optimized MSE (Train/Test): 0.28529015105623967 0.35409701517748166\n",
      "HHO Optimized MSE (Train/Test): 0.3027804267601456 0.35018620017175756\n"
     ]
    }
   ],
   "source": [
    "def train_and_evaluate(params, X_train, y_train, X_test, y_test):\n",
    "    learning_rate, max_depth, n_estimators = params\n",
    "    model = xgb.XGBRegressor(objective='reg:squarederror', \n",
    "                             colsample_bytree=0.3, \n",
    "                             learning_rate=learning_rate, \n",
    "                             max_depth=int(max_depth), \n",
    "                             n_estimators=int(n_estimators))\n",
    "    model.fit(X_train, y_train)\n",
    "    y_train_pred = model.predict(X_train)\n",
    "    y_test_pred = model.predict(X_test)\n",
    "    mse_train = mean_squared_error(y_train, y_train_pred)\n",
    "    mse_test = mean_squared_error(y_test, y_test_pred)\n",
    "    return mse_train, mse_test, y_train_pred, y_test_pred\n",
    "\n",
    "# Evaluate PSO optimized model\n",
    "mse_train_pso, mse_test_pso, y_train_pred_pso, y_test_pred_pso = train_and_evaluate(best_params, X_train_m1, y_train_m1, X_test_m1, y_test_m1)\n",
    "\n",
    "# Evaluate GA optimized model\n",
    "mse_train_ga, mse_test_ga, y_train_pred_ga, y_test_pred_ga = train_and_evaluate(best_params_ga, X_train_m1, y_train_m1, X_test_m1, y_test_m1)\n",
    "\n",
    "# Evaluate HHO optimized model\n",
    "mse_train_hho, mse_test_hho, y_train_pred_hho, y_test_pred_hho = train_and_evaluate(best_params_hho[0], X_train_m1, y_train_m1, X_test_m1, y_test_m1)\n",
    "\n",
    "# Compare the results\n",
    "print(\"PSO Optimized MSE (Train/Test):\", mse_train_pso, mse_test_pso)\n",
    "print(\"GA Optimized MSE (Train/Test):\", mse_train_ga, mse_test_ga)\n",
    "print(\"HHO Optimized MSE (Train/Test):\", mse_train_hho, mse_test_hho)\n"
   ]
  },
  {
   "cell_type": "code",
   "execution_count": 10,
   "metadata": {},
   "outputs": [],
   "source": [
    "# Save Baseline model predictions\n",
    "baseline_results_train = pd.DataFrame({'GroundTruth': y_train_m1, 'Predictions': y_train_pred_baseline})\n",
    "baseline_results_test = pd.DataFrame({'GroundTruth': y_test_m1, 'Predictions': y_test_pred_baseline})\n",
    "baseline_results_train.to_csv('outputs/XGB_baseline_train_results.csv', index=False)\n",
    "baseline_results_test.to_csv('outputs/XGB_baseline_test_results.csv', index=False)\n",
    "\n",
    "# Save Optimized model predictions (PSO, GA, HHO)\n",
    "optimized_results_train_pso = pd.DataFrame({'GroundTruth': y_train_m1, 'Predictions': y_train_pred_pso})\n",
    "optimized_results_test_pso = pd.DataFrame({'GroundTruth': y_test_m1, 'Predictions': y_test_pred_pso})\n",
    "optimized_results_train_pso.to_excel('outputs/M2XGB_optimized_train_results_pso.xlsx', index=False)\n",
    "optimized_results_test_pso.to_excel('outputs/M2XGB_optimized_test_results_pso.xlsx', index=False)\n",
    "\n",
    "optimized_results_train_ga = pd.DataFrame({'GroundTruth': y_train_m1, 'Predictions': y_train_pred_ga})\n",
    "optimized_results_test_ga = pd.DataFrame({'GroundTruth': y_test_m1, 'Predictions': y_test_pred_ga})\n",
    "optimized_results_train_ga.to_excel('outputs/M2XGB_optimized_train_results_ga.xlsx', index=False)\n",
    "optimized_results_test_ga.to_excel('outputs/M2XGB_optimized_test_results_ga.xlsx', index=False)\n",
    "\n",
    "optimized_results_train_hho = pd.DataFrame({'GroundTruth': y_train_m1, 'Predictions': y_train_pred_hho})\n",
    "optimized_results_test_hho = pd.DataFrame({'GroundTruth': y_test_m1, 'Predictions': y_test_pred_hho})\n",
    "optimized_results_train_hho.to_excel('outputs/M2XGB_optimized_train_results_hho.xlsx', index=False)\n",
    "optimized_results_test_hho.to_excel('outputs/M2XGB_optimized_test_results_hho.xlsx', index=False)\n"
   ]
  },
  {
   "cell_type": "code",
   "execution_count": 11,
   "metadata": {},
   "outputs": [
    {
     "name": "stderr",
     "output_type": "stream",
     "text": [
      "/home/wakili/anaconda3/envs/mlenv/lib/python3.8/site-packages/tqdm/auto.py:21: TqdmWarning: IProgress not found. Please update jupyter and ipywidgets. See https://ipywidgets.readthedocs.io/en/stable/user_install.html\n",
      "  from .autonotebook import tqdm as notebook_tqdm\n",
      "[I 2024-09-01 07:29:17,116] A new study created in memory with name: no-name-0183f538-b83e-4ec6-ab80-5a07b794e72a\n",
      "[I 2024-09-01 07:29:17,257] Trial 0 finished with value: 0.35984794340198517 and parameters: {'learning_rate': 0.15147852204010637, 'max_depth': 4, 'n_estimators': 72}. Best is trial 0 with value: 0.35984794340198517.\n",
      "[I 2024-09-01 07:29:17,717] Trial 1 finished with value: 0.44868375261598137 and parameters: {'learning_rate': 0.0957917685480718, 'max_depth': 10, 'n_estimators': 121}. Best is trial 0 with value: 0.35984794340198517.\n",
      "[I 2024-09-01 07:29:17,873] Trial 2 finished with value: 0.3980112863133231 and parameters: {'learning_rate': 0.09680989846380543, 'max_depth': 8, 'n_estimators': 66}. Best is trial 0 with value: 0.35984794340198517.\n",
      "[I 2024-09-01 07:29:17,975] Trial 3 finished with value: 0.3733086413523304 and parameters: {'learning_rate': 0.07892971159173409, 'max_depth': 5, 'n_estimators': 77}. Best is trial 0 with value: 0.35984794340198517.\n",
      "[I 2024-09-01 07:29:18,089] Trial 4 finished with value: 0.37496079028404117 and parameters: {'learning_rate': 0.08493107621794947, 'max_depth': 6, 'n_estimators': 71}. Best is trial 0 with value: 0.35984794340198517.\n",
      "[I 2024-09-01 07:29:18,324] Trial 5 finished with value: 0.39227817169881063 and parameters: {'learning_rate': 0.17848187704687393, 'max_depth': 7, 'n_estimators': 119}. Best is trial 0 with value: 0.35984794340198517.\n",
      "[I 2024-09-01 07:29:18,541] Trial 6 finished with value: 0.36012342388986057 and parameters: {'learning_rate': 0.16344372453888903, 'max_depth': 3, 'n_estimators': 148}. Best is trial 0 with value: 0.35984794340198517.\n",
      "[I 2024-09-01 07:29:19,121] Trial 7 finished with value: 0.47221855723677886 and parameters: {'learning_rate': 0.19360571406931615, 'max_depth': 9, 'n_estimators': 120}. Best is trial 0 with value: 0.35984794340198517.\n",
      "[I 2024-09-01 07:29:19,228] Trial 8 finished with value: 0.384775755598451 and parameters: {'learning_rate': 0.14503592373569646, 'max_depth': 3, 'n_estimators': 56}. Best is trial 0 with value: 0.35984794340198517.\n",
      "[I 2024-09-01 07:29:19,383] Trial 9 finished with value: 0.44335232428153415 and parameters: {'learning_rate': 0.019349695998776464, 'max_depth': 3, 'n_estimators': 176}. Best is trial 0 with value: 0.35984794340198517.\n",
      "[I 2024-09-01 07:29:19,524] Trial 10 finished with value: 0.35244896230604916 and parameters: {'learning_rate': 0.12558474963692193, 'max_depth': 5, 'n_estimators': 94}. Best is trial 10 with value: 0.35244896230604916.\n",
      "[I 2024-09-01 07:29:19,696] Trial 11 finished with value: 0.35576577388879643 and parameters: {'learning_rate': 0.12750109858411662, 'max_depth': 5, 'n_estimators': 94}. Best is trial 10 with value: 0.35244896230604916.\n",
      "[I 2024-09-01 07:29:19,835] Trial 12 finished with value: 0.35524993144357464 and parameters: {'learning_rate': 0.12301466707037952, 'max_depth': 5, 'n_estimators': 89}. Best is trial 10 with value: 0.35244896230604916.\n",
      "[I 2024-09-01 07:29:19,990] Trial 13 finished with value: 0.38568547710055695 and parameters: {'learning_rate': 0.05128753156479984, 'max_depth': 6, 'n_estimators': 99}. Best is trial 10 with value: 0.35244896230604916.\n",
      "[I 2024-09-01 07:29:20,126] Trial 14 finished with value: 0.3553219471433794 and parameters: {'learning_rate': 0.12280330996680079, 'max_depth': 5, 'n_estimators': 94}. Best is trial 10 with value: 0.35244896230604916.\n",
      "[I 2024-09-01 07:29:20,367] Trial 15 finished with value: 0.39055112703500655 and parameters: {'learning_rate': 0.1193953582376916, 'max_depth': 7, 'n_estimators': 149}. Best is trial 10 with value: 0.35244896230604916.\n",
      "[I 2024-09-01 07:29:20,563] Trial 16 finished with value: 0.3621824813952596 and parameters: {'learning_rate': 0.07294963658183738, 'max_depth': 4, 'n_estimators': 199}. Best is trial 10 with value: 0.35244896230604916.\n",
      "[I 2024-09-01 07:29:20,659] Trial 17 finished with value: 0.4619766381143523 and parameters: {'learning_rate': 0.053044176516500834, 'max_depth': 4, 'n_estimators': 50}. Best is trial 10 with value: 0.35244896230604916.\n",
      "[I 2024-09-01 07:29:20,922] Trial 18 finished with value: 0.3661056005417359 and parameters: {'learning_rate': 0.1371551415850767, 'max_depth': 6, 'n_estimators': 105}. Best is trial 10 with value: 0.35244896230604916.\n",
      "[I 2024-09-01 07:29:21,269] Trial 19 finished with value: 0.41574410411724866 and parameters: {'learning_rate': 0.10792705878803305, 'max_depth': 8, 'n_estimators': 144}. Best is trial 10 with value: 0.35244896230604916.\n",
      "[I 2024-09-01 07:29:21,453] Trial 20 finished with value: 0.3615124381160686 and parameters: {'learning_rate': 0.16220454010732305, 'max_depth': 5, 'n_estimators': 83}. Best is trial 10 with value: 0.35244896230604916.\n",
      "[I 2024-09-01 07:29:21,605] Trial 21 finished with value: 0.3544505848577842 and parameters: {'learning_rate': 0.11708580271506229, 'max_depth': 5, 'n_estimators': 94}. Best is trial 10 with value: 0.35244896230604916.\n",
      "[I 2024-09-01 07:29:21,720] Trial 22 finished with value: 0.3595631717691769 and parameters: {'learning_rate': 0.10936781123545888, 'max_depth': 4, 'n_estimators': 89}. Best is trial 10 with value: 0.35244896230604916.\n",
      "[I 2024-09-01 07:29:21,892] Trial 23 finished with value: 0.3562324895499813 and parameters: {'learning_rate': 0.13449454235792468, 'max_depth': 5, 'n_estimators': 106}. Best is trial 10 with value: 0.35244896230604916.\n",
      "[I 2024-09-01 07:29:22,108] Trial 24 finished with value: 0.36589762284431954 and parameters: {'learning_rate': 0.11710362236675308, 'max_depth': 6, 'n_estimators': 109}. Best is trial 10 with value: 0.35244896230604916.\n",
      "[I 2024-09-01 07:29:22,435] Trial 25 finished with value: 0.3735603752293714 and parameters: {'learning_rate': 0.06323762696355006, 'max_depth': 7, 'n_estimators': 138}. Best is trial 10 with value: 0.35244896230604916.\n",
      "[I 2024-09-01 07:29:22,612] Trial 26 finished with value: 0.3569651669427743 and parameters: {'learning_rate': 0.15090801715422422, 'max_depth': 4, 'n_estimators': 133}. Best is trial 10 with value: 0.35244896230604916.\n",
      "[I 2024-09-01 07:29:22,742] Trial 27 finished with value: 0.36867631253865596 and parameters: {'learning_rate': 0.09217843714956639, 'max_depth': 5, 'n_estimators': 83}. Best is trial 10 with value: 0.35244896230604916.\n",
      "[I 2024-09-01 07:29:22,849] Trial 28 finished with value: 0.37138969854367426 and parameters: {'learning_rate': 0.16898009187377763, 'max_depth': 6, 'n_estimators': 60}. Best is trial 10 with value: 0.35244896230604916.\n",
      "[I 2024-09-01 07:29:22,938] Trial 29 finished with value: 0.35805275489148436 and parameters: {'learning_rate': 0.14077896797366168, 'max_depth': 4, 'n_estimators': 75}. Best is trial 10 with value: 0.35244896230604916.\n",
      "[I 2024-09-01 07:29:23,044] Trial 30 finished with value: 0.36144380459092723 and parameters: {'learning_rate': 0.10491024754891493, 'max_depth': 4, 'n_estimators': 109}. Best is trial 10 with value: 0.35244896230604916.\n",
      "[I 2024-09-01 07:29:23,161] Trial 31 finished with value: 0.3557130366655467 and parameters: {'learning_rate': 0.12074355569520694, 'max_depth': 5, 'n_estimators': 91}. Best is trial 10 with value: 0.35244896230604916.\n",
      "[I 2024-09-01 07:29:23,283] Trial 32 finished with value: 0.35464352987603764 and parameters: {'learning_rate': 0.1273256889300346, 'max_depth': 5, 'n_estimators': 98}. Best is trial 10 with value: 0.35244896230604916.\n",
      "[I 2024-09-01 07:29:23,408] Trial 33 finished with value: 0.3595439648418916 and parameters: {'learning_rate': 0.15339719653263778, 'max_depth': 6, 'n_estimators': 82}. Best is trial 10 with value: 0.35244896230604916.\n",
      "[I 2024-09-01 07:29:23,507] Trial 34 finished with value: 0.3687455099114261 and parameters: {'learning_rate': 0.10030590904500233, 'max_depth': 5, 'n_estimators': 67}. Best is trial 10 with value: 0.35244896230604916.\n",
      "[I 2024-09-01 07:29:23,910] Trial 35 finished with value: 0.4735288898538988 and parameters: {'learning_rate': 0.13109361576503187, 'max_depth': 10, 'n_estimators': 126}. Best is trial 10 with value: 0.35244896230604916.\n",
      "[I 2024-09-01 07:29:24,136] Trial 36 finished with value: 0.3592898318837463 and parameters: {'learning_rate': 0.09052287765882891, 'max_depth': 5, 'n_estimators': 114}. Best is trial 10 with value: 0.35244896230604916.\n",
      "[I 2024-09-01 07:29:24,331] Trial 37 finished with value: 0.3990907216139191 and parameters: {'learning_rate': 0.11531035036122751, 'max_depth': 8, 'n_estimators': 97}. Best is trial 10 with value: 0.35244896230604916.\n",
      "[I 2024-09-01 07:29:24,465] Trial 38 finished with value: 0.38119571050490025 and parameters: {'learning_rate': 0.1517983866904051, 'max_depth': 7, 'n_estimators': 72}. Best is trial 10 with value: 0.35244896230604916.\n",
      "[I 2024-09-01 07:29:24,560] Trial 39 finished with value: 0.3721777817171514 and parameters: {'learning_rate': 0.17673456319493802, 'max_depth': 3, 'n_estimators': 102}. Best is trial 10 with value: 0.35244896230604916.\n",
      "[I 2024-09-01 07:29:24,757] Trial 40 finished with value: 0.36182420048213304 and parameters: {'learning_rate': 0.07897815560802568, 'max_depth': 6, 'n_estimators': 161}. Best is trial 10 with value: 0.35244896230604916.\n",
      "[I 2024-09-01 07:29:24,881] Trial 41 finished with value: 0.3516877377644093 and parameters: {'learning_rate': 0.12646417181003783, 'max_depth': 5, 'n_estimators': 90}. Best is trial 41 with value: 0.3516877377644093.\n",
      "[I 2024-09-01 07:29:24,996] Trial 42 finished with value: 0.35536601221432634 and parameters: {'learning_rate': 0.1296636727017769, 'max_depth': 5, 'n_estimators': 86}. Best is trial 41 with value: 0.3516877377644093.\n",
      "[I 2024-09-01 07:29:25,110] Trial 43 finished with value: 0.3594535966920079 and parameters: {'learning_rate': 0.14373794738479037, 'max_depth': 4, 'n_estimators': 115}. Best is trial 41 with value: 0.3516877377644093.\n",
      "[I 2024-09-01 07:29:25,252] Trial 44 finished with value: 0.3556611887649705 and parameters: {'learning_rate': 0.11038134254757648, 'max_depth': 5, 'n_estimators': 124}. Best is trial 41 with value: 0.3516877377644093.\n",
      "[I 2024-09-01 07:29:25,376] Trial 45 finished with value: 0.36531993777926264 and parameters: {'learning_rate': 0.12643927427349783, 'max_depth': 6, 'n_estimators': 75}. Best is trial 41 with value: 0.3516877377644093.\n",
      "[I 2024-09-01 07:29:25,458] Trial 46 finished with value: 0.3665021079311647 and parameters: {'learning_rate': 0.19983869395740245, 'max_depth': 4, 'n_estimators': 65}. Best is trial 41 with value: 0.3516877377644093.\n",
      "[I 2024-09-01 07:29:25,557] Trial 47 finished with value: 0.37422672761270886 and parameters: {'learning_rate': 0.10055599266076994, 'max_depth': 3, 'n_estimators': 99}. Best is trial 41 with value: 0.3516877377644093.\n",
      "[I 2024-09-01 07:29:25,663] Trial 48 finished with value: 0.36209144397611237 and parameters: {'learning_rate': 0.16053245633597343, 'max_depth': 5, 'n_estimators': 78}. Best is trial 41 with value: 0.3516877377644093.\n",
      "[I 2024-09-01 07:29:25,825] Trial 49 finished with value: 0.3840655448514967 and parameters: {'learning_rate': 0.1396818018620749, 'max_depth': 7, 'n_estimators': 91}. Best is trial 41 with value: 0.3516877377644093.\n",
      "[I 2024-09-01 07:29:25,960] Trial 50 finished with value: 0.43017920707101537 and parameters: {'learning_rate': 0.03235130463189374, 'max_depth': 6, 'n_estimators': 96}. Best is trial 41 with value: 0.3516877377644093.\n",
      "[I 2024-09-01 07:29:26,075] Trial 51 finished with value: 0.35503288271295064 and parameters: {'learning_rate': 0.12396490750268248, 'max_depth': 5, 'n_estimators': 91}. Best is trial 41 with value: 0.3516877377644093.\n",
      "[I 2024-09-01 07:29:26,194] Trial 52 finished with value: 0.35625180650712857 and parameters: {'learning_rate': 0.12378519636439783, 'max_depth': 5, 'n_estimators': 88}. Best is trial 41 with value: 0.3516877377644093.\n",
      "[I 2024-09-01 07:29:26,291] Trial 53 finished with value: 0.3619323713949979 and parameters: {'learning_rate': 0.11287399107739096, 'max_depth': 4, 'n_estimators': 80}. Best is trial 41 with value: 0.3516877377644093.\n",
      "[I 2024-09-01 07:29:26,433] Trial 54 finished with value: 0.3574972125697771 and parameters: {'learning_rate': 0.13413181047696032, 'max_depth': 5, 'n_estimators': 102}. Best is trial 41 with value: 0.3516877377644093.\n",
      "[I 2024-09-01 07:29:26,585] Trial 55 finished with value: 0.37174406198898763 and parameters: {'learning_rate': 0.14722522782695205, 'max_depth': 6, 'n_estimators': 114}. Best is trial 41 with value: 0.3516877377644093.\n",
      "[I 2024-09-01 07:29:26,705] Trial 56 finished with value: 0.35317363399693485 and parameters: {'learning_rate': 0.11957353497840256, 'max_depth': 5, 'n_estimators': 88}. Best is trial 41 with value: 0.3516877377644093.\n",
      "[I 2024-09-01 07:29:26,804] Trial 57 finished with value: 0.3725882741745804 and parameters: {'learning_rate': 0.09635463096868702, 'max_depth': 5, 'n_estimators': 66}. Best is trial 41 with value: 0.3516877377644093.\n",
      "[I 2024-09-01 07:29:26,908] Trial 58 finished with value: 0.3703481958931611 and parameters: {'learning_rate': 0.08672370563970658, 'max_depth': 4, 'n_estimators': 94}. Best is trial 41 with value: 0.3516877377644093.\n",
      "[I 2024-09-01 07:29:27,053] Trial 59 finished with value: 0.35985326671063333 and parameters: {'learning_rate': 0.10486620693149144, 'max_depth': 6, 'n_estimators': 107}. Best is trial 41 with value: 0.3516877377644093.\n",
      "[I 2024-09-01 07:29:27,163] Trial 60 finished with value: 0.35633226574167937 and parameters: {'learning_rate': 0.11901673193555685, 'max_depth': 5, 'n_estimators': 86}. Best is trial 41 with value: 0.3516877377644093.\n",
      "[I 2024-09-01 07:29:27,286] Trial 61 finished with value: 0.35482851434985263 and parameters: {'learning_rate': 0.12738390024530846, 'max_depth': 5, 'n_estimators': 100}. Best is trial 41 with value: 0.3516877377644093.\n",
      "[I 2024-09-01 07:29:27,416] Trial 62 finished with value: 0.3559989425214951 and parameters: {'learning_rate': 0.12787435604554828, 'max_depth': 5, 'n_estimators': 99}. Best is trial 41 with value: 0.3516877377644093.\n",
      "[I 2024-09-01 07:29:27,523] Trial 63 finished with value: 0.35837586795419435 and parameters: {'learning_rate': 0.13611760746043328, 'max_depth': 4, 'n_estimators': 92}. Best is trial 41 with value: 0.3516877377644093.\n",
      "[I 2024-09-01 07:29:27,651] Trial 64 finished with value: 0.35543129552717734 and parameters: {'learning_rate': 0.12072890256722664, 'max_depth': 5, 'n_estimators': 103}. Best is trial 41 with value: 0.3516877377644093.\n",
      "[I 2024-09-01 07:29:27,746] Trial 65 finished with value: 0.3621197740954176 and parameters: {'learning_rate': 0.11287799658979528, 'max_depth': 4, 'n_estimators': 84}. Best is trial 41 with value: 0.3516877377644093.\n",
      "[I 2024-09-01 07:29:27,881] Trial 66 finished with value: 0.3561363246006507 and parameters: {'learning_rate': 0.13320077651228615, 'max_depth': 5, 'n_estimators': 111}. Best is trial 41 with value: 0.3516877377644093.\n",
      "[I 2024-09-01 07:29:28,130] Trial 67 finished with value: 0.3846133535099699 and parameters: {'learning_rate': 0.15652666112595837, 'max_depth': 6, 'n_estimators': 197}. Best is trial 41 with value: 0.3516877377644093.\n",
      "[I 2024-09-01 07:29:28,257] Trial 68 finished with value: 0.3575592449982715 and parameters: {'learning_rate': 0.1434656155494273, 'max_depth': 6, 'n_estimators': 78}. Best is trial 41 with value: 0.3516877377644093.\n",
      "[I 2024-09-01 07:29:28,410] Trial 69 finished with value: 0.35706943957532983 and parameters: {'learning_rate': 0.10492256435978188, 'max_depth': 5, 'n_estimators': 129}. Best is trial 41 with value: 0.3516877377644093.\n",
      "[I 2024-09-01 07:29:28,571] Trial 70 finished with value: 0.39729464484166466 and parameters: {'learning_rate': 0.12345227617700635, 'max_depth': 8, 'n_estimators': 70}. Best is trial 41 with value: 0.3516877377644093.\n",
      "[I 2024-09-01 07:29:28,679] Trial 71 finished with value: 0.3539499856799305 and parameters: {'learning_rate': 0.11635573215735538, 'max_depth': 5, 'n_estimators': 90}. Best is trial 41 with value: 0.3516877377644093.\n",
      "[I 2024-09-01 07:29:28,922] Trial 72 finished with value: 0.422692702989162 and parameters: {'learning_rate': 0.11789481356880839, 'max_depth': 9, 'n_estimators': 94}. Best is trial 41 with value: 0.3516877377644093.\n",
      "[I 2024-09-01 07:29:29,060] Trial 73 finished with value: 0.3639825855134421 and parameters: {'learning_rate': 0.12897617252837706, 'max_depth': 5, 'n_estimators': 119}. Best is trial 41 with value: 0.3516877377644093.\n",
      "[I 2024-09-01 07:29:29,176] Trial 74 finished with value: 0.3534434986178364 and parameters: {'learning_rate': 0.11443423988989261, 'max_depth': 5, 'n_estimators': 89}. Best is trial 41 with value: 0.3516877377644093.\n",
      "[I 2024-09-01 07:29:29,276] Trial 75 finished with value: 0.36323696923844995 and parameters: {'learning_rate': 0.10105008858381662, 'max_depth': 4, 'n_estimators': 104}. Best is trial 41 with value: 0.3516877377644093.\n",
      "[I 2024-09-01 07:29:29,387] Trial 76 finished with value: 0.35402225450292324 and parameters: {'learning_rate': 0.1090655157159747, 'max_depth': 5, 'n_estimators': 86}. Best is trial 41 with value: 0.3516877377644093.\n",
      "[I 2024-09-01 07:29:29,481] Trial 77 finished with value: 0.378668368010329 and parameters: {'learning_rate': 0.10848867766586012, 'max_depth': 6, 'n_estimators': 56}. Best is trial 41 with value: 0.3516877377644093.\n",
      "[I 2024-09-01 07:29:29,587] Trial 78 finished with value: 0.36765592248384626 and parameters: {'learning_rate': 0.09208346726019125, 'max_depth': 5, 'n_estimators': 81}. Best is trial 41 with value: 0.3516877377644093.\n",
      "[I 2024-09-01 07:29:29,681] Trial 79 finished with value: 0.35563414203887234 and parameters: {'learning_rate': 0.1145117195234689, 'max_depth': 5, 'n_estimators': 74}. Best is trial 41 with value: 0.3516877377644093.\n",
      "[I 2024-09-01 07:29:29,776] Trial 80 finished with value: 0.37259701904301473 and parameters: {'learning_rate': 0.0831595435213589, 'max_depth': 4, 'n_estimators': 86}. Best is trial 41 with value: 0.3516877377644093.\n",
      "[I 2024-09-01 07:29:29,894] Trial 81 finished with value: 0.35194291227856545 and parameters: {'learning_rate': 0.11592654203456332, 'max_depth': 5, 'n_estimators': 96}. Best is trial 41 with value: 0.3516877377644093.\n",
      "[I 2024-09-01 07:29:30,020] Trial 82 finished with value: 0.3532839621260861 and parameters: {'learning_rate': 0.10910618360900079, 'max_depth': 5, 'n_estimators': 96}. Best is trial 41 with value: 0.3516877377644093.\n",
      "[I 2024-09-01 07:29:30,137] Trial 83 finished with value: 0.3564395056007458 and parameters: {'learning_rate': 0.10601291657186457, 'max_depth': 5, 'n_estimators': 88}. Best is trial 41 with value: 0.3516877377644093.\n",
      "[I 2024-09-01 07:29:30,275] Trial 84 finished with value: 0.364268139687695 and parameters: {'learning_rate': 0.09683100165222316, 'max_depth': 6, 'n_estimators': 95}. Best is trial 41 with value: 0.3516877377644093.\n",
      "[I 2024-09-01 07:29:30,380] Trial 85 finished with value: 0.35578359220493194 and parameters: {'learning_rate': 0.11041912963566777, 'max_depth': 5, 'n_estimators': 79}. Best is trial 41 with value: 0.3516877377644093.\n",
      "[I 2024-09-01 07:29:30,490] Trial 86 finished with value: 0.3540882441922622 and parameters: {'learning_rate': 0.11633586778696973, 'max_depth': 5, 'n_estimators': 89}. Best is trial 41 with value: 0.3516877377644093.\n",
      "[I 2024-09-01 07:29:30,594] Trial 87 finished with value: 0.3550405144391835 and parameters: {'learning_rate': 0.11585118010441324, 'max_depth': 5, 'n_estimators': 84}. Best is trial 41 with value: 0.3516877377644093.\n",
      "[I 2024-09-01 07:29:30,693] Trial 88 finished with value: 0.3633984377616881 and parameters: {'learning_rate': 0.1014647517903591, 'max_depth': 4, 'n_estimators': 91}. Best is trial 41 with value: 0.3516877377644093.\n",
      "[I 2024-09-01 07:29:30,781] Trial 89 finished with value: 0.3643840189203143 and parameters: {'learning_rate': 0.11985090106593826, 'max_depth': 4, 'n_estimators': 70}. Best is trial 41 with value: 0.3516877377644093.\n",
      "[I 2024-09-01 07:29:30,940] Trial 90 finished with value: 0.3656927744372562 and parameters: {'learning_rate': 0.1382997992326706, 'max_depth': 6, 'n_estimators': 107}. Best is trial 41 with value: 0.3516877377644093.\n",
      "[I 2024-09-01 07:29:31,053] Trial 91 finished with value: 0.35318142004509817 and parameters: {'learning_rate': 0.11181351307995196, 'max_depth': 5, 'n_estimators': 89}. Best is trial 41 with value: 0.3516877377644093.\n",
      "[I 2024-09-01 07:29:31,175] Trial 92 finished with value: 0.35314253552344027 and parameters: {'learning_rate': 0.11180253111169428, 'max_depth': 5, 'n_estimators': 88}. Best is trial 41 with value: 0.3516877377644093.\n",
      "[I 2024-09-01 07:29:31,288] Trial 93 finished with value: 0.3548721413542934 and parameters: {'learning_rate': 0.11083426017037468, 'max_depth': 5, 'n_estimators': 96}. Best is trial 41 with value: 0.3516877377644093.\n",
      "[I 2024-09-01 07:29:31,391] Trial 94 finished with value: 0.35999516335575077 and parameters: {'learning_rate': 0.10506711572536774, 'max_depth': 5, 'n_estimators': 76}. Best is trial 41 with value: 0.3516877377644093.\n",
      "[I 2024-09-01 07:29:31,510] Trial 95 finished with value: 0.3621354673882948 and parameters: {'learning_rate': 0.09876627766192723, 'max_depth': 5, 'n_estimators': 85}. Best is trial 41 with value: 0.3516877377644093.\n",
      "[I 2024-09-01 07:29:31,662] Trial 96 finished with value: 0.36692592528119466 and parameters: {'learning_rate': 0.09179302464900603, 'max_depth': 6, 'n_estimators': 82}. Best is trial 41 with value: 0.3516877377644093.\n",
      "[I 2024-09-01 07:29:31,813] Trial 97 finished with value: 0.35480382073659456 and parameters: {'learning_rate': 0.13173839027302897, 'max_depth': 5, 'n_estimators': 100}. Best is trial 41 with value: 0.3516877377644093.\n",
      "[I 2024-09-01 07:29:31,952] Trial 98 finished with value: 0.36049282187230397 and parameters: {'learning_rate': 0.12296548021032888, 'max_depth': 4, 'n_estimators': 88}. Best is trial 41 with value: 0.3516877377644093.\n",
      "[I 2024-09-01 07:29:32,086] Trial 99 finished with value: 0.3551076238699707 and parameters: {'learning_rate': 0.10855448943124886, 'max_depth': 5, 'n_estimators': 92}. Best is trial 41 with value: 0.3516877377644093.\n"
     ]
    },
    {
     "name": "stdout",
     "output_type": "stream",
     "text": [
      "Best Parameters from BBO (Optuna): {'learning_rate': 0.12646417181003783, 'max_depth': 5, 'n_estimators': 90}\n",
      "Best MSE from BBO (Optuna): 0.3516877377644093\n"
     ]
    }
   ],
   "source": [
    "import optuna\n",
    "import xgboost as xgb\n",
    "from sklearn.metrics import mean_squared_error\n",
    "from sklearn.model_selection import train_test_split\n",
    "\n",
    "# Define the objective function for Optuna\n",
    "def objective(trial):\n",
    "    # Suggest values for the parameters\n",
    "    learning_rate = trial.suggest_float(\"learning_rate\", 0.01, 0.2)\n",
    "    max_depth = trial.suggest_int(\"max_depth\", 3, 10)\n",
    "    n_estimators = trial.suggest_int(\"n_estimators\", 50, 200)\n",
    "    \n",
    "    # Create and train the model\n",
    "    xg_reg = xgb.XGBRegressor(objective='reg:squarederror', \n",
    "                              colsample_bytree=0.3, \n",
    "                              learning_rate=learning_rate, \n",
    "                              max_depth=max_depth, \n",
    "                              n_estimators=n_estimators)\n",
    "    \n",
    "    xg_reg.fit(X_train_m1, y_train_m1)\n",
    "    \n",
    "    # Predict on the test set\n",
    "    predictions = xg_reg.predict(X_test_m1)\n",
    "    \n",
    "    # Calculate MSE\n",
    "    mse = mean_squared_error(y_test_m1, predictions)\n",
    "    \n",
    "    return mse\n",
    "\n",
    "# Create a study object and optimize the objective function\n",
    "study = optuna.create_study(direction=\"minimize\")\n",
    "study.optimize(objective, n_trials=100)\n",
    "\n",
    "# Best parameters and the corresponding MSE\n",
    "best_params_bbo = study.best_params\n",
    "best_mse_bbo = study.best_value\n",
    "\n",
    "print(\"Best Parameters from BBO (Optuna):\", best_params_bbo)\n",
    "print(\"Best MSE from BBO (Optuna):\", best_mse_bbo)\n"
   ]
  },
  {
   "cell_type": "code",
   "execution_count": 12,
   "metadata": {},
   "outputs": [
    {
     "name": "stdout",
     "output_type": "stream",
     "text": [
      "PSO Optimized MSE (Train/Test): 0.296044715448727 0.34774526853069915\n",
      "GA Optimized MSE (Train/Test): 0.28529015105623967 0.35409701517748166\n",
      "HHO Optimized MSE (Train/Test): 0.3027804267601456 0.35018620017175756\n",
      "BBO (Optuna) Optimized MSE (Train/Test): 0.2955155701937141 0.3516877377644093\n"
     ]
    }
   ],
   "source": [
    "# Train and evaluate the BBO optimized model\n",
    "mse_train_bbo, mse_test_bbo, y_train_pred_bbo, y_test_pred_bbo = train_and_evaluate(\n",
    "    [best_params_bbo['learning_rate'], best_params_bbo['max_depth'], best_params_bbo['n_estimators']], \n",
    "    X_train_m1, y_train_m1, X_test_m1, y_test_m1\n",
    ")\n",
    "\n",
    "# Compare the results with other models\n",
    "print(\"PSO Optimized MSE (Train/Test):\", mse_train_pso, mse_test_pso)\n",
    "print(\"GA Optimized MSE (Train/Test):\", mse_train_ga, mse_test_ga)\n",
    "print(\"HHO Optimized MSE (Train/Test):\", mse_train_hho, mse_test_hho)\n",
    "print(\"BBO (Optuna) Optimized MSE (Train/Test):\", mse_train_bbo, mse_test_bbo)\n"
   ]
  },
  {
   "cell_type": "code",
   "execution_count": 13,
   "metadata": {},
   "outputs": [],
   "source": [
    "# Save BBO (Optuna) optimized model predictions\n",
    "optimized_results_train_bbo = pd.DataFrame({'GroundTruth': y_train_m1, 'Predictions': y_train_pred_bbo})\n",
    "optimized_results_test_bbo = pd.DataFrame({'GroundTruth': y_test_m1, 'Predictions': y_test_pred_bbo})\n",
    "optimized_results_train_bbo.to_excel('outputs/M2optimized_train_results_bbo.xlsx', index=False)\n",
    "optimized_results_test_bbo.to_excel('outputs/M2optimized_test_results_bbo.xlsx', index=False)\n"
   ]
  },
  {
   "cell_type": "code",
   "execution_count": null,
   "metadata": {},
   "outputs": [],
   "source": [
    "print(\"Done!\")"
   ]
  },
  {
   "cell_type": "code",
   "execution_count": null,
   "metadata": {},
   "outputs": [],
   "source": []
  }
 ],
 "metadata": {
  "kernelspec": {
   "display_name": "mlenv",
   "language": "python",
   "name": "python3"
  },
  "language_info": {
   "codemirror_mode": {
    "name": "ipython",
    "version": 3
   },
   "file_extension": ".py",
   "mimetype": "text/x-python",
   "name": "python",
   "nbconvert_exporter": "python",
   "pygments_lexer": "ipython3",
   "version": "3.8.18"
  }
 },
 "nbformat": 4,
 "nbformat_minor": 2
}
