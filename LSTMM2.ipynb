{
 "cells": [
  {
   "cell_type": "code",
   "execution_count": 1,
   "metadata": {},
   "outputs": [
    {
     "name": "stdout",
     "output_type": "stream",
     "text": [
      "     effa   effc   effd      mu     T20       win    COP       WPR\n",
      "0   0.000  0.000  0.000  0.0000   0.000  0.002411  0.000  0.000000\n",
      "1   0.000  0.000  0.000  0.0000   0.000  0.002006  0.000  0.000000\n",
      "2   0.000  0.000  0.000  0.0000   0.000  0.002001  0.000  0.000000\n",
      "3   0.000  0.000  0.000  0.0000   0.000  0.002102  0.000  0.000000\n",
      "4   0.000  0.000  0.000  0.0000   0.000  0.002078  0.000  0.000000\n",
      "5   0.000  0.000  0.000  0.0000   0.000  0.002011  0.000  0.000000\n",
      "6   0.000  0.000  0.000  0.0000   0.000  0.001874  0.000  0.000000\n",
      "7   0.000  0.000  0.000  0.0000   0.000  0.001938  0.000  0.000000\n",
      "8   0.689  0.641  0.497  0.1590  -6.700  0.002231  0.698  0.100440\n",
      "9   0.666  0.641  0.478  0.2288 -13.250  0.002167  0.771  1.051920\n",
      "10  0.653  0.641  0.469  0.2544 -16.520  0.002276  0.777  1.505088\n",
      "11  0.648  0.641  0.465  0.2702 -16.210  0.002703  0.777  1.938276\n",
      "12  0.645  0.641  0.462  0.2800 -16.050  0.003149  0.776  2.405268\n",
      "13  0.649  0.641  0.465  0.2815 -13.430  0.003044  0.777  2.019600\n",
      "14  0.660  0.641  0.473  0.2762  -7.745  0.002650  0.776  0.753840\n",
      "15  0.681  0.641  0.490  0.2407   1.062  0.002726  0.738  0.000000\n",
      "16  0.000  0.000  0.000  0.0000   0.000  0.002438  0.000  0.000000\n",
      "17  0.000  0.000  0.000  0.0000   0.000  0.002110  0.000  0.000000\n",
      "18  0.000  0.000  0.000  0.0000   0.000  0.002158  0.000  0.000000\n",
      "19  0.000  0.000  0.000  0.0000   0.000  0.002018  0.000  0.000000\n",
      "X_train_m1 shape: (7008, 7)\n",
      "y_train_m1 shape: (7008,)\n"
     ]
    }
   ],
   "source": [
    "import pandas as pd\n",
    "from sklearn.model_selection import train_test_split\n",
    "from sklearn.ensemble import RandomForestRegressor\n",
    "from sklearn.metrics import mean_squared_error, r2_score\n",
    "\n",
    "# Load the dataset\n",
    "data_m1 = pd.read_excel('data/M2.xlsx')\n",
    "\n",
    "# Features (X) and target (y)\n",
    "X_m1 = data_m1.drop('WPR', axis=1)\n",
    "y_m1 = data_m1['WPR']\n",
    "\n",
    "# Show the first 20 rows of the data\n",
    "print(data_m1.head(20))\n",
    "\n",
    "# Split data into training and testing sets\n",
    "X_train_m1, X_test_m1, y_train_m1, y_test_m1 = train_test_split(X_m1, y_m1, test_size=0.2, random_state=42)\n",
    "\n",
    "print(\"X_train_m1 shape:\", X_train_m1.shape)\n",
    "print(\"y_train_m1 shape:\", y_train_m1.shape)\n"
   ]
  },
  {
   "cell_type": "code",
   "execution_count": 2,
   "metadata": {},
   "outputs": [
    {
     "name": "stderr",
     "output_type": "stream",
     "text": [
      "2024-09-02 16:53:16.653662: I tensorflow/tsl/cuda/cudart_stub.cc:28] Could not find cuda drivers on your machine, GPU will not be used.\n",
      "2024-09-02 16:53:16.922765: I tensorflow/tsl/cuda/cudart_stub.cc:28] Could not find cuda drivers on your machine, GPU will not be used.\n",
      "2024-09-02 16:53:16.925244: I tensorflow/core/platform/cpu_feature_guard.cc:182] This TensorFlow binary is optimized to use available CPU instructions in performance-critical operations.\n",
      "To enable the following instructions: AVX2 FMA, in other operations, rebuild TensorFlow with the appropriate compiler flags.\n",
      "2024-09-02 16:53:20.453874: W tensorflow/compiler/tf2tensorrt/utils/py_utils.cc:38] TF-TRT Warning: Could not find TensorRT\n"
     ]
    },
    {
     "name": "stdout",
     "output_type": "stream",
     "text": [
      "X_train_m1_lstm shape: (7008, 1, 7)\n",
      "X_test_m1_lstm shape: (1752, 1, 7)\n"
     ]
    }
   ],
   "source": [
    "import numpy as np\n",
    "import tensorflow as tf\n",
    "from sklearn.preprocessing import MinMaxScaler\n",
    "from tensorflow.keras.models import Sequential\n",
    "from tensorflow.keras.layers import LSTM, Dense, Dropout\n",
    "\n",
    "\n",
    "# Scale the features\n",
    "scaler = MinMaxScaler(feature_range=(0, 1))\n",
    "X_train_m1_scaled = scaler.fit_transform(X_train_m1)\n",
    "X_test_m1_scaled = scaler.transform(X_test_m1)\n",
    "\n",
    "from sklearn.impute import SimpleImputer\n",
    "\n",
    "imputer = SimpleImputer(strategy='mean')  # You can choose 'median', 'most_frequent', or 'constant'\n",
    "X_train_m1_scaled = imputer.fit_transform(X_train_m1_scaled)\n",
    "X_test_m1_scaled = imputer.transform(X_test_m1_scaled)\n",
    "\n",
    "# Reshape the input to be 3D [samples, timesteps, features]\n",
    "X_train_m1_lstm = np.reshape(X_train_m1_scaled, (X_train_m1_scaled.shape[0], 1, X_train_m1_scaled.shape[1]))\n",
    "X_test_m1_lstm = np.reshape(X_test_m1_scaled, (X_test_m1_scaled.shape[0], 1, X_test_m1_scaled.shape[1]))\n",
    "\n",
    "print(\"X_train_m1_lstm shape:\", X_train_m1_lstm.shape)\n",
    "print(\"X_test_m1_lstm shape:\", X_test_m1_lstm.shape)\n"
   ]
  },
  {
   "cell_type": "code",
   "execution_count": null,
   "metadata": {},
   "outputs": [],
   "source": [
    "\n"
   ]
  },
  {
   "cell_type": "code",
   "execution_count": 3,
   "metadata": {},
   "outputs": [
    {
     "name": "stdout",
     "output_type": "stream",
     "text": [
      "0\n",
      "0\n",
      "0\n",
      "0\n"
     ]
    }
   ],
   "source": [
    "import numpy as np\n",
    "\n",
    "print(np.isnan(X_test_m1_lstm).sum())  # Count NaNs in training features\n",
    "print(np.isnan(X_test_m1_lstm).sum())   # Count NaNs in testing features\n",
    "print(np.isnan(y_train_m1).sum())  # Count NaNs in training labels\n",
    "print(np.isnan(y_test_m1).sum())   # Count NaNs in testing labels\n"
   ]
  },
  {
   "cell_type": "code",
   "execution_count": 4,
   "metadata": {},
   "outputs": [
    {
     "name": "stderr",
     "output_type": "stream",
     "text": [
      "2024-09-02 16:53:24.869825: E tensorflow/compiler/xla/stream_executor/cuda/cuda_driver.cc:268] failed call to cuInit: CUDA_ERROR_NO_DEVICE: no CUDA-capable device is detected\n"
     ]
    },
    {
     "name": "stdout",
     "output_type": "stream",
     "text": [
      "Epoch 1/20\n",
      "219/219 [==============================] - 22s 32ms/step - loss: 0.9121 - val_loss: 0.7287\n",
      "Epoch 2/20\n",
      "219/219 [==============================] - 3s 16ms/step - loss: 0.7901 - val_loss: 0.6417\n",
      "Epoch 3/20\n",
      "219/219 [==============================] - 3s 16ms/step - loss: 0.6537 - val_loss: 0.5572\n",
      "Epoch 4/20\n",
      "219/219 [==============================] - 4s 18ms/step - loss: 0.5796 - val_loss: 0.5154\n",
      "Epoch 5/20\n",
      "219/219 [==============================] - 3s 16ms/step - loss: 0.5586 - val_loss: 0.5124\n",
      "Epoch 6/20\n",
      "219/219 [==============================] - 4s 17ms/step - loss: 0.5496 - val_loss: 0.5071\n",
      "Epoch 7/20\n",
      "219/219 [==============================] - 4s 17ms/step - loss: 0.5349 - val_loss: 0.4878\n",
      "Epoch 8/20\n",
      "219/219 [==============================] - 5s 21ms/step - loss: 0.5233 - val_loss: 0.4760\n",
      "Epoch 9/20\n",
      "219/219 [==============================] - 3s 15ms/step - loss: 0.5196 - val_loss: 0.4732\n",
      "Epoch 10/20\n",
      "219/219 [==============================] - 3s 14ms/step - loss: 0.5182 - val_loss: 0.4705\n",
      "Epoch 11/20\n",
      "219/219 [==============================] - 3s 13ms/step - loss: 0.5128 - val_loss: 0.4616\n",
      "Epoch 12/20\n",
      "219/219 [==============================] - 3s 15ms/step - loss: 0.5056 - val_loss: 0.4641\n",
      "Epoch 13/20\n",
      "219/219 [==============================] - 4s 20ms/step - loss: 0.5003 - val_loss: 0.4573\n",
      "Epoch 14/20\n",
      "219/219 [==============================] - 4s 17ms/step - loss: 0.4980 - val_loss: 0.4509\n",
      "Epoch 15/20\n",
      "219/219 [==============================] - 4s 17ms/step - loss: 0.4941 - val_loss: 0.4488\n",
      "Epoch 16/20\n",
      "219/219 [==============================] - 3s 16ms/step - loss: 0.4933 - val_loss: 0.4661\n",
      "Epoch 17/20\n",
      "219/219 [==============================] - 3s 16ms/step - loss: 0.4904 - val_loss: 0.4370\n",
      "Epoch 18/20\n",
      "219/219 [==============================] - 4s 18ms/step - loss: 0.4803 - val_loss: 0.4315\n",
      "Epoch 19/20\n",
      "219/219 [==============================] - 4s 17ms/step - loss: 0.4779 - val_loss: 0.4257\n",
      "Epoch 20/20\n",
      "219/219 [==============================] - 4s 20ms/step - loss: 0.4802 - val_loss: 0.4288\n",
      "219/219 [==============================] - 6s 11ms/step\n",
      "55/55 [==============================] - 4s 11ms/step\n"
     ]
    }
   ],
   "source": [
    "# Build the baseline LSTM model\n",
    "\n",
    "# Define the baseline LSTM model\n",
    "def create_lstm_model(units=50, dropout_rate=0.2):\n",
    "    model = Sequential()\n",
    "    model.add(LSTM(units=50, return_sequences=True, input_shape=(X_train_m1_lstm.shape[1], X_train_m1_lstm.shape[2])))\n",
    "    model.add(Dropout(0.2))\n",
    "    model.add(LSTM(units=50, return_sequences=False))\n",
    "    model.add(Dropout(0.2))\n",
    "    model.add(Dense(1))\n",
    "    \n",
    "    model.compile(optimizer='adam', loss='mean_squared_error')\n",
    "    return model\n",
    "\n",
    "baseline_lstm_model = create_lstm_model()\n",
    "\n",
    "\n",
    "# Train the baseline LSTM model\n",
    "baseline_lstm_model.fit(X_train_m1_lstm, y_train_m1, epochs=20, batch_size=32, validation_data=(X_test_m1_lstm, y_test_m1), verbose=1)\n",
    "\n",
    "# Predict on the training and test data\n",
    "y_train_pred_lstm_baseline = baseline_lstm_model.predict(X_train_m1_lstm)\n",
    "y_test_pred_lstm_baseline = baseline_lstm_model.predict(X_test_m1_lstm)\n",
    "\n",
    "# Save predictions vs. ground truth to Excel\n",
    "baseline_lstm_train_results = pd.DataFrame({'Ground Truth': y_train_m1, 'Prediction': y_train_pred_lstm_baseline.flatten()})\n",
    "baseline_lstm_test_results = pd.DataFrame({'Ground Truth': y_test_m1, 'Prediction': y_test_pred_lstm_baseline.flatten()})\n",
    "\n",
    "baseline_lstm_train_results.to_excel('outputs/M2baseline_lstm_train_predictions.xlsx', index=False)\n",
    "baseline_lstm_test_results.to_excel('outputs/M2baseline_lstm_test_predictions.xlsx', index=False)\n"
   ]
  },
  {
   "cell_type": "code",
   "execution_count": 5,
   "metadata": {},
   "outputs": [
    {
     "name": "stdout",
     "output_type": "stream",
     "text": [
      "(7008, 1, 7)\n",
      "(7008, 7)\n"
     ]
    }
   ],
   "source": [
    "print(X_train_m1_lstm.shape)\n",
    "print(X_train_m1.shape)\n"
   ]
  },
  {
   "cell_type": "code",
   "execution_count": 6,
   "metadata": {},
   "outputs": [
    {
     "name": "stdout",
     "output_type": "stream",
     "text": [
      "55/55 [==============================] - 5s 17ms/step\n",
      "55/55 [==============================] - 5s 11ms/step\n",
      "55/55 [==============================] - 4s 5ms/step\n",
      "55/55 [==============================] - 2s 6ms/step\n",
      "55/55 [==============================] - 4s 17ms/step\n",
      "55/55 [==============================] - 3s 12ms/step\n",
      "55/55 [==============================] - 2s 5ms/step\n",
      "55/55 [==============================] - 2s 5ms/step\n",
      "55/55 [==============================] - 2s 5ms/step\n",
      "55/55 [==============================] - 2s 5ms/step\n",
      "55/55 [==============================] - 4s 14ms/step\n",
      "55/55 [==============================] - 2s 5ms/step\n",
      "55/55 [==============================] - 4s 15ms/step\n",
      "55/55 [==============================] - 2s 5ms/step\n",
      "55/55 [==============================] - 2s 4ms/step\n",
      "55/55 [==============================] - 2s 5ms/step\n",
      "55/55 [==============================] - 3s 4ms/step\n",
      "55/55 [==============================] - 1s 4ms/step\n",
      "55/55 [==============================] - 1s 4ms/step\n",
      "55/55 [==============================] - 2s 5ms/step\n",
      "55/55 [==============================] - 2s 4ms/step\n",
      "55/55 [==============================] - 1s 4ms/step\n",
      "55/55 [==============================] - 2s 3ms/step\n",
      "55/55 [==============================] - 1s 3ms/step\n",
      "55/55 [==============================] - 1s 4ms/step\n",
      "55/55 [==============================] - 3s 6ms/step\n",
      "55/55 [==============================] - 1s 3ms/step\n",
      "55/55 [==============================] - 1s 4ms/step\n",
      "55/55 [==============================] - 3s 11ms/step\n",
      "55/55 [==============================] - 1s 4ms/step\n",
      "55/55 [==============================] - 1s 4ms/step\n",
      "55/55 [==============================] - 2s 4ms/step\n",
      "55/55 [==============================] - 1s 4ms/step\n",
      "55/55 [==============================] - 1s 4ms/step\n",
      "55/55 [==============================] - 1s 3ms/step\n",
      "55/55 [==============================] - 5s 9ms/step\n",
      "55/55 [==============================] - 1s 5ms/step\n",
      "55/55 [==============================] - 2s 9ms/step\n",
      "55/55 [==============================] - 1s 4ms/step\n",
      "55/55 [==============================] - 1s 4ms/step\n",
      "55/55 [==============================] - 1s 4ms/step\n",
      "55/55 [==============================] - 1s 5ms/step\n",
      "55/55 [==============================] - 3s 8ms/step\n",
      "55/55 [==============================] - 3s 10ms/step\n",
      "55/55 [==============================] - 2s 4ms/step\n",
      "55/55 [==============================] - 2s 4ms/step\n",
      "55/55 [==============================] - 1s 4ms/step\n",
      "55/55 [==============================] - 3s 5ms/step\n",
      "55/55 [==============================] - 3s 6ms/step\n",
      "55/55 [==============================] - 3s 11ms/step\n",
      "55/55 [==============================] - 2s 10ms/step\n",
      "55/55 [==============================] - 3s 8ms/step\n",
      "55/55 [==============================] - 1s 4ms/step\n",
      "55/55 [==============================] - 2s 9ms/step\n",
      "55/55 [==============================] - 1s 4ms/step\n",
      "55/55 [==============================] - 3s 7ms/step\n",
      "55/55 [==============================] - 1s 4ms/step\n",
      "55/55 [==============================] - 1s 4ms/step\n",
      "55/55 [==============================] - 3s 5ms/step\n",
      "55/55 [==============================] - 1s 4ms/step\n",
      "55/55 [==============================] - 3s 4ms/step\n",
      "55/55 [==============================] - 2s 5ms/step\n",
      "55/55 [==============================] - 1s 4ms/step\n",
      "55/55 [==============================] - 2s 4ms/step\n",
      "55/55 [==============================] - 4s 11ms/step\n",
      "55/55 [==============================] - 1s 4ms/step\n",
      "55/55 [==============================] - 1s 4ms/step\n",
      "55/55 [==============================] - 3s 13ms/step\n",
      "55/55 [==============================] - 3s 7ms/step\n",
      "55/55 [==============================] - 5s 13ms/step\n",
      "55/55 [==============================] - 2s 5ms/step\n",
      "55/55 [==============================] - 1s 5ms/step\n",
      "55/55 [==============================] - 3s 6ms/step\n",
      "55/55 [==============================] - 2s 5ms/step\n",
      "55/55 [==============================] - 1s 4ms/step\n",
      "55/55 [==============================] - 1s 4ms/step\n",
      "55/55 [==============================] - 2s 4ms/step\n",
      "55/55 [==============================] - 1s 4ms/step\n",
      "55/55 [==============================] - 2s 4ms/step\n",
      "55/55 [==============================] - 1s 4ms/step\n",
      "55/55 [==============================] - 1s 4ms/step\n",
      "55/55 [==============================] - 2s 7ms/step\n",
      "55/55 [==============================] - 1s 4ms/step\n",
      "55/55 [==============================] - 3s 9ms/step\n",
      "55/55 [==============================] - 1s 4ms/step\n",
      "55/55 [==============================] - 1s 4ms/step\n",
      "55/55 [==============================] - 1s 4ms/step\n",
      "55/55 [==============================] - 5s 18ms/step\n",
      "55/55 [==============================] - 2s 4ms/step\n",
      "55/55 [==============================] - 2s 7ms/step\n",
      "55/55 [==============================] - 2s 5ms/step\n",
      "55/55 [==============================] - 2s 5ms/step\n",
      "55/55 [==============================] - 1s 4ms/step\n",
      "55/55 [==============================] - 2s 6ms/step\n",
      "55/55 [==============================] - 2s 5ms/step\n",
      "55/55 [==============================] - 1s 4ms/step\n",
      "55/55 [==============================] - 2s 5ms/step\n",
      "55/55 [==============================] - 2s 5ms/step\n",
      "55/55 [==============================] - 3s 5ms/step\n",
      "55/55 [==============================] - 2s 6ms/step\n",
      "55/55 [==============================] - 2s 4ms/step\n",
      "55/55 [==============================] - 2s 4ms/step\n",
      "55/55 [==============================] - 1s 4ms/step\n",
      "55/55 [==============================] - 2s 6ms/step\n",
      "55/55 [==============================] - 9s 41ms/step\n",
      "55/55 [==============================] - 2s 9ms/step\n",
      "55/55 [==============================] - 4s 10ms/step\n",
      "55/55 [==============================] - 4s 12ms/step\n",
      "55/55 [==============================] - 6s 11ms/step\n",
      "55/55 [==============================] - 3s 7ms/step\n",
      "55/55 [==============================] - 2s 8ms/step\n",
      "55/55 [==============================] - 3s 14ms/step\n",
      "55/55 [==============================] - 8s 18ms/step\n",
      "55/55 [==============================] - 3s 10ms/step\n",
      "55/55 [==============================] - 7s 15ms/step\n",
      "55/55 [==============================] - 6s 11ms/step\n",
      "55/55 [==============================] - 6s 22ms/step\n",
      "55/55 [==============================] - 4s 10ms/step\n",
      "55/55 [==============================] - 3s 8ms/step\n",
      "55/55 [==============================] - 3s 9ms/step\n",
      "55/55 [==============================] - 3s 5ms/step\n",
      "55/55 [==============================] - 4s 19ms/step\n",
      "55/55 [==============================] - 3s 6ms/step\n",
      "55/55 [==============================] - 4s 15ms/step\n",
      "55/55 [==============================] - 3s 6ms/step\n",
      "55/55 [==============================] - 3s 7ms/step\n",
      "55/55 [==============================] - 3s 5ms/step\n",
      "55/55 [==============================] - 3s 9ms/step\n",
      "55/55 [==============================] - 4s 10ms/step\n",
      "55/55 [==============================] - 3s 10ms/step\n",
      "55/55 [==============================] - 3s 8ms/step\n",
      "55/55 [==============================] - 3s 9ms/step\n",
      "55/55 [==============================] - 3s 11ms/step\n",
      "55/55 [==============================] - 3s 7ms/step\n",
      "55/55 [==============================] - 4s 9ms/step\n",
      "55/55 [==============================] - 3s 9ms/step\n",
      "55/55 [==============================] - 4s 15ms/step\n",
      "55/55 [==============================] - 4s 8ms/step\n",
      "55/55 [==============================] - 3s 8ms/step\n",
      "55/55 [==============================] - 3s 6ms/step\n",
      "55/55 [==============================] - 3s 6ms/step\n",
      "55/55 [==============================] - 8s 15ms/step\n",
      "55/55 [==============================] - 4s 10ms/step\n",
      "55/55 [==============================] - 3s 7ms/step\n",
      "55/55 [==============================] - 2s 5ms/step\n",
      "55/55 [==============================] - 7s 11ms/step\n",
      "55/55 [==============================] - 7s 16ms/step\n",
      "55/55 [==============================] - 6s 13ms/step\n",
      "55/55 [==============================] - 4s 9ms/step\n",
      "55/55 [==============================] - 4s 13ms/step\n",
      "55/55 [==============================] - 7s 11ms/step\n",
      "55/55 [==============================] - 4s 10ms/step\n",
      "55/55 [==============================] - 7s 19ms/step\n",
      "55/55 [==============================] - 6s 16ms/step\n",
      "55/55 [==============================] - 6s 15ms/step\n",
      "55/55 [==============================] - 4s 10ms/step\n",
      "55/55 [==============================] - 6s 13ms/step\n",
      "55/55 [==============================] - 9s 14ms/step\n",
      "55/55 [==============================] - 3s 9ms/step\n",
      "55/55 [==============================] - 5s 26ms/step\n",
      "55/55 [==============================] - 4s 10ms/step\n",
      "55/55 [==============================] - 8s 15ms/step\n",
      "55/55 [==============================] - 6s 14ms/step\n",
      "55/55 [==============================] - 4s 9ms/step\n",
      "55/55 [==============================] - 12s 18ms/step\n",
      "55/55 [==============================] - 3s 11ms/step\n",
      "55/55 [==============================] - 8s 19ms/step\n",
      "55/55 [==============================] - 4s 15ms/step\n",
      "55/55 [==============================] - 5s 16ms/step\n",
      "55/55 [==============================] - 3s 10ms/step\n",
      "55/55 [==============================] - 7s 13ms/step\n",
      "55/55 [==============================] - 8s 21ms/step\n",
      "55/55 [==============================] - 6s 15ms/step\n",
      "55/55 [==============================] - 11s 18ms/step\n",
      "55/55 [==============================] - 10s 14ms/step\n",
      "55/55 [==============================] - 4s 9ms/step\n",
      "55/55 [==============================] - 3s 8ms/step\n",
      "55/55 [==============================] - 2s 5ms/step\n",
      "55/55 [==============================] - 3s 10ms/step\n",
      "55/55 [==============================] - 4s 10ms/step\n",
      "55/55 [==============================] - 4s 9ms/step\n",
      "55/55 [==============================] - 4s 10ms/step\n",
      "55/55 [==============================] - 7s 12ms/step\n",
      "55/55 [==============================] - 5s 12ms/step\n",
      "55/55 [==============================] - 3s 8ms/step\n",
      "55/55 [==============================] - 5s 13ms/step\n",
      "55/55 [==============================] - 3s 8ms/step\n",
      "55/55 [==============================] - 2s 8ms/step\n",
      "55/55 [==============================] - 3s 8ms/step\n",
      "55/55 [==============================] - 2s 6ms/step\n",
      "55/55 [==============================] - 4s 9ms/step\n",
      "55/55 [==============================] - 3s 7ms/step\n",
      "55/55 [==============================] - 3s 9ms/step\n",
      "55/55 [==============================] - 3s 5ms/step\n",
      "55/55 [==============================] - 3s 7ms/step\n",
      "55/55 [==============================] - 6s 11ms/step\n",
      "55/55 [==============================] - 3s 5ms/step\n",
      "55/55 [==============================] - 1s 4ms/step\n",
      "55/55 [==============================] - 1s 4ms/step\n",
      "55/55 [==============================] - 1s 4ms/step\n",
      "55/55 [==============================] - 1s 4ms/step\n",
      "55/55 [==============================] - 2s 4ms/step\n",
      "55/55 [==============================] - 2s 4ms/step\n",
      "55/55 [==============================] - 1s 4ms/step\n",
      "55/55 [==============================] - 1s 4ms/step\n",
      "55/55 [==============================] - 2s 5ms/step\n",
      "55/55 [==============================] - 2s 4ms/step\n",
      "55/55 [==============================] - 1s 4ms/step\n",
      "55/55 [==============================] - 1s 4ms/step\n",
      "55/55 [==============================] - 1s 4ms/step\n",
      "55/55 [==============================] - 1s 4ms/step\n",
      "55/55 [==============================] - 1s 4ms/step\n",
      "55/55 [==============================] - 1s 4ms/step\n",
      "55/55 [==============================] - 1s 4ms/step\n",
      "55/55 [==============================] - 1s 4ms/step\n",
      "55/55 [==============================] - 1s 4ms/step\n",
      "55/55 [==============================] - 2s 6ms/step\n",
      "55/55 [==============================] - 2s 5ms/step\n",
      "55/55 [==============================] - 1s 5ms/step\n",
      "55/55 [==============================] - 3s 4ms/step\n",
      "Stopping search: maximum iterations reached --> 10\n",
      "Optimized Parameters (PSO): lstm_units = 71, dropout_rate = 0.11513715956089554, learning_rate = 0.006586013981843674, batch_size = 16\n",
      "Best MSE achieved: 0.37178456609366867\n"
     ]
    }
   ],
   "source": [
    "from pyswarm import pso  # This is a placeholder, replace with actual PSO implementation\n",
    "\n",
    "# Define the fitness function for LSTM model\n",
    "def lstm_fitness_function(params):\n",
    "    # Unpack parameters\n",
    "    lstm_units = int(params[0])\n",
    "    dropout_rate = params[1]\n",
    "    learning_rate = params[2]\n",
    "    batch_size = int(params[3])\n",
    "    \n",
    "    # Build the LSTM model with the parameters\n",
    "    model = Sequential()\n",
    "    model.add(LSTM(units=lstm_units, return_sequences=True, input_shape=(1, 7)))\n",
    "    model.add(Dropout(dropout_rate))\n",
    "    model.add(LSTM(units=lstm_units))\n",
    "    model.add(Dropout(dropout_rate))\n",
    "    model.add(Dense(1))\n",
    "    \n",
    "    optimizer = tf.keras.optimizers.Adam(learning_rate=learning_rate)\n",
    "    model.compile(optimizer=optimizer, loss='mean_squared_error')\n",
    "\n",
    "    \n",
    "    \n",
    "    # Train the model\n",
    "    model.fit(X_train_m1_lstm, y_train_m1, epochs=10, batch_size=batch_size, verbose=0)\n",
    "    \n",
    "    # Evaluate on validation set\n",
    "    y_pred = model.predict(X_test_m1_lstm)\n",
    "    mse = mean_squared_error(y_test_m1, y_pred)\n",
    "    \n",
    "    return mse\n",
    "\n",
    "# Set the bounds for parameters: [lstm_units, dropout_rate, learning_rate, batch_size]\n",
    "bounds = ([10, 0.1, 0.0001, 16], [100, 0.5, 0.01, 128])\n",
    "\n",
    "# Run the PSO\n",
    "best_params, best_mse = pso(lstm_fitness_function, bounds[0], bounds[1], swarmsize=20, maxiter=10)\n",
    "\n",
    "print(f'Optimized Parameters (PSO): lstm_units = {int(best_params[0])}, dropout_rate = {best_params[1]}, learning_rate = {best_params[2]}, batch_size = {int(best_params[3])}')\n",
    "print(f'Best MSE achieved: {best_mse}')\n"
   ]
  },
  {
   "cell_type": "code",
   "execution_count": 7,
   "metadata": {},
   "outputs": [
    {
     "name": "stdout",
     "output_type": "stream",
     "text": [
      "Epoch 1/20\n",
      "438/438 [==============================] - 23s 29ms/step - loss: 0.7247\n",
      "Epoch 2/20\n",
      "438/438 [==============================] - 13s 31ms/step - loss: 0.5477\n",
      "Epoch 3/20\n",
      "438/438 [==============================] - 12s 27ms/step - loss: 0.5255\n",
      "Epoch 4/20\n",
      "438/438 [==============================] - 10s 22ms/step - loss: 0.5102\n",
      "Epoch 5/20\n",
      "438/438 [==============================] - 7s 16ms/step - loss: 0.4960\n",
      "Epoch 6/20\n",
      "438/438 [==============================] - 5s 11ms/step - loss: 0.4945\n",
      "Epoch 7/20\n",
      "438/438 [==============================] - 4s 9ms/step - loss: 0.4850\n",
      "Epoch 8/20\n",
      "438/438 [==============================] - 6s 14ms/step - loss: 0.4663\n",
      "Epoch 9/20\n",
      "438/438 [==============================] - 5s 12ms/step - loss: 0.4696\n",
      "Epoch 10/20\n",
      "438/438 [==============================] - 4s 8ms/step - loss: 0.4614\n",
      "Epoch 11/20\n",
      "438/438 [==============================] - 3s 8ms/step - loss: 0.4581\n",
      "Epoch 12/20\n",
      "438/438 [==============================] - 4s 8ms/step - loss: 0.4532\n",
      "Epoch 13/20\n",
      "438/438 [==============================] - 3s 7ms/step - loss: 0.4436\n",
      "Epoch 14/20\n",
      "438/438 [==============================] - 3s 8ms/step - loss: 0.4614\n",
      "Epoch 15/20\n",
      "438/438 [==============================] - 3s 7ms/step - loss: 0.4493\n",
      "Epoch 16/20\n",
      "438/438 [==============================] - 3s 7ms/step - loss: 0.4401\n",
      "Epoch 17/20\n",
      "438/438 [==============================] - 4s 9ms/step - loss: 0.4417\n",
      "Epoch 18/20\n",
      "438/438 [==============================] - 4s 9ms/step - loss: 0.4259\n",
      "Epoch 19/20\n",
      "438/438 [==============================] - 5s 10ms/step - loss: 0.4333\n",
      "Epoch 20/20\n",
      "438/438 [==============================] - 5s 12ms/step - loss: 0.4442\n",
      "219/219 [==============================] - 5s 8ms/step\n",
      "55/55 [==============================] - 4s 11ms/step\n"
     ]
    }
   ],
   "source": [
    "# Train the LSTM model with the optimized parameters\n",
    "optimized_lstm_model = Sequential()\n",
    "optimized_lstm_model.add(LSTM(units=int(best_params[0]), return_sequences=True, input_shape=(X_train_m1_lstm.shape[1], X_train_m1_lstm.shape[2])))\n",
    "optimized_lstm_model.add(Dropout(best_params[1]))\n",
    "optimized_lstm_model.add(LSTM(units=int(best_params[0])))\n",
    "optimized_lstm_model.add(Dropout(best_params[1]))\n",
    "optimized_lstm_model.add(Dense(1))\n",
    "\n",
    "optimizer = tf.keras.optimizers.Adam(learning_rate=best_params[2])\n",
    "optimized_lstm_model.compile(optimizer=optimizer, loss='mean_squared_error')\n",
    "\n",
    "# Train the optimized model\n",
    "optimized_lstm_model.fit(X_train_m1_lstm, y_train_m1, epochs=20, batch_size=int(best_params[3]), verbose=1)\n",
    "\n",
    "# Make predictions\n",
    "y_train_pred_lstm_optimized = optimized_lstm_model.predict(X_train_m1_lstm)\n",
    "y_test_pred_lstm_optimized = optimized_lstm_model.predict(X_test_m1_lstm)\n",
    "\n",
    "# Save predictions vs. ground truth to Excel\n",
    "optimized_lstm_train_results = pd.DataFrame({'Ground Truth': y_train_m1, 'Prediction': y_train_pred_lstm_optimized.flatten()})\n",
    "optimized_lstm_test_results = pd.DataFrame({'Ground Truth': y_test_m1, 'Prediction': y_test_pred_lstm_optimized.flatten()})\n",
    "\n",
    "optimized_lstm_train_results.to_excel('outputs/M2optimized_lstm_train_predictions_PSO.xlsx', index=False)\n",
    "optimized_lstm_test_results.to_excel('outputs/M2optimized_lstm_test_predictions_PSO.xlsx', index=False)\n"
   ]
  },
  {
   "cell_type": "code",
   "execution_count": 8,
   "metadata": {},
   "outputs": [
    {
     "name": "stdout",
     "output_type": "stream",
     "text": [
      "55/55 [==============================] - 2s 4ms/step\n",
      "55/55 [==============================] - 2s 4ms/step\n",
      "55/55 [==============================] - 2s 4ms/step\n",
      "55/55 [==============================] - 3s 7ms/step\n",
      "55/55 [==============================] - 3s 9ms/step\n",
      "55/55 [==============================] - 2s 5ms/step\n",
      "55/55 [==============================] - 2s 5ms/step\n",
      "55/55 [==============================] - 5s 32ms/step\n",
      "55/55 [==============================] - 1s 4ms/step\n",
      "55/55 [==============================] - 3s 7ms/step\n",
      "55/55 [==============================] - 4s 9ms/step\n",
      "55/55 [==============================] - 5s 20ms/step\n",
      "55/55 [==============================] - 2s 5ms/step\n",
      "55/55 [==============================] - 4s 13ms/step\n",
      "55/55 [==============================] - 2s 5ms/step\n",
      "55/55 [==============================] - 4s 11ms/step\n",
      "55/55 [==============================] - 2s 5ms/step\n",
      "55/55 [==============================] - 3s 6ms/step\n",
      "55/55 [==============================] - 3s 7ms/step\n",
      "55/55 [==============================] - 2s 5ms/step\n",
      "55/55 [==============================] - 2s 5ms/step.0% GA is \n",
      "55/55 [==============================] - 3s 6ms/step\n",
      "55/55 [==============================] - 2s 5ms/step\n",
      "55/55 [==============================] - 2s 7ms/step\n",
      "55/55 [==============================] - 2s 5ms/step\n",
      "55/55 [==============================] - 4s 9ms/step\n",
      "55/55 [==============================] - 3s 8ms/step\n",
      "55/55 [==============================] - 2s 5ms/step\n",
      "55/55 [==============================] - 2s 5ms/step\n",
      "55/55 [==============================] - 2s 5ms/step\n",
      "55/55 [==============================] - 2s 5ms/step\n",
      "55/55 [==============================] - 3s 7ms/step\n",
      "55/55 [==============================] - 1s 3ms/step\n",
      "55/55 [==============================] - 1s 3ms/step\n",
      "55/55 [==============================] - 1s 3ms/step.0% GA is run\n",
      "55/55 [==============================] - 1s 3ms/step\n",
      "55/55 [==============================] - 1s 3ms/step\n",
      "55/55 [==============================] - 1s 3ms/step\n",
      "55/55 [==============================] - 1s 3ms/step\n",
      "55/55 [==============================] - 1s 3ms/step\n",
      "55/55 [==============================] - 1s 3ms/step\n",
      "55/55 [==============================] - 1s 8ms/step\n",
      "55/55 [==============================] - 1s 3ms/step\n",
      "55/55 [==============================] - 1s 4ms/step\n",
      "55/55 [==============================] - 1s 3ms/step\n",
      "55/55 [==============================] - 1s 3ms/step\n",
      "55/55 [==============================] - 1s 3ms/step\n",
      "55/55 [==============================] - 1s 3ms/step\n",
      "55/55 [==============================] - 1s 3ms/step.0% GA is ru\n",
      "55/55 [==============================] - 2s 5ms/step\n",
      "55/55 [==============================] - 2s 5ms/step\n",
      "55/55 [==============================] - 4s 16ms/step\n",
      "55/55 [==============================] - 2s 5ms/step\n",
      "55/55 [==============================] - 2s 5ms/step\n",
      "55/55 [==============================] - 6s 11ms/step\n",
      "55/55 [==============================] - 2s 6ms/step\n",
      "55/55 [==============================] - 2s 5ms/step\n",
      "55/55 [==============================] - 4s 9ms/step\n",
      "55/55 [==============================] - 2s 5ms/step\n",
      "55/55 [==============================] - 2s 5ms/step\n",
      "55/55 [==============================] - 2s 5ms/step\n",
      "55/55 [==============================] - 2s 4ms/step\n",
      "55/55 [==============================] - 1s 3ms/step.0% GA is run\n",
      "55/55 [==============================] - 2s 5ms/step\n",
      "55/55 [==============================] - 2s 5ms/step\n",
      "55/55 [==============================] - 2s 4ms/step\n",
      "55/55 [==============================] - 1s 4ms/step\n",
      "55/55 [==============================] - 2s 5ms/step\n",
      "55/55 [==============================] - 3s 11ms/step\n",
      "55/55 [==============================] - 1s 4ms/step\n",
      "55/55 [==============================] - 1s 3ms/step\n",
      "55/55 [==============================] - 1s 3ms/step\n",
      "55/55 [==============================] - 1s 3ms/step\n",
      "55/55 [==============================] - 1s 3ms/step\n",
      "55/55 [==============================] - 2s 5ms/step\n",
      "55/55 [==============================] - 1s 3ms/step\n",
      "55/55 [==============================] - 2s 4ms/step0.0% GA is \n",
      "55/55 [==============================] - 1s 3ms/step\n",
      "55/55 [==============================] - 2s 3ms/step\n",
      "55/55 [==============================] - 2s 8ms/step\n",
      "55/55 [==============================] - 2s 4ms/step\n",
      "55/55 [==============================] - 2s 4ms/step\n",
      "55/55 [==============================] - 1s 4ms/step\n",
      "55/55 [==============================] - 1s 4ms/step\n",
      "55/55 [==============================] - 1s 4ms/step\n",
      "55/55 [==============================] - 1s 4ms/step\n",
      "55/55 [==============================] - 2s 4ms/step\n",
      "55/55 [==============================] - 1s 3ms/step\n",
      "55/55 [==============================] - 3s 4ms/step\n",
      "55/55 [==============================] - 1s 3ms/step\n",
      "55/55 [==============================] - 2s 5ms/step2.0% GA i\n",
      "55/55 [==============================] - 1s 3ms/step\n",
      "55/55 [==============================] - 1s 4ms/step\n",
      "55/55 [==============================] - 2s 6ms/step\n",
      "55/55 [==============================] - 1s 3ms/step\n",
      "55/55 [==============================] - 1s 3ms/step\n",
      "55/55 [==============================] - 1s 4ms/step\n",
      "55/55 [==============================] - 1s 3ms/step\n",
      "55/55 [==============================] - 1s 4ms/step\n",
      "55/55 [==============================] - 2s 4ms/step\n",
      "55/55 [==============================] - 1s 4ms/step\n",
      "55/55 [==============================] - 3s 9ms/step\n",
      "55/55 [==============================] - 1s 3ms/step\n",
      "55/55 [==============================] - 1s 3ms/step\n",
      "55/55 [==============================] - 2s 6ms/step4.0% GA\n",
      "55/55 [==============================] - 1s 4ms/step\n",
      "55/55 [==============================] - 1s 4ms/step\n",
      "55/55 [==============================] - 1s 3ms/step\n",
      "55/55 [==============================] - 3s 6ms/step\n",
      "55/55 [==============================] - 1s 3ms/step\n",
      "55/55 [==============================] - 2s 4ms/step\n",
      "55/55 [==============================] - 1s 4ms/step\n",
      "55/55 [==============================] - 2s 4ms/step\n",
      "55/55 [==============================] - 1s 3ms/step\n",
      "55/55 [==============================] - 2s 4ms/step\n",
      "55/55 [==============================] - 1s 3ms/step\n",
      "55/55 [==============================] - 2s 4ms/step\n",
      "55/55 [==============================] - 1s 4ms/step\n",
      "55/55 [==============================] - 3s 4ms/step6.0% GA is \n",
      "55/55 [==============================] - 1s 3ms/step\n",
      "55/55 [==============================] - 1s 3ms/step\n",
      "55/55 [==============================] - 3s 9ms/step\n",
      "55/55 [==============================] - 1s 4ms/step\n",
      "55/55 [==============================] - 1s 3ms/step\n",
      "55/55 [==============================] - 1s 3ms/step\n",
      "55/55 [==============================] - 2s 4ms/step\n",
      "55/55 [==============================] - 1s 3ms/step\n",
      "55/55 [==============================] - 1s 4ms/step\n",
      "55/55 [==============================] - 1s 3ms/step\n",
      "55/55 [==============================] - 1s 4ms/step\n",
      "55/55 [==============================] - 3s 11ms/step\n",
      "55/55 [==============================] - 1s 3ms/step\n",
      "55/55 [==============================] - 1s 3ms/step8.0% GA is run\n",
      "55/55 [==============================] - 1s 4ms/step\n",
      "55/55 [==============================] - 1s 6ms/step\n",
      "55/55 [==============================] - 1s 4ms/step\n",
      "55/55 [==============================] - 1s 3ms/step\n",
      "55/55 [==============================] - 2s 4ms/step\n",
      "55/55 [==============================] - 1s 3ms/step\n",
      "55/55 [==============================] - 2s 3ms/step\n",
      "55/55 [==============================] - 1s 4ms/step\n",
      "55/55 [==============================] - 1s 4ms/step\n",
      "55/55 [==============================] - 1s 3ms/step\n",
      "55/55 [==============================] - 1s 3ms/step\n",
      "55/55 [==============================] - 3s 9ms/step\n",
      "55/55 [==============================] - 2s 8ms/step\n",
      "55/55 [==============================] - 1s 3ms/step0.0% GA is ru\n",
      "55/55 [==============================] - 1s 4ms/step\n",
      "55/55 [==============================] - 1s 3ms/step\n",
      "55/55 [==============================] - 1s 3ms/step\n",
      "55/55 [==============================] - 3s 8ms/step\n",
      "55/55 [==============================] - 2s 3ms/step\n",
      "55/55 [==============================] - 1s 3ms/step\n",
      "55/55 [==============================] - 1s 3ms/step\n",
      "55/55 [==============================] - 1s 4ms/step\n",
      "55/55 [==============================] - 1s 3ms/step\n",
      "55/55 [==============================] - 1s 3ms/step\n",
      "55/55 [==============================] - 3s 6ms/step\n",
      "55/55 [==============================] - 1s 4ms/step\n",
      "55/55 [==============================] - 1s 3ms/step\n",
      "55/55 [==============================] - 1s 3ms/step2.0% GA is run\n",
      "55/55 [==============================] - 2s 5ms/step\n",
      "55/55 [==============================] - 1s 3ms/step\n",
      "55/55 [==============================] - 2s 4ms/step\n",
      "55/55 [==============================] - 1s 4ms/step\n",
      "55/55 [==============================] - 2s 4ms/step\n",
      "55/55 [==============================] - 2s 4ms/step\n",
      "55/55 [==============================] - 1s 4ms/step\n",
      "55/55 [==============================] - 1s 4ms/step\n",
      "55/55 [==============================] - 2s 6ms/step\n",
      "55/55 [==============================] - 2s 4ms/step\n",
      "55/55 [==============================] - 1s 3ms/step\n",
      "55/55 [==============================] - 2s 4ms/step\n",
      "55/55 [==============================] - 2s 7ms/step\n",
      "55/55 [==============================] - 3s 8ms/step4.0\n",
      "55/55 [==============================] - 1s 4ms/step\n",
      "55/55 [==============================] - 1s 4ms/step\n",
      "55/55 [==============================] - 1s 4ms/step\n",
      "55/55 [==============================] - 1s 3ms/step\n",
      "55/55 [==============================] - 1s 4ms/step\n",
      "55/55 [==============================] - 1s 4ms/step\n",
      "55/55 [==============================] - 4s 4ms/step\n",
      "55/55 [==============================] - 1s 4ms/step\n",
      "55/55 [==============================] - 1s 4ms/step\n",
      "55/55 [==============================] - 3s 4ms/step\n",
      "55/55 [==============================] - 1s 4ms/step\n",
      "55/55 [==============================] - 1s 4ms/step\n",
      "55/55 [==============================] - 4s 7ms/step\n",
      "55/55 [==============================] - 1s 4ms/step6.0% GA is ru\n",
      "55/55 [==============================] - 1s 4ms/step\n",
      "55/55 [==============================] - 4s 4ms/step\n",
      "55/55 [==============================] - 1s 4ms/step\n",
      "55/55 [==============================] - 2s 7ms/step\n",
      "55/55 [==============================] - 1s 4ms/step\n",
      "55/55 [==============================] - 2s 5ms/step\n",
      "55/55 [==============================] - 1s 4ms/step\n",
      "55/55 [==============================] - 1s 4ms/step\n",
      "55/55 [==============================] - 1s 5ms/step\n",
      "55/55 [==============================] - 1s 4ms/step\n",
      "55/55 [==============================] - 1s 4ms/step\n",
      "55/55 [==============================] - 2s 4ms/step\n",
      "55/55 [==============================] - 1s 4ms/step\n",
      "55/55 [==============================] - 1s 4ms/step8.0% GA is ru\n",
      "55/55 [==============================] - 2s 4ms/step\n",
      "55/55 [==============================] - 2s 5ms/step\n",
      "55/55 [==============================] - 2s 7ms/step\n",
      "55/55 [==============================] - 2s 8ms/step\n",
      "55/55 [==============================] - 2s 4ms/step\n",
      "55/55 [==============================] - 1s 4ms/step\n",
      "55/55 [==============================] - 1s 4ms/step\n",
      "55/55 [==============================] - 2s 5ms/step\n",
      "55/55 [==============================] - 1s 4ms/step\n",
      "55/55 [==============================] - 1s 4ms/step\n",
      "55/55 [==============================] - 1s 4ms/step\n",
      "55/55 [==============================] - 2s 4ms/step\n",
      "55/55 [==============================] - 1s 4ms/step\n",
      " The best solution found:                                                                           \n",
      " [5.42172689e+01 1.25043518e-01 6.41399247e-03 3.08938159e+01]\n",
      "\n",
      " Objective function:\n",
      " 0.3811447752328437\n"
     ]
    },
    {
     "data": {
      "image/png": "[encoded data removed]",
      "text/plain": [
       "<Figure size 640x480 with 1 Axes>"
      ]
     },
     "metadata": {},
     "output_type": "display_data"
    },
    {
     "name": "stdout",
     "output_type": "stream",
     "text": [
      "\n",
      "Warning: GA is terminated due to the maximum number of iterations without improvement was met!Optimized Parameters (GA): lstm_units = 54, dropout_rate = 0.1250435183504109, learning_rate = 0.006413992468161486, batch_size = 30\n"
     ]
    }
   ],
   "source": [
    "from geneticalgorithm import geneticalgorithm as ga\n",
    "\n",
    "# Define the fitness function for LSTM model\n",
    "def lstm_fitness_function_ga(params):\n",
    "    lstm_units = int(params[0])\n",
    "    dropout_rate = params[1]\n",
    "    learning_rate = params[2]\n",
    "    batch_size = int(params[3])\n",
    "\n",
    "    model = Sequential()\n",
    "    model.add(LSTM(units=lstm_units, return_sequences=True, input_shape=(X_train_m1_lstm.shape[1], X_train_m1_lstm.shape[2])))\n",
    "    model.add(Dropout(dropout_rate))\n",
    "    model.add(LSTM(units=lstm_units))\n",
    "    model.add(Dropout(dropout_rate))\n",
    "    model.add(Dense(1))\n",
    "\n",
    "    optimizer = tf.keras.optimizers.Adam(learning_rate=learning_rate)\n",
    "    model.compile(optimizer=optimizer, loss='mean_squared_error')\n",
    "    \n",
    "    model.fit(X_train_m1_lstm, y_train_m1, epochs=10, batch_size=batch_size, verbose=0)\n",
    "    \n",
    "    y_pred = model.predict(X_test_m1_lstm)\n",
    "    mse = mean_squared_error(y_test_m1, y_pred)\n",
    "    \n",
    "    return mse\n",
    "\n",
    "# Set the bounds for GA: [lstm_units, dropout_rate, learning_rate, batch_size]\n",
    "varbound = np.array([[10, 100], [0.1, 0.5], [0.0001, 0.01], [16, 128]])\n",
    "\n",
    "algorithm_param = {'max_num_iteration': 50, 'population_size': 20, 'mutation_probability': 0.1, 'elit_ratio': 0.01, 'crossover_probability': 0.5, 'parents_portion': 0.3, 'crossover_type':'uniform', 'max_iteration_without_improv':10}\n",
    "\n",
    "model = model = ga(function=lstm_fitness_function_ga, \n",
    "           dimension=4, \n",
    "           variable_type='real', \n",
    "           variable_boundaries=varbound, \n",
    "           algorithm_parameters=algorithm_param,\n",
    "           function_timeout=300)  # Increase the timeout\n",
    "\n",
    "model.run()\n",
    "\n",
    "best_params_ga = model.output_dict['variable']\n",
    "\n",
    "print(f'Optimized Parameters (GA): lstm_units = {int(best_params_ga[0])}, dropout_rate = {best_params_ga[1]}, learning_rate = {best_params_ga[2]}, batch_size = {int(best_params_ga[3])}')\n"
   ]
  },
  {
   "cell_type": "code",
   "execution_count": 9,
   "metadata": {},
   "outputs": [
    {
     "name": "stdout",
     "output_type": "stream",
     "text": [
      "Epoch 1/20\n",
      "234/234 [==============================] - 10s 8ms/step - loss: 0.7820\n",
      "Epoch 2/20\n",
      "234/234 [==============================] - 2s 8ms/step - loss: 0.5642\n",
      "Epoch 3/20\n",
      "234/234 [==============================] - 2s 8ms/step - loss: 0.5193\n",
      "Epoch 4/20\n",
      "234/234 [==============================] - 2s 8ms/step - loss: 0.5063\n",
      "Epoch 5/20\n",
      "234/234 [==============================] - 2s 9ms/step - loss: 0.5027\n",
      "Epoch 6/20\n",
      "234/234 [==============================] - 2s 8ms/step - loss: 0.4885\n",
      "Epoch 7/20\n",
      "234/234 [==============================] - 2s 8ms/step - loss: 0.4944\n",
      "Epoch 8/20\n",
      "234/234 [==============================] - 2s 10ms/step - loss: 0.4695\n",
      "Epoch 9/20\n",
      "234/234 [==============================] - 2s 10ms/step - loss: 0.4805\n",
      "Epoch 10/20\n",
      "234/234 [==============================] - 4s 18ms/step - loss: 0.4729\n",
      "Epoch 11/20\n",
      "234/234 [==============================] - 5s 22ms/step - loss: 0.4672\n",
      "Epoch 12/20\n",
      "234/234 [==============================] - 5s 22ms/step - loss: 0.4452\n",
      "Epoch 13/20\n",
      "234/234 [==============================] - 4s 17ms/step - loss: 0.4510\n",
      "Epoch 14/20\n",
      "234/234 [==============================] - 7s 28ms/step - loss: 0.4513\n",
      "Epoch 15/20\n",
      "234/234 [==============================] - 8s 33ms/step - loss: 0.4466\n",
      "Epoch 16/20\n",
      "234/234 [==============================] - 5s 23ms/step - loss: 0.4370\n",
      "Epoch 17/20\n",
      "234/234 [==============================] - 4s 18ms/step - loss: 0.4486\n",
      "Epoch 18/20\n",
      "234/234 [==============================] - 5s 21ms/step - loss: 0.4426\n",
      "Epoch 19/20\n",
      "234/234 [==============================] - 6s 26ms/step - loss: 0.4327\n",
      "Epoch 20/20\n",
      "234/234 [==============================] - 3s 15ms/step - loss: 0.4252\n",
      "219/219 [==============================] - 5s 10ms/step\n",
      "55/55 [==============================] - 6s 20ms/step\n"
     ]
    }
   ],
   "source": [
    "# Train the LSTM model with the GA-optimized parameters\n",
    "optimized_lstm_model_ga = Sequential()\n",
    "optimized_lstm_model_ga.add(LSTM(units=int(best_params_ga[0]), return_sequences=True, input_shape=(X_train_m1_lstm.shape[1], X_train_m1_lstm.shape[2])))\n",
    "optimized_lstm_model_ga.add(Dropout(best_params_ga[1]))\n",
    "optimized_lstm_model_ga.add(LSTM(units=int(best_params_ga[0])))\n",
    "optimized_lstm_model_ga.add(Dropout(best_params_ga[1]))\n",
    "optimized_lstm_model_ga.add(Dense(1))\n",
    "\n",
    "optimizer = tf.keras.optimizers.Adam(learning_rate=best_params_ga[2])\n",
    "optimized_lstm_model_ga.compile(optimizer=optimizer, loss='mean_squared_error')\n",
    "\n",
    "optimized_lstm_model_ga.fit(X_train_m1_lstm, y_train_m1, epochs=20, batch_size=int(best_params_ga[3]), verbose=1)\n",
    "\n",
    "# Make predictions\n",
    "y_train_pred_lstm_ga = optimized_lstm_model_ga.predict(X_train_m1_lstm)\n",
    "y_test_pred_lstm_ga = optimized_lstm_model_ga.predict(X_test_m1_lstm)\n",
    "\n",
    "# Save predictions vs. ground truth to Excel\n",
    "optimized_lstm_train_results_ga = pd.DataFrame({'Ground Truth': y_train_m1, 'Prediction': y_train_pred_lstm_ga.flatten()})\n",
    "optimized_lstm_test_results_ga = pd.DataFrame({'Ground Truth': y_test_m1, 'Prediction': y_test_pred_lstm_ga.flatten()})\n",
    "\n",
    "optimized_lstm_train_results_ga.to_excel('outputs/M2optimized_lstm_train_predictions_ga.xlsx', index=False)\n",
    "optimized_lstm_test_results_ga.to_excel('outputs/M2optimized_lstm_test_predictions_ga.xlsx', index=False)\n"
   ]
  },
  {
   "cell_type": "code",
   "execution_count": 6,
   "metadata": {},
   "outputs": [
    {
     "name": "stdout",
     "output_type": "stream",
     "text": [
      "55/55 [==============================] - 2s 6ms/step\n",
      "55/55 [==============================] - 2s 7ms/step\n",
      "55/55 [==============================] - 1s 5ms/step\n",
      "55/55 [==============================] - 1s 4ms/step\n",
      "55/55 [==============================] - 1s 4ms/step\n",
      "55/55 [==============================] - 2s 6ms/step\n",
      "55/55 [==============================] - 2s 8ms/step\n",
      "55/55 [==============================] - 2s 8ms/step\n",
      "55/55 [==============================] - 2s 9ms/step\n",
      "55/55 [==============================] - 2s 10ms/step\n",
      "55/55 [==============================] - 3s 14ms/step\n",
      "55/55 [==============================] - 2s 12ms/step\n",
      "55/55 [==============================] - 2s 10ms/step\n",
      "55/55 [==============================] - 2s 9ms/step\n",
      "55/55 [==============================] - 2s 9ms/step\n",
      "55/55 [==============================] - 2s 9ms/step\n",
      "55/55 [==============================] - 2s 10ms/step\n",
      "55/55 [==============================] - 2s 5ms/step\n",
      "55/55 [==============================] - 2s 5ms/step\n",
      "55/55 [==============================] - 2s 5ms/step\n",
      "55/55 [==============================] - 2s 5ms/step\n",
      "55/55 [==============================] - 2s 5ms/step\n",
      "55/55 [==============================] - 2s 5ms/step\n",
      "55/55 [==============================] - 2s 5ms/step\n",
      "55/55 [==============================] - 1s 5ms/step\n",
      "55/55 [==============================] - 2s 5ms/step\n",
      "55/55 [==============================] - 1s 4ms/step\n",
      "55/55 [==============================] - 2s 5ms/step\n",
      "55/55 [==============================] - 2s 8ms/step\n",
      "55/55 [==============================] - 2s 8ms/step\n",
      "Optimized Parameters (HHO): lstm_units = 71, dropout_rate = 0.1\n",
      "219/219 [==============================] - 4s 9ms/step\n",
      "55/55 [==============================] - 3s 11ms/step\n"
     ]
    }
   ],
   "source": [
    "from niapy.algorithms.basic import HarrisHawksOptimization\n",
    "from niapy.task import Task\n",
    "from niapy.problems import Problem\n",
    "import numpy as np\n",
    "import pandas as pd\n",
    "from sklearn.metrics import mean_squared_error\n",
    "from tensorflow.keras.models import Sequential\n",
    "from tensorflow.keras.layers import LSTM, Dropout, Dense\n",
    "from tensorflow.keras.callbacks import EarlyStopping\n",
    "\n",
    "def create_lstm_model(units, dropout_rate):\n",
    "    model = Sequential()\n",
    "    model.add(LSTM(units=units, return_sequences=True, input_shape=(1, 7)))\n",
    "    model.add(Dropout(dropout_rate))\n",
    "    model.add(Dense(1))\n",
    "    \n",
    "    model.compile(optimizer='adam', loss='mean_squared_error')\n",
    "    return model\n",
    "\n",
    "X_train_m1_lstm = X_train_m1_scaled.reshape((X_train_m1_scaled.shape[0], 1, X_train_m1_scaled.shape[1]))\n",
    "X_test_m1_lstm = X_test_m1_scaled.reshape((X_test_m1_scaled.shape[0], 1, X_test_m1_scaled.shape[1]))\n",
    "\n",
    "class CustomLSTMBenchmark(Problem):\n",
    "    def __init__(self):\n",
    "        super().__init__(dimension=2, lower=[10, 0.1], upper=[100, 0.5])\n",
    "\n",
    "    def _evaluate(self, x):\n",
    "        units = int(x[0])  # Ensure units is an integer\n",
    "        dropout_rate = x[1]\n",
    "        \n",
    "        lstm_model = create_lstm_model(units=units, dropout_rate=dropout_rate)\n",
    "        \n",
    "        # Use early stopping to reduce training time\n",
    "        early_stopping = EarlyStopping(monitor='loss', patience=3, verbose=0)\n",
    "        \n",
    "        lstm_model.fit(X_train_m1_lstm, y_train_m1, epochs=20, batch_size=32, verbose=0, callbacks=[early_stopping])\n",
    "        \n",
    "        y_pred = lstm_model.predict(X_test_m1_lstm)\n",
    "        return mean_squared_error(y_test_m1, y_pred.flatten())\n",
    "\n",
    "task = Task(problem=CustomLSTMBenchmark(), max_evals=30) \n",
    "algo = HarrisHawksOptimization(population_size=10)  \n",
    "\n",
    "best_params_hho, best_loss = algo.run(task)\n",
    "\n",
    "# Extracting the parameters from the first element of the tuple\n",
    "best_units_hho = int(best_params_hho[0])\n",
    "best_dropout_rate_hho = best_params_hho[1]\n",
    "\n",
    "print(f\"Optimized Parameters (HHO): lstm_units = {best_units_hho}, dropout_rate = {best_dropout_rate_hho}\")\n",
    "\n",
    "# Train LSTM with HHO optimized parameters\n",
    "lstm_hho_model = create_lstm_model(units=best_units_hho, dropout_rate=best_dropout_rate_hho)\n",
    "lstm_hho_model.fit(X_train_m1_lstm, y_train_m1, epochs=2, batch_size=32, verbose=0)\n",
    "\n",
    "y_train_pred_hho = lstm_hho_model.predict(X_train_m1_lstm)\n",
    "y_test_pred_hho = lstm_hho_model.predict(X_test_m1_lstm)\n",
    "\n",
    "# Save the predictions\n",
    "results_train_hho = pd.DataFrame({'GroundTruth': y_train_m1, 'Predictions': y_train_pred_hho.flatten()})\n",
    "results_test_hho = pd.DataFrame({'GroundTruth': y_test_m1, 'Predictions': y_test_pred_hho.flatten()})\n",
    "\n",
    "results_train_hho.to_excel('outputs/M2lstm_hho_train_predictions_hho.xlsx', index=False)\n",
    "results_test_hho.to_excel('outputs/M2lstm_hho_test_predictions_hho.xlsx', index=False)\n"
   ]
  },
  {
   "cell_type": "code",
   "execution_count": 8,
   "metadata": {},
   "outputs": [
    {
     "name": "stderr",
     "output_type": "stream",
     "text": [
      "/home/wakili/anaconda3/envs/mlenv/lib/python3.8/site-packages/tqdm/auto.py:21: TqdmWarning: IProgress not found. Please update jupyter and ipywidgets. See https://ipywidgets.readthedocs.io/en/stable/user_install.html\n",
      "  from .autonotebook import tqdm as notebook_tqdm\n",
      "[I 2024-09-02 17:30:52,379] A new study created in memory with name: no-name-608ee200-c21d-409c-8edf-0389568190b1\n"
     ]
    },
    {
     "name": "stdout",
     "output_type": "stream",
     "text": [
      "55/55 [==============================] - 2s 9ms/step\n"
     ]
    },
    {
     "name": "stderr",
     "output_type": "stream",
     "text": [
      "[I 2024-09-02 17:32:32,494] Trial 0 finished with value: 0.4078194315953082 and parameters: {'units': 59, 'dropout_rate': 0.3044719536137639}. Best is trial 0 with value: 0.4078194315953082.\n"
     ]
    },
    {
     "name": "stdout",
     "output_type": "stream",
     "text": [
      "55/55 [==============================] - 2s 10ms/step\n"
     ]
    },
    {
     "name": "stderr",
     "output_type": "stream",
     "text": [
      "[I 2024-09-02 17:34:09,604] Trial 1 finished with value: 0.4192047166377434 and parameters: {'units': 49, 'dropout_rate': 0.4815700118079226}. Best is trial 0 with value: 0.4078194315953082.\n"
     ]
    },
    {
     "name": "stdout",
     "output_type": "stream",
     "text": [
      "55/55 [==============================] - 1s 6ms/step\n"
     ]
    },
    {
     "name": "stderr",
     "output_type": "stream",
     "text": [
      "[I 2024-09-02 17:35:42,579] Trial 2 finished with value: 0.40176714838853783 and parameters: {'units': 49, 'dropout_rate': 0.14850855633816537}. Best is trial 2 with value: 0.40176714838853783.\n"
     ]
    },
    {
     "name": "stdout",
     "output_type": "stream",
     "text": [
      "55/55 [==============================] - 1s 4ms/step\n"
     ]
    },
    {
     "name": "stderr",
     "output_type": "stream",
     "text": [
      "[I 2024-09-02 17:36:48,290] Trial 3 finished with value: 0.412160800751412 and parameters: {'units': 72, 'dropout_rate': 0.2754921262764236}. Best is trial 2 with value: 0.40176714838853783.\n"
     ]
    },
    {
     "name": "stdout",
     "output_type": "stream",
     "text": [
      "55/55 [==============================] - 1s 4ms/step\n"
     ]
    },
    {
     "name": "stderr",
     "output_type": "stream",
     "text": [
      "[I 2024-09-02 17:37:41,861] Trial 4 finished with value: 0.42780252661055357 and parameters: {'units': 52, 'dropout_rate': 0.4942620927091741}. Best is trial 2 with value: 0.40176714838853783.\n"
     ]
    },
    {
     "name": "stdout",
     "output_type": "stream",
     "text": [
      "55/55 [==============================] - 1s 4ms/step\n"
     ]
    },
    {
     "name": "stderr",
     "output_type": "stream",
     "text": [
      "[I 2024-09-02 17:38:42,047] Trial 5 finished with value: 0.4137837070217592 and parameters: {'units': 89, 'dropout_rate': 0.27626983062494037}. Best is trial 2 with value: 0.40176714838853783.\n"
     ]
    },
    {
     "name": "stdout",
     "output_type": "stream",
     "text": [
      "55/55 [==============================] - 1s 4ms/step\n"
     ]
    },
    {
     "name": "stderr",
     "output_type": "stream",
     "text": [
      "[I 2024-09-02 17:39:36,328] Trial 6 finished with value: 0.4229238886899152 and parameters: {'units': 46, 'dropout_rate': 0.45087046061203984}. Best is trial 2 with value: 0.40176714838853783.\n"
     ]
    },
    {
     "name": "stdout",
     "output_type": "stream",
     "text": [
      "55/55 [==============================] - 2s 7ms/step\n"
     ]
    },
    {
     "name": "stderr",
     "output_type": "stream",
     "text": [
      "[I 2024-09-02 17:41:05,391] Trial 7 finished with value: 0.42167422329368737 and parameters: {'units': 32, 'dropout_rate': 0.25943558598914895}. Best is trial 2 with value: 0.40176714838853783.\n"
     ]
    },
    {
     "name": "stdout",
     "output_type": "stream",
     "text": [
      "55/55 [==============================] - 1s 5ms/step\n"
     ]
    },
    {
     "name": "stderr",
     "output_type": "stream",
     "text": [
      "[I 2024-09-02 17:41:58,116] Trial 8 finished with value: 0.4240322630863694 and parameters: {'units': 23, 'dropout_rate': 0.34743186083124106}. Best is trial 2 with value: 0.40176714838853783.\n"
     ]
    },
    {
     "name": "stdout",
     "output_type": "stream",
     "text": [
      "55/55 [==============================] - 2s 9ms/step\n"
     ]
    },
    {
     "name": "stderr",
     "output_type": "stream",
     "text": [
      "[I 2024-09-02 17:43:39,867] Trial 9 finished with value: 0.42004761438526833 and parameters: {'units': 35, 'dropout_rate': 0.43203687895411036}. Best is trial 2 with value: 0.40176714838853783.\n"
     ]
    },
    {
     "name": "stdout",
     "output_type": "stream",
     "text": [
      "55/55 [==============================] - 2s 10ms/step\n"
     ]
    },
    {
     "name": "stderr",
     "output_type": "stream",
     "text": [
      "[I 2024-09-02 17:45:18,717] Trial 10 finished with value: 0.41776211296831994 and parameters: {'units': 13, 'dropout_rate': 0.10845643354330795}. Best is trial 2 with value: 0.40176714838853783.\n"
     ]
    },
    {
     "name": "stdout",
     "output_type": "stream",
     "text": [
      "55/55 [==============================] - 2s 10ms/step\n"
     ]
    },
    {
     "name": "stderr",
     "output_type": "stream",
     "text": [
      "[I 2024-09-02 17:46:37,833] Trial 11 finished with value: 0.40603613479715717 and parameters: {'units': 70, 'dropout_rate': 0.15657449238759122}. Best is trial 2 with value: 0.40176714838853783.\n"
     ]
    },
    {
     "name": "stdout",
     "output_type": "stream",
     "text": [
      "55/55 [==============================] - 3s 11ms/step\n"
     ]
    },
    {
     "name": "stderr",
     "output_type": "stream",
     "text": [
      "[I 2024-09-02 17:49:12,082] Trial 12 finished with value: 0.39839643233537836 and parameters: {'units': 74, 'dropout_rate': 0.12238145833133449}. Best is trial 12 with value: 0.39839643233537836.\n"
     ]
    },
    {
     "name": "stdout",
     "output_type": "stream",
     "text": [
      "55/55 [==============================] - 2s 9ms/step\n"
     ]
    },
    {
     "name": "stderr",
     "output_type": "stream",
     "text": [
      "[I 2024-09-02 17:51:09,264] Trial 13 finished with value: 0.39886752885143956 and parameters: {'units': 95, 'dropout_rate': 0.1873696984684587}. Best is trial 12 with value: 0.39839643233537836.\n"
     ]
    },
    {
     "name": "stdout",
     "output_type": "stream",
     "text": [
      "55/55 [==============================] - 3s 15ms/step\n"
     ]
    },
    {
     "name": "stderr",
     "output_type": "stream",
     "text": [
      "[I 2024-09-02 17:53:03,559] Trial 14 finished with value: 0.406744335803152 and parameters: {'units': 97, 'dropout_rate': 0.19988689332312543}. Best is trial 12 with value: 0.39839643233537836.\n"
     ]
    },
    {
     "name": "stdout",
     "output_type": "stream",
     "text": [
      "55/55 [==============================] - 2s 14ms/step\n"
     ]
    },
    {
     "name": "stderr",
     "output_type": "stream",
     "text": [
      "[I 2024-09-02 17:54:56,078] Trial 15 finished with value: 0.4273594074393848 and parameters: {'units': 83, 'dropout_rate': 0.2087251945423628}. Best is trial 12 with value: 0.39839643233537836.\n"
     ]
    },
    {
     "name": "stdout",
     "output_type": "stream",
     "text": [
      "55/55 [==============================] - 2s 9ms/step\n"
     ]
    },
    {
     "name": "stderr",
     "output_type": "stream",
     "text": [
      "[I 2024-09-02 17:56:45,984] Trial 16 finished with value: 0.3995792215105531 and parameters: {'units': 78, 'dropout_rate': 0.11524967002062508}. Best is trial 12 with value: 0.39839643233537836.\n"
     ]
    },
    {
     "name": "stdout",
     "output_type": "stream",
     "text": [
      "55/55 [==============================] - 2s 10ms/step\n"
     ]
    },
    {
     "name": "stderr",
     "output_type": "stream",
     "text": [
      "[I 2024-09-02 17:58:50,480] Trial 17 finished with value: 0.4075756897205974 and parameters: {'units': 100, 'dropout_rate': 0.2093095593002582}. Best is trial 12 with value: 0.39839643233537836.\n"
     ]
    },
    {
     "name": "stdout",
     "output_type": "stream",
     "text": [
      "55/55 [==============================] - 2s 11ms/step\n"
     ]
    },
    {
     "name": "stderr",
     "output_type": "stream",
     "text": [
      "[I 2024-09-02 18:00:41,045] Trial 18 finished with value: 0.40774061818771645 and parameters: {'units': 63, 'dropout_rate': 0.16350424680142986}. Best is trial 12 with value: 0.39839643233537836.\n"
     ]
    },
    {
     "name": "stdout",
     "output_type": "stream",
     "text": [
      "55/55 [==============================] - 2s 9ms/step\n"
     ]
    },
    {
     "name": "stderr",
     "output_type": "stream",
     "text": [
      "[I 2024-09-02 18:02:37,386] Trial 19 finished with value: 0.40709425177764086 and parameters: {'units': 91, 'dropout_rate': 0.3768840595594606}. Best is trial 12 with value: 0.39839643233537836.\n"
     ]
    },
    {
     "name": "stdout",
     "output_type": "stream",
     "text": [
      "55/55 [==============================] - 2s 10ms/step\n"
     ]
    },
    {
     "name": "stderr",
     "output_type": "stream",
     "text": [
      "[I 2024-09-02 18:04:36,757] Trial 20 finished with value: 0.40327270446814584 and parameters: {'units': 83, 'dropout_rate': 0.23562132390559692}. Best is trial 12 with value: 0.39839643233537836.\n"
     ]
    },
    {
     "name": "stdout",
     "output_type": "stream",
     "text": [
      "55/55 [==============================] - 2s 9ms/step\n"
     ]
    },
    {
     "name": "stderr",
     "output_type": "stream",
     "text": [
      "[I 2024-09-02 18:06:27,801] Trial 21 finished with value: 0.39690712337059786 and parameters: {'units': 76, 'dropout_rate': 0.10125538902125565}. Best is trial 21 with value: 0.39690712337059786.\n"
     ]
    },
    {
     "name": "stdout",
     "output_type": "stream",
     "text": [
      "55/55 [==============================] - 2s 8ms/step\n"
     ]
    },
    {
     "name": "stderr",
     "output_type": "stream",
     "text": [
      "[I 2024-09-02 18:08:15,740] Trial 22 finished with value: 0.3970602652173451 and parameters: {'units': 70, 'dropout_rate': 0.10394225069231891}. Best is trial 21 with value: 0.39690712337059786.\n"
     ]
    },
    {
     "name": "stdout",
     "output_type": "stream",
     "text": [
      "55/55 [==============================] - 2s 11ms/step\n"
     ]
    },
    {
     "name": "stderr",
     "output_type": "stream",
     "text": [
      "[I 2024-09-02 18:10:05,943] Trial 23 finished with value: 0.40019314100961073 and parameters: {'units': 66, 'dropout_rate': 0.10746173223675884}. Best is trial 21 with value: 0.39690712337059786.\n"
     ]
    },
    {
     "name": "stdout",
     "output_type": "stream",
     "text": [
      "55/55 [==============================] - 1s 5ms/step\n"
     ]
    },
    {
     "name": "stderr",
     "output_type": "stream",
     "text": [
      "[I 2024-09-02 18:11:41,871] Trial 24 finished with value: 0.40033695413898857 and parameters: {'units': 75, 'dropout_rate': 0.1495070222769202}. Best is trial 21 with value: 0.39690712337059786.\n"
     ]
    },
    {
     "name": "stdout",
     "output_type": "stream",
     "text": [
      "55/55 [==============================] - 1s 5ms/step\n"
     ]
    },
    {
     "name": "stderr",
     "output_type": "stream",
     "text": [
      "[I 2024-09-02 18:12:49,921] Trial 25 finished with value: 0.39833920643401494 and parameters: {'units': 82, 'dropout_rate': 0.10068388130901487}. Best is trial 21 with value: 0.39690712337059786.\n"
     ]
    },
    {
     "name": "stdout",
     "output_type": "stream",
     "text": [
      "55/55 [==============================] - 1s 4ms/step\n"
     ]
    },
    {
     "name": "stderr",
     "output_type": "stream",
     "text": [
      "[I 2024-09-02 18:13:55,774] Trial 26 finished with value: 0.39321996415113786 and parameters: {'units': 83, 'dropout_rate': 0.10116189422607359}. Best is trial 26 with value: 0.39321996415113786.\n"
     ]
    },
    {
     "name": "stdout",
     "output_type": "stream",
     "text": [
      "55/55 [==============================] - 2s 5ms/step\n"
     ]
    },
    {
     "name": "stderr",
     "output_type": "stream",
     "text": [
      "[I 2024-09-02 18:14:59,317] Trial 27 finished with value: 0.4040026379660742 and parameters: {'units': 62, 'dropout_rate': 0.14628752511378032}. Best is trial 26 with value: 0.39321996415113786.\n"
     ]
    },
    {
     "name": "stdout",
     "output_type": "stream",
     "text": [
      "55/55 [==============================] - 1s 5ms/step\n"
     ]
    },
    {
     "name": "stderr",
     "output_type": "stream",
     "text": [
      "[I 2024-09-02 18:16:05,494] Trial 28 finished with value: 0.4054757863279402 and parameters: {'units': 89, 'dropout_rate': 0.17113609470950453}. Best is trial 26 with value: 0.39321996415113786.\n"
     ]
    },
    {
     "name": "stdout",
     "output_type": "stream",
     "text": [
      "55/55 [==============================] - 1s 3ms/step\n"
     ]
    },
    {
     "name": "stderr",
     "output_type": "stream",
     "text": [
      "[I 2024-09-02 18:17:02,811] Trial 29 finished with value: 0.4107366669651621 and parameters: {'units': 55, 'dropout_rate': 0.3237540321041719}. Best is trial 26 with value: 0.39321996415113786.\n"
     ]
    },
    {
     "name": "stdout",
     "output_type": "stream",
     "text": [
      "219/219 [==============================] - 1s 3ms/step\n",
      "55/55 [==============================] - 1s 3ms/step\n"
     ]
    }
   ],
   "source": [
    "import optuna\n",
    "from sklearn.metrics import mean_squared_error\n",
    "from tensorflow.keras.models import Sequential\n",
    "from tensorflow.keras.layers import LSTM, Dense, Dropout\n",
    "\n",
    "# Define the LSTM model creation function\n",
    "def create_lstm_model(units, dropout_rate):\n",
    "    model = Sequential()\n",
    "    model.add(LSTM(units=units, return_sequences=False, input_shape=(1, X_train_m1_lstm.shape[2])))\n",
    "    model.add(Dropout(dropout_rate))\n",
    "    model.add(Dense(1))  # Assuming your output is a single continuous value\n",
    "    model.compile(optimizer='adam', loss='mean_squared_error')\n",
    "    return model\n",
    "\n",
    "# Reshape input data to 3D for LSTM\n",
    "X_train_m1_lstm = X_train_m1_scaled.reshape((X_train_m1_scaled.shape[0], 1, X_train_m1_scaled.shape[1]))\n",
    "X_test_m1_lstm = X_test_m1_scaled.reshape((X_test_m1_scaled.shape[0], 1, X_test_m1_scaled.shape[1]))\n",
    "\n",
    "# Objective function for BBO\n",
    "def bbo_lstm_objective(trial):\n",
    "    units = trial.suggest_int(\"units\", 10, 100)\n",
    "    dropout_rate = trial.suggest_float(\"dropout_rate\", 0.1, 0.5)\n",
    "    \n",
    "    lstm_model = create_lstm_model(units=units, dropout_rate=dropout_rate)\n",
    "    lstm_model.fit(X_train_m1_lstm, y_train_m1, epochs=50, batch_size=32, verbose=0)\n",
    "    \n",
    "    y_pred = lstm_model.predict(X_test_m1_lstm)\n",
    "    return mean_squared_error(y_test_m1, y_pred.flatten())\n",
    "\n",
    "# Create and optimize study\n",
    "study = optuna.create_study(direction=\"minimize\")\n",
    "study.optimize(bbo_lstm_objective, n_trials=30)\n",
    "\n",
    "# Retrieve best parameters\n",
    "best_units_bbo = study.best_params[\"units\"]\n",
    "best_dropout_rate_bbo = study.best_params[\"dropout_rate\"]\n",
    "\n",
    "# Train LSTM with BBO optimized parameters\n",
    "lstm_bbo_model = create_lstm_model(units=best_units_bbo, dropout_rate=best_dropout_rate_bbo)\n",
    "lstm_bbo_model.fit(X_train_m1_lstm, y_train_m1, epochs=50, batch_size=32, verbose=0)\n",
    "\n",
    "# Make predictions\n",
    "y_train_pred_bbo = lstm_bbo_model.predict(X_train_m1_lstm)\n",
    "y_test_pred_bbo = lstm_bbo_model.predict(X_test_m1_lstm)\n",
    "\n",
    "# Save the predictions\n",
    "results_train_bbo = pd.DataFrame({'GroundTruth': y_train_m1, 'Predictions': y_train_pred_bbo.flatten()})\n",
    "results_test_bbo = pd.DataFrame({'GroundTruth': y_test_m1, 'Predictions': y_test_pred_bbo.flatten()})\n",
    "\n",
    "results_train_bbo.to_excel('outputs/lstm_bbo_train_predictions.xlsx', index=False)\n",
    "results_test_bbo.to_excel('outputs/lstm_bbo_test_predictions.xlsx', index=False)\n"
   ]
  },
  {
   "cell_type": "code",
   "execution_count": null,
   "metadata": {},
   "outputs": [],
   "source": [
    "print(\"Done!\")"
   ]
  },
  {
   "cell_type": "code",
   "execution_count": null,
   "metadata": {},
   "outputs": [],
   "source": []
  }
 ],
 "metadata": {
  "kernelspec": {
   "display_name": "mlenv",
   "language": "python",
   "name": "python3"
  },
  "language_info": {
   "codemirror_mode": {
    "name": "ipython",
    "version": 3
   },
   "file_extension": ".py",
   "mimetype": "text/x-python",
   "name": "python",
   "nbconvert_exporter": "python",
   "pygments_lexer": "ipython3",
   "version": "3.8.18"
  }
 },
 "nbformat": 4,
 "nbformat_minor": 2
}
