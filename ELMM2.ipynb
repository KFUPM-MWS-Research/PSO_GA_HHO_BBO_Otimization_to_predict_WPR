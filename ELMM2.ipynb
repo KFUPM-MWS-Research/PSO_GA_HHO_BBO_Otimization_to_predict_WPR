{
 "cells": [
  {
   "cell_type": "code",
   "execution_count": 13,
   "metadata": {},
   "outputs": [],
   "source": [
    "import pandas as pd\n",
    "import numpy as np\n",
    "from sklearn.model_selection import train_test_split\n",
    "from sklearn.metrics import mean_squared_error\n",
    "import numpy as np\n",
    "from sklearn.base import BaseEstimator, RegressorMixin\n",
    "from sklearn.preprocessing import StandardScaler, LabelEncoder, OneHotEncoder\n",
    "\n",
    "\n",
    "# Load the dataset\n",
    "data_m1 = pd.read_excel('data/M2.xlsx')\n",
    "\n",
    "# Features (X) and target (y)\n",
    "X_m1 = data_m1.drop('WPR', axis=1)\n",
    "y_m1 = data_m1['WPR']\n",
    "\n",
    "# Split data into training and testing sets\n",
    "X_train_m1, X_test_m1, y_train_m1, y_test_m1 = train_test_split(X_m1, y_m1, test_size=0.2, random_state=42)\n",
    "\n",
    "scaler = StandardScaler()\n",
    "X_train_m1 = scaler.fit_transform(X_train_m1)\n",
    "X_test_m1 = scaler.transform(X_test_m1)\n",
    "\n"
   ]
  },
  {
   "cell_type": "code",
   "execution_count": 14,
   "metadata": {},
   "outputs": [],
   "source": [
    "from sklearn.impute import SimpleImputer\n",
    "\n",
    "imputer = SimpleImputer(strategy='mean')  # You can choose 'median', 'most_frequent', or 'constant'\n",
    "X_train_m1 = imputer.fit_transform(X_train_m1)\n",
    "X_test_m1 = imputer.transform(X_test_m1)\n"
   ]
  },
  {
   "cell_type": "code",
   "execution_count": 15,
   "metadata": {},
   "outputs": [
    {
     "name": "stdout",
     "output_type": "stream",
     "text": [
      "0\n",
      "0\n",
      "0\n",
      "0\n"
     ]
    }
   ],
   "source": [
    "import numpy as np\n",
    "\n",
    "print(np.isnan(X_train_m1).sum())  # Count NaNs in training features\n",
    "print(np.isnan(X_test_m1).sum())   # Count NaNs in testing features\n",
    "print(np.isnan(y_train_m1).sum())  # Count NaNs in training labels\n",
    "print(np.isnan(y_test_m1).sum())   # Count NaNs in testing labels\n"
   ]
  },
  {
   "cell_type": "code",
   "execution_count": 16,
   "metadata": {},
   "outputs": [
    {
     "name": "stdout",
     "output_type": "stream",
     "text": [
      "ELM MSE (Train): 0.4439200853166348\n",
      "ELM MSE (Test): 0.39980961288530514\n"
     ]
    }
   ],
   "source": [
    "from numpy.linalg import inv\n",
    "\n",
    "class ELM:\n",
    "    def __init__(self, n_hidden):\n",
    "        self.n_hidden = n_hidden\n",
    "    \n",
    "    def sigmoid(self, x):\n",
    "        return 1 / (1 + np.exp(-x))\n",
    "    \n",
    "    def fit(self, X, y, reg=1e-6):\n",
    "        self.input_weights = np.random.rand(X.shape[1], self.n_hidden) * 2 - 1\n",
    "        self.biases = np.random.rand(1, self.n_hidden)\n",
    "        H = self.sigmoid(np.dot(X, self.input_weights) + self.biases)\n",
    "        \n",
    "        # Regularization added to the pseudo-inverse calculation\n",
    "        H_T_H = np.dot(H.T, H) + reg * np.identity(H.shape[1])\n",
    "        self.output_weights = np.dot(inv(H_T_H), np.dot(H.T, y))\n",
    "        \n",
    "        return self\n",
    "    \n",
    "    def predict(self, X):\n",
    "        H = self.sigmoid(np.dot(X, self.input_weights) + self.biases)\n",
    "        return np.dot(H, self.output_weights)\n",
    "\n",
    "# Train the ELM model with regularization\n",
    "elm = ELM(n_hidden=20)\n",
    "elm.fit(X_train_m1, y_train_m1)\n",
    "\n",
    "\n",
    "# Predict and evaluate the model\n",
    "y_train_pred_elm = elm.predict(X_train_m1)\n",
    "y_test_pred_elm = elm.predict(X_test_m1)\n",
    "\n",
    "mse_train_elm = mean_squared_error(y_train_m1, y_train_pred_elm)\n",
    "mse_test_elm = mean_squared_error(y_test_m1, y_test_pred_elm)\n",
    "\n",
    "print(\"ELM MSE (Train):\", mse_train_elm)\n",
    "print(\"ELM MSE (Test):\", mse_test_elm)\n"
   ]
  },
  {
   "cell_type": "code",
   "execution_count": 17,
   "metadata": {},
   "outputs": [],
   "source": [
    "# Save the predictions\n",
    "results_train_elm = pd.DataFrame({'GroundTruth': y_train_m1, 'Predictions': y_train_pred_elm})\n",
    "results_test_elm = pd.DataFrame({'GroundTruth': y_test_m1, 'Predictions': y_test_pred_elm})\n",
    "\n",
    "results_train_elm.to_excel('outputs/M2elm_train_predictions.xlsx', index=False)\n",
    "results_test_elm.to_csv('outputs/M2elm_pso_test_predictions.xlsx', index=False)"
   ]
  },
  {
   "cell_type": "code",
   "execution_count": 18,
   "metadata": {},
   "outputs": [
    {
     "name": "stdout",
     "output_type": "stream",
     "text": [
      "Stopping search: Swarm best position change less than 1e-08\n",
      "Best n_hidden from PSO: 100\n",
      "Best MSE from PSO: 0.3278589455859316\n"
     ]
    }
   ],
   "source": [
    "# PSO Optimization\n",
    "from pyswarm import pso\n",
    "\n",
    "def pso_objective(params):\n",
    "    n_hidden = int(params[0])\n",
    "    elm = ELM(n_hidden=n_hidden)\n",
    "    elm.fit(X_train_m1, y_train_m1)\n",
    "    y_pred = elm.predict(X_test_m1)\n",
    "    return mean_squared_error(y_test_m1, y_pred)\n",
    "\n",
    "lb = [10]  # lower bound\n",
    "ub = [100]  # upper bound\n",
    "\n",
    "best_params_pso, best_mse_pso = pso(pso_objective, lb, ub, swarmsize=50, maxiter=100)\n",
    "best_n_hidden_pso = int(best_params_pso[0])\n",
    "\n",
    "print(\"Best n_hidden from PSO:\", best_n_hidden_pso)\n",
    "print(\"Best MSE from PSO:\", best_mse_pso)"
   ]
  },
  {
   "cell_type": "code",
   "execution_count": 20,
   "metadata": {},
   "outputs": [
    {
     "name": "stdout",
     "output_type": "stream",
     "text": [
      "PSO Optimized ELM MSE (Train): 0.3499632282361589\n",
      "PSO Optimized ELM MSE (Test): 0.3310065239145373\n"
     ]
    }
   ],
   "source": [
    "# Train with PSO optimized parameters\n",
    "elm_pso = ELM(n_hidden=best_n_hidden_pso)\n",
    "elm_pso.fit(X_train_m1, y_train_m1)\n",
    "\n",
    "y_train_pred_pso = elm_pso.predict(X_train_m1)\n",
    "y_test_pred_pso = elm_pso.predict(X_test_m1)\n",
    "\n",
    "mse_train_pso = mean_squared_error(y_train_m1, y_train_pred_pso)\n",
    "mse_test_pso = mean_squared_error(y_test_m1, y_test_pred_pso)\n",
    "\n",
    "print(\"PSO Optimized ELM MSE (Train):\", mse_train_pso)\n",
    "print(\"PSO Optimized ELM MSE (Test):\", mse_test_pso)\n",
    "\n",
    "# Save the predictions\n",
    "results_train_pso = pd.DataFrame({'GroundTruth': y_train_m1, 'Predictions': y_train_pred_pso})\n",
    "results_test_pso = pd.DataFrame({'GroundTruth': y_test_m1, 'Predictions': y_test_pred_pso})\n",
    "\n",
    "results_train_pso.to_excel('outputs/M2elm_pso_train_predictions.xlsx', index=False)\n",
    "results_test_pso.to_excel('outputs/M2elm_pso_test_predictions.xlsx', index=False)"
   ]
  },
  {
   "cell_type": "code",
   "execution_count": 21,
   "metadata": {},
   "outputs": [
    {
     "name": "stdout",
     "output_type": "stream",
     "text": [
      " The best solution found:                                                                           \n",
      " [93.]\n",
      "\n",
      " Objective function:\n",
      " 0.3265714543126478\n"
     ]
    },
    {
     "data": {
      "image/png": "[encoded data removed]",
      "text/plain": [
       "<Figure size 640x480 with 1 Axes>"
      ]
     },
     "metadata": {},
     "output_type": "display_data"
    },
    {
     "name": "stdout",
     "output_type": "stream",
     "text": [
      "Best n_hidden from GA: 93\n",
      "Best MSE from GA: 0.3265714543126478\n"
     ]
    }
   ],
   "source": [
    "#Optimization using Genetic Algorithm\n",
    "from geneticalgorithm import geneticalgorithm as ga\n",
    "\n",
    "# Define the objective function for GA\n",
    "def ga_objective(params):\n",
    "    n_hidden = int(params[0])\n",
    "    elm = ELM(n_hidden=n_hidden)\n",
    "    elm.fit(X_train_m1, y_train_m1)\n",
    "    y_pred = elm.predict(X_test_m1)\n",
    "    return mean_squared_error(y_test_m1, y_pred)\n",
    "\n",
    "# Define the variable bounds\n",
    "varbound = np.array([[10, 100]])\n",
    "\n",
    "# Set up the GA model\n",
    "model = ga(function=ga_objective, dimension=1, variable_type='int', variable_boundaries=varbound)\n",
    "\n",
    "# Run the GA optimization\n",
    "model.run()\n",
    "\n",
    "best_n_hidden_ga = int(model.output_dict['variable'][0])\n",
    "best_mse_ga = model.output_dict['function']\n",
    "\n",
    "print(\"Best n_hidden from GA:\", best_n_hidden_ga)\n",
    "print(\"Best MSE from GA:\", best_mse_ga)\n"
   ]
  },
  {
   "cell_type": "code",
   "execution_count": 27,
   "metadata": {},
   "outputs": [
    {
     "name": "stdout",
     "output_type": "stream",
     "text": [
      "GA Optimized ELM MSE (Train): 0.3503759530324282\n",
      "GA Optimized ELM MSE (Test): 0.336217900011469\n"
     ]
    }
   ],
   "source": [
    "# Train with GA optimized parameters\n",
    "elm_ga = ELM(n_hidden=best_n_hidden_ga)\n",
    "elm_ga.fit(X_train_m1, y_train_m1)\n",
    "\n",
    "y_train_pred_ga = elm_ga.predict(X_train_m1)\n",
    "y_test_pred_ga = elm_ga.predict(X_test_m1)\n",
    "\n",
    "mse_train_ga = mean_squared_error(y_train_m1, y_train_pred_ga)\n",
    "mse_test_ga = mean_squared_error(y_test_m1, y_test_pred_ga)\n",
    "\n",
    "print(\"GA Optimized ELM MSE (Train):\", mse_train_ga)\n",
    "print(\"GA Optimized ELM MSE (Test):\", mse_test_ga)\n",
    "\n",
    "# Save the predictions\n",
    "results_train_ga = pd.DataFrame({'GroundTruth': y_train_m1, 'Predictions': y_train_pred_ga})\n",
    "results_test_ga = pd.DataFrame({'GroundTruth': y_test_m1, 'Predictions': y_test_pred_ga})\n",
    "\n",
    "results_train_ga.to_excel('outputs/M2elm_ga_train_predictions.xlsx', index=False)\n",
    "results_test_ga.to_excel('outputs/M2elm_ga_test_predictions.xlsx', index=False)\n"
   ]
  },
  {
   "cell_type": "code",
   "execution_count": 28,
   "metadata": {},
   "outputs": [
    {
     "name": "stdout",
     "output_type": "stream",
     "text": [
      "Best n_hidden from HHO: 75\n",
      "Best MSE from HHO: 0.3292228444096795\n"
     ]
    }
   ],
   "source": [
    "from niapy.algorithms.basic import HarrisHawksOptimization\n",
    "from niapy.task import Task\n",
    "from niapy.problems import Problem\n",
    "\n",
    "# Define the custom benchmark for HHO\n",
    "class CustomELMBenchmark(Problem):\n",
    "    def __init__(self):\n",
    "        super().__init__(dimension=1, lower=10, upper=100)\n",
    "\n",
    "    def _evaluate(self, x):\n",
    "        n_hidden = int(x[0])\n",
    "        elm = ELM(n_hidden=n_hidden)\n",
    "        elm.fit(X_train_m1, y_train_m1)\n",
    "        y_pred = elm.predict(X_test_m1)\n",
    "        return mean_squared_error(y_test_m1, y_pred)\n",
    "\n",
    "# Define the task and algorithm\n",
    "task = Task(problem=CustomELMBenchmark(), max_evals=100)\n",
    "algo = HarrisHawksOptimization(population_size=30)\n",
    "\n",
    "# Run the HHO optimization\n",
    "best_params_hho, best_mse_hho = algo.run(task)\n",
    "best_n_hidden_hho = int(best_params_hho[0])\n",
    "\n",
    "print(\"Best n_hidden from HHO:\", best_n_hidden_hho)\n",
    "print(\"Best MSE from HHO:\", best_mse_hho)\n"
   ]
  },
  {
   "cell_type": "code",
   "execution_count": 29,
   "metadata": {},
   "outputs": [
    {
     "name": "stdout",
     "output_type": "stream",
     "text": [
      "HHO Optimized ELM MSE (Train): 0.35589313006747525\n",
      "HHO Optimized ELM MSE (Test): 0.33480196711488824\n"
     ]
    }
   ],
   "source": [
    "# Train with HHO optimized parameters\n",
    "elm_hho = ELM(n_hidden=best_n_hidden_hho)\n",
    "elm_hho.fit(X_train_m1, y_train_m1)\n",
    "\n",
    "y_train_pred_hho = elm_hho.predict(X_train_m1)\n",
    "y_test_pred_hho = elm_hho.predict(X_test_m1)\n",
    "\n",
    "mse_train_hho = mean_squared_error(y_train_m1, y_train_pred_hho)\n",
    "mse_test_hho = mean_squared_error(y_test_m1, y_test_pred_hho)\n",
    "\n",
    "print(\"HHO Optimized ELM MSE (Train):\", mse_train_hho)\n",
    "print(\"HHO Optimized ELM MSE (Test):\", mse_test_hho)\n",
    "\n",
    "# Save the predictions\n",
    "results_train_hho = pd.DataFrame({'GroundTruth': y_train_m1, 'Predictions': y_train_pred_hho})\n",
    "results_test_hho = pd.DataFrame({'GroundTruth': y_test_m1, 'Predictions': y_test_pred_hho})\n",
    "\n",
    "results_train_hho.to_excel('outputs/M2elm_hho_train_predictions.xlsx', index=False)\n",
    "results_test_hho.to_excel('outputs/M2elm_hho_test_predictions.xlsx', index=False)"
   ]
  },
  {
   "cell_type": "code",
   "execution_count": 30,
   "metadata": {},
   "outputs": [
    {
     "name": "stderr",
     "output_type": "stream",
     "text": [
      "[I 2024-08-31 23:32:48,278] A new study created in memory with name: no-name-bf857b8f-57a0-4e6e-ae93-484bb7c26a1d\n"
     ]
    },
    {
     "name": "stderr",
     "output_type": "stream",
     "text": [
      "[I 2024-08-31 23:32:48,605] Trial 0 finished with value: 0.33216407697002964 and parameters: {'n_hidden': 97}. Best is trial 0 with value: 0.33216407697002964.\n",
      "[I 2024-08-31 23:32:48,696] Trial 1 finished with value: 0.34190703326441246 and parameters: {'n_hidden': 47}. Best is trial 0 with value: 0.33216407697002964.\n",
      "[I 2024-08-31 23:32:48,953] Trial 2 finished with value: 0.33264966759723263 and parameters: {'n_hidden': 96}. Best is trial 0 with value: 0.33216407697002964.\n",
      "[I 2024-08-31 23:32:49,212] Trial 3 finished with value: 0.32850992872018436 and parameters: {'n_hidden': 96}. Best is trial 3 with value: 0.32850992872018436.\n",
      "[I 2024-08-31 23:32:49,283] Trial 4 finished with value: 0.36628638381064865 and parameters: {'n_hidden': 28}. Best is trial 3 with value: 0.32850992872018436.\n",
      "[I 2024-08-31 23:32:49,385] Trial 5 finished with value: 0.3525539076310679 and parameters: {'n_hidden': 48}. Best is trial 3 with value: 0.32850992872018436.\n",
      "[I 2024-08-31 23:32:49,515] Trial 6 finished with value: 0.3334280165026393 and parameters: {'n_hidden': 83}. Best is trial 3 with value: 0.32850992872018436.\n",
      "[I 2024-08-31 23:32:49,616] Trial 7 finished with value: 0.3371519572306358 and parameters: {'n_hidden': 57}. Best is trial 3 with value: 0.32850992872018436.\n",
      "[I 2024-08-31 23:32:49,734] Trial 8 finished with value: 0.34343345346916254 and parameters: {'n_hidden': 49}. Best is trial 3 with value: 0.32850992872018436.\n",
      "[I 2024-08-31 23:32:49,817] Trial 9 finished with value: 0.33812318523014684 and parameters: {'n_hidden': 45}. Best is trial 3 with value: 0.32850992872018436.\n",
      "[I 2024-08-31 23:32:49,999] Trial 10 finished with value: 0.3315262907516349 and parameters: {'n_hidden': 73}. Best is trial 3 with value: 0.32850992872018436.\n",
      "[I 2024-08-31 23:32:50,195] Trial 11 finished with value: 0.3365031221145816 and parameters: {'n_hidden': 75}. Best is trial 3 with value: 0.32850992872018436.\n",
      "[I 2024-08-31 23:32:50,399] Trial 12 finished with value: 0.3337736225198535 and parameters: {'n_hidden': 74}. Best is trial 3 with value: 0.32850992872018436.\n",
      "[I 2024-08-31 23:32:50,520] Trial 13 finished with value: 0.33960436894525464 and parameters: {'n_hidden': 85}. Best is trial 3 with value: 0.32850992872018436.\n",
      "[I 2024-08-31 23:32:50,704] Trial 14 finished with value: 0.3371958864710931 and parameters: {'n_hidden': 66}. Best is trial 3 with value: 0.32850992872018436.\n",
      "[I 2024-08-31 23:32:50,918] Trial 15 finished with value: 0.33962986154369773 and parameters: {'n_hidden': 87}. Best is trial 3 with value: 0.32850992872018436.\n",
      "[I 2024-08-31 23:32:50,985] Trial 16 finished with value: 0.47091900670087 and parameters: {'n_hidden': 11}. Best is trial 3 with value: 0.32850992872018436.\n",
      "[I 2024-08-31 23:32:51,096] Trial 17 finished with value: 0.33599980732166806 and parameters: {'n_hidden': 65}. Best is trial 3 with value: 0.32850992872018436.\n",
      "[I 2024-08-31 23:32:51,217] Trial 18 finished with value: 0.33153492702930754 and parameters: {'n_hidden': 96}. Best is trial 3 with value: 0.32850992872018436.\n",
      "[I 2024-08-31 23:32:51,339] Trial 19 finished with value: 0.3374277726757652 and parameters: {'n_hidden': 75}. Best is trial 3 with value: 0.32850992872018436.\n",
      "[I 2024-08-31 23:32:51,581] Trial 20 finished with value: 0.33109291617231607 and parameters: {'n_hidden': 100}. Best is trial 3 with value: 0.32850992872018436.\n",
      "[I 2024-08-31 23:32:51,774] Trial 21 finished with value: 0.3296553476682913 and parameters: {'n_hidden': 100}. Best is trial 3 with value: 0.32850992872018436.\n",
      "[I 2024-08-31 23:32:51,912] Trial 22 finished with value: 0.3335714225534287 and parameters: {'n_hidden': 90}. Best is trial 3 with value: 0.32850992872018436.\n",
      "[I 2024-08-31 23:32:52,079] Trial 23 finished with value: 0.33130851550028945 and parameters: {'n_hidden': 100}. Best is trial 3 with value: 0.32850992872018436.\n",
      "[I 2024-08-31 23:32:52,187] Trial 24 finished with value: 0.33303039479441254 and parameters: {'n_hidden': 91}. Best is trial 3 with value: 0.32850992872018436.\n",
      "[I 2024-08-31 23:32:52,337] Trial 25 finished with value: 0.3327896268542046 and parameters: {'n_hidden': 83}. Best is trial 3 with value: 0.32850992872018436.\n",
      "[I 2024-08-31 23:32:52,478] Trial 26 finished with value: 0.3548545098209589 and parameters: {'n_hidden': 31}. Best is trial 3 with value: 0.32850992872018436.\n",
      "[I 2024-08-31 23:32:52,680] Trial 27 finished with value: 0.3318710965316723 and parameters: {'n_hidden': 93}. Best is trial 3 with value: 0.32850992872018436.\n",
      "[I 2024-08-31 23:32:52,885] Trial 28 finished with value: 0.33267416394979 and parameters: {'n_hidden': 100}. Best is trial 3 with value: 0.32850992872018436.\n",
      "[I 2024-08-31 23:32:53,041] Trial 29 finished with value: 0.33222449870558995 and parameters: {'n_hidden': 81}. Best is trial 3 with value: 0.32850992872018436.\n",
      "[I 2024-08-31 23:32:53,191] Trial 30 finished with value: 0.33250365384017494 and parameters: {'n_hidden': 100}. Best is trial 3 with value: 0.32850992872018436.\n",
      "[I 2024-08-31 23:32:53,376] Trial 31 finished with value: 0.33151348266107655 and parameters: {'n_hidden': 93}. Best is trial 3 with value: 0.32850992872018436.\n",
      "[I 2024-08-31 23:32:53,630] Trial 32 finished with value: 0.33065410655852584 and parameters: {'n_hidden': 100}. Best is trial 3 with value: 0.32850992872018436.\n",
      "[I 2024-08-31 23:32:53,840] Trial 33 finished with value: 0.3318977848148277 and parameters: {'n_hidden': 89}. Best is trial 3 with value: 0.32850992872018436.\n",
      "[I 2024-08-31 23:32:54,040] Trial 34 finished with value: 0.3331735970656391 and parameters: {'n_hidden': 94}. Best is trial 3 with value: 0.32850992872018436.\n",
      "[I 2024-08-31 23:32:54,340] Trial 35 finished with value: 0.3379138373731267 and parameters: {'n_hidden': 79}. Best is trial 3 with value: 0.32850992872018436.\n",
      "[I 2024-08-31 23:32:54,622] Trial 36 finished with value: 0.32910494194125656 and parameters: {'n_hidden': 95}. Best is trial 3 with value: 0.32850992872018436.\n",
      "[I 2024-08-31 23:32:54,712] Trial 37 finished with value: 0.3288838081386464 and parameters: {'n_hidden': 87}. Best is trial 3 with value: 0.32850992872018436.\n",
      "[I 2024-08-31 23:32:54,851] Trial 38 finished with value: 0.3284836615164045 and parameters: {'n_hidden': 88}. Best is trial 38 with value: 0.3284836615164045.\n",
      "[I 2024-08-31 23:32:55,014] Trial 39 finished with value: 0.3328384647131885 and parameters: {'n_hidden': 65}. Best is trial 38 with value: 0.3284836615164045.\n",
      "[I 2024-08-31 23:32:55,242] Trial 40 finished with value: 0.3330433391491035 and parameters: {'n_hidden': 87}. Best is trial 38 with value: 0.3284836615164045.\n",
      "[I 2024-08-31 23:32:55,466] Trial 41 finished with value: 0.3365476553221002 and parameters: {'n_hidden': 95}. Best is trial 38 with value: 0.3284836615164045.\n",
      "[I 2024-08-31 23:32:55,600] Trial 42 finished with value: 0.33573062681141774 and parameters: {'n_hidden': 89}. Best is trial 38 with value: 0.3284836615164045.\n",
      "[I 2024-08-31 23:32:55,707] Trial 43 finished with value: 0.3349150214422795 and parameters: {'n_hidden': 69}. Best is trial 38 with value: 0.3284836615164045.\n",
      "[I 2024-08-31 23:32:55,830] Trial 44 finished with value: 0.3331746456421656 and parameters: {'n_hidden': 79}. Best is trial 38 with value: 0.3284836615164045.\n",
      "[I 2024-08-31 23:32:55,968] Trial 45 finished with value: 0.3370604679433226 and parameters: {'n_hidden': 85}. Best is trial 38 with value: 0.3284836615164045.\n",
      "[I 2024-08-31 23:32:56,072] Trial 46 finished with value: 0.3374280929082741 and parameters: {'n_hidden': 59}. Best is trial 38 with value: 0.3284836615164045.\n",
      "[I 2024-08-31 23:32:56,133] Trial 47 finished with value: 0.3594155942276402 and parameters: {'n_hidden': 38}. Best is trial 38 with value: 0.3284836615164045.\n",
      "[I 2024-08-31 23:32:56,210] Trial 48 finished with value: 0.5352527225998314 and parameters: {'n_hidden': 10}. Best is trial 38 with value: 0.3284836615164045.\n",
      "[I 2024-08-31 23:32:56,370] Trial 49 finished with value: 0.3297976502022307 and parameters: {'n_hidden': 96}. Best is trial 38 with value: 0.3284836615164045.\n",
      "[I 2024-08-31 23:32:56,501] Trial 50 finished with value: 0.3330262194353678 and parameters: {'n_hidden': 77}. Best is trial 38 with value: 0.3284836615164045.\n",
      "[I 2024-08-31 23:32:56,666] Trial 51 finished with value: 0.3336812486003377 and parameters: {'n_hidden': 95}. Best is trial 38 with value: 0.3284836615164045.\n",
      "[I 2024-08-31 23:32:56,836] Trial 52 finished with value: 0.3324017019357995 and parameters: {'n_hidden': 96}. Best is trial 38 with value: 0.3284836615164045.\n",
      "[I 2024-08-31 23:32:57,002] Trial 53 finished with value: 0.33263573203830676 and parameters: {'n_hidden': 85}. Best is trial 38 with value: 0.3284836615164045.\n",
      "[I 2024-08-31 23:32:57,176] Trial 54 finished with value: 0.3307927629171028 and parameters: {'n_hidden': 92}. Best is trial 38 with value: 0.3284836615164045.\n",
      "[I 2024-08-31 23:32:57,327] Trial 55 finished with value: 0.33542487075333227 and parameters: {'n_hidden': 97}. Best is trial 38 with value: 0.3284836615164045.\n",
      "[I 2024-08-31 23:32:57,458] Trial 56 finished with value: 0.3355234978135441 and parameters: {'n_hidden': 70}. Best is trial 38 with value: 0.3284836615164045.\n",
      "[I 2024-08-31 23:32:57,599] Trial 57 finished with value: 0.33292855424205964 and parameters: {'n_hidden': 89}. Best is trial 38 with value: 0.3284836615164045.\n",
      "[I 2024-08-31 23:32:57,709] Trial 58 finished with value: 0.3322123593952298 and parameters: {'n_hidden': 82}. Best is trial 38 with value: 0.3284836615164045.\n",
      "[I 2024-08-31 23:32:57,786] Trial 59 finished with value: 0.4259554038558865 and parameters: {'n_hidden': 16}. Best is trial 38 with value: 0.3284836615164045.\n",
      "[I 2024-08-31 23:32:57,929] Trial 60 finished with value: 0.3318536125840764 and parameters: {'n_hidden': 87}. Best is trial 38 with value: 0.3284836615164045.\n",
      "[I 2024-08-31 23:32:58,092] Trial 61 finished with value: 0.33386203743345344 and parameters: {'n_hidden': 98}. Best is trial 38 with value: 0.3284836615164045.\n",
      "[I 2024-08-31 23:32:58,260] Trial 62 finished with value: 0.3328071181692746 and parameters: {'n_hidden': 98}. Best is trial 38 with value: 0.3284836615164045.\n",
      "[I 2024-08-31 23:32:58,397] Trial 63 finished with value: 0.3312472293907785 and parameters: {'n_hidden': 92}. Best is trial 38 with value: 0.3284836615164045.\n",
      "[I 2024-08-31 23:32:58,521] Trial 64 finished with value: 0.33272304381159923 and parameters: {'n_hidden': 98}. Best is trial 38 with value: 0.3284836615164045.\n",
      "[I 2024-08-31 23:32:58,603] Trial 65 finished with value: 0.34230364880962094 and parameters: {'n_hidden': 51}. Best is trial 38 with value: 0.3284836615164045.\n",
      "[I 2024-08-31 23:32:58,714] Trial 66 finished with value: 0.3328416110838003 and parameters: {'n_hidden': 91}. Best is trial 38 with value: 0.3284836615164045.\n",
      "[I 2024-08-31 23:32:58,828] Trial 67 finished with value: 0.33102386406020723 and parameters: {'n_hidden': 100}. Best is trial 38 with value: 0.3284836615164045.\n",
      "[I 2024-08-31 23:32:58,958] Trial 68 finished with value: 0.33090849780824355 and parameters: {'n_hidden': 95}. Best is trial 38 with value: 0.3284836615164045.\n",
      "[I 2024-08-31 23:32:59,082] Trial 69 finished with value: 0.33049854849555366 and parameters: {'n_hidden': 86}. Best is trial 38 with value: 0.3284836615164045.\n",
      "[I 2024-08-31 23:32:59,193] Trial 70 finished with value: 0.33055071391867674 and parameters: {'n_hidden': 85}. Best is trial 38 with value: 0.3284836615164045.\n",
      "[I 2024-08-31 23:32:59,311] Trial 71 finished with value: 0.33298547891568553 and parameters: {'n_hidden': 86}. Best is trial 38 with value: 0.3284836615164045.\n",
      "[I 2024-08-31 23:32:59,449] Trial 72 finished with value: 0.3322826995143476 and parameters: {'n_hidden': 83}. Best is trial 38 with value: 0.3284836615164045.\n",
      "[I 2024-08-31 23:32:59,575] Trial 73 finished with value: 0.33446786887541113 and parameters: {'n_hidden': 80}. Best is trial 38 with value: 0.3284836615164045.\n",
      "[I 2024-08-31 23:32:59,698] Trial 74 finished with value: 0.3356134503651109 and parameters: {'n_hidden': 89}. Best is trial 38 with value: 0.3284836615164045.\n",
      "[I 2024-08-31 23:32:59,885] Trial 75 finished with value: 0.33209154731646384 and parameters: {'n_hidden': 93}. Best is trial 38 with value: 0.3284836615164045.\n",
      "[I 2024-08-31 23:32:59,991] Trial 76 finished with value: 0.3310741093940794 and parameters: {'n_hidden': 77}. Best is trial 38 with value: 0.3284836615164045.\n",
      "[I 2024-08-31 23:33:00,099] Trial 77 finished with value: 0.33302938176684843 and parameters: {'n_hidden': 88}. Best is trial 38 with value: 0.3284836615164045.\n",
      "[I 2024-08-31 23:33:00,213] Trial 78 finished with value: 0.33247795225104393 and parameters: {'n_hidden': 91}. Best is trial 38 with value: 0.3284836615164045.\n",
      "[I 2024-08-31 23:33:00,309] Trial 79 finished with value: 0.3334334129229892 and parameters: {'n_hidden': 84}. Best is trial 38 with value: 0.3284836615164045.\n",
      "[I 2024-08-31 23:33:00,409] Trial 80 finished with value: 0.3338969046329083 and parameters: {'n_hidden': 95}. Best is trial 38 with value: 0.3284836615164045.\n",
      "[I 2024-08-31 23:33:00,502] Trial 81 finished with value: 0.32982061528434276 and parameters: {'n_hidden': 98}. Best is trial 38 with value: 0.3284836615164045.\n",
      "[I 2024-08-31 23:33:00,628] Trial 82 finished with value: 0.33081365702208415 and parameters: {'n_hidden': 97}. Best is trial 38 with value: 0.3284836615164045.\n",
      "[I 2024-08-31 23:33:00,732] Trial 83 finished with value: 0.33115472590827116 and parameters: {'n_hidden': 93}. Best is trial 38 with value: 0.3284836615164045.\n",
      "[I 2024-08-31 23:33:00,842] Trial 84 finished with value: 0.3351645805549944 and parameters: {'n_hidden': 90}. Best is trial 38 with value: 0.3284836615164045.\n",
      "[I 2024-08-31 23:33:00,957] Trial 85 finished with value: 0.3313334818235805 and parameters: {'n_hidden': 98}. Best is trial 38 with value: 0.3284836615164045.\n",
      "[I 2024-08-31 23:33:01,064] Trial 86 finished with value: 0.33442708116259706 and parameters: {'n_hidden': 87}. Best is trial 38 with value: 0.3284836615164045.\n",
      "[I 2024-08-31 23:33:01,186] Trial 87 finished with value: 0.32892371762374556 and parameters: {'n_hidden': 94}. Best is trial 38 with value: 0.3284836615164045.\n",
      "[I 2024-08-31 23:33:01,305] Trial 88 finished with value: 0.33206227903838836 and parameters: {'n_hidden': 94}. Best is trial 38 with value: 0.3284836615164045.\n",
      "[I 2024-08-31 23:33:01,442] Trial 89 finished with value: 0.33533467464950173 and parameters: {'n_hidden': 100}. Best is trial 38 with value: 0.3284836615164045.\n",
      "[I 2024-08-31 23:33:01,534] Trial 90 finished with value: 0.33588296556089364 and parameters: {'n_hidden': 43}. Best is trial 38 with value: 0.3284836615164045.\n",
      "[I 2024-08-31 23:33:01,671] Trial 91 finished with value: 0.3322100051076846 and parameters: {'n_hidden': 96}. Best is trial 38 with value: 0.3284836615164045.\n",
      "[I 2024-08-31 23:33:01,777] Trial 92 finished with value: 0.3320754412765727 and parameters: {'n_hidden': 92}. Best is trial 38 with value: 0.3284836615164045.\n",
      "[I 2024-08-31 23:33:01,863] Trial 93 finished with value: 0.3328897987381366 and parameters: {'n_hidden': 86}. Best is trial 38 with value: 0.3284836615164045.\n",
      "[I 2024-08-31 23:33:01,970] Trial 94 finished with value: 0.33610094881790337 and parameters: {'n_hidden': 82}. Best is trial 38 with value: 0.3284836615164045.\n",
      "[I 2024-08-31 23:33:02,099] Trial 95 finished with value: 0.33469496677732874 and parameters: {'n_hidden': 97}. Best is trial 38 with value: 0.3284836615164045.\n",
      "[I 2024-08-31 23:33:02,188] Trial 96 finished with value: 0.3405290231539617 and parameters: {'n_hidden': 59}. Best is trial 38 with value: 0.3284836615164045.\n",
      "[I 2024-08-31 23:33:02,277] Trial 97 finished with value: 0.33407252381749497 and parameters: {'n_hidden': 90}. Best is trial 38 with value: 0.3284836615164045.\n",
      "[I 2024-08-31 23:33:02,350] Trial 98 finished with value: 0.33358540790658864 and parameters: {'n_hidden': 94}. Best is trial 38 with value: 0.3284836615164045.\n",
      "[I 2024-08-31 23:33:02,431] Trial 99 finished with value: 0.33392594805039183 and parameters: {'n_hidden': 77}. Best is trial 38 with value: 0.3284836615164045.\n"
     ]
    },
    {
     "name": "stdout",
     "output_type": "stream",
     "text": [
      "Best n_hidden from BBO (Optuna): 88\n",
      "Best MSE from BBO (Optuna): 0.3284836615164045\n"
     ]
    }
   ],
   "source": [
    "import optuna\n",
    "\n",
    "# Define the objective function for Optuna\n",
    "def bbo_objective(trial):\n",
    "    n_hidden = trial.suggest_int(\"n_hidden\", 10, 100)\n",
    "    elm = ELM(n_hidden=n_hidden)\n",
    "    elm.fit(X_train_m1, y_train_m1)\n",
    "    y_pred = elm.predict(X_test_m1)\n",
    "    return mean_squared_error(y_test_m1, y_pred)\n",
    "\n",
    "# Create a study object and optimize the objective function\n",
    "study = optuna.create_study(direction=\"minimize\")\n",
    "study.optimize(bbo_objective, n_trials=100)\n",
    "\n",
    "# Best parameters and the corresponding MSE\n",
    "best_n_hidden_bbo = study.best_params['n_hidden']\n",
    "best_mse_bbo = study.best_value\n",
    "\n",
    "print(\"Best n_hidden from BBO (Optuna):\", best_n_hidden_bbo)\n",
    "print(\"Best MSE from BBO (Optuna):\", best_mse_bbo)\n"
   ]
  },
  {
   "cell_type": "code",
   "execution_count": 31,
   "metadata": {},
   "outputs": [
    {
     "name": "stdout",
     "output_type": "stream",
     "text": [
      "BBO (Optuna) Optimized ELM MSE (Train): 0.3525671539463645\n",
      "BBO (Optuna) Optimized ELM MSE (Test): 0.3381661555456773\n"
     ]
    }
   ],
   "source": [
    "# Train with BBO optimized parameters\n",
    "elm_bbo = ELM(n_hidden=best_n_hidden_bbo)\n",
    "elm_bbo.fit(X_train_m1, y_train_m1)\n",
    "\n",
    "y_train_pred_bbo = elm_bbo.predict(X_train_m1)\n",
    "y_test_pred_bbo = elm_bbo.predict(X_test_m1)\n",
    "\n",
    "mse_train_bbo = mean_squared_error(y_train_m1, y_train_pred_bbo)\n",
    "mse_test_bbo = mean_squared_error(y_test_m1, y_test_pred_bbo)\n",
    "\n",
    "print(\"BBO (Optuna) Optimized ELM MSE (Train):\", mse_train_bbo)\n",
    "print(\"BBO (Optuna) Optimized ELM MSE (Test):\", mse_test_bbo)\n",
    "\n",
    "# Save the predictions\n",
    "results_train_bbo = pd.DataFrame({'GroundTruth': y_train_m1, 'Predictions': y_train_pred_bbo})\n",
    "results_test_bbo = pd.DataFrame({'GroundTruth': y_test_m1, 'Predictions': y_test_pred_bbo})\n",
    "\n",
    "results_train_bbo.to_excel('outputs/M2elm_bbo_train_predictions.xlsx', index=False)\n",
    "results_test_bbo.to_excel('outputs/M2elm_bbo_test_predictions.xlsx', index=False)"
   ]
  },
  {
   "cell_type": "code",
   "execution_count": null,
   "metadata": {},
   "outputs": [],
   "source": []
  }
 ],
 "metadata": {
  "kernelspec": {
   "display_name": "mlenv",
   "language": "python",
   "name": "python3"
  },
  "language_info": {
   "codemirror_mode": {
    "name": "ipython",
    "version": 3
   },
   "file_extension": ".py",
   "mimetype": "text/x-python",
   "name": "python",
   "nbconvert_exporter": "python",
   "pygments_lexer": "ipython3",
   "version": "3.8.18"
  }
 },
 "nbformat": 4,
 "nbformat_minor": 2
}
